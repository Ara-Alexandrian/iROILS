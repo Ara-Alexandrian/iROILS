{
 "cells": [
  {
   "cell_type": "markdown",
   "metadata": {},
   "source": [
    "\n",
    "Author: Ara Alexandrian <br>Date: September 28, 2023\n",
    "\n",
    "This notebook contains functions for connecting to a Redis server, storing data to Redis, fetching specific events from Redis, converting events to a pandas DataFrame, and clearing the Redis cache.\n",
    "\n",
    "The functions included are:\n",
    "\n",
    "connect_to_redis: Connects to a Redis server using the provided host, port, and password.\n",
    "store_data_to_redis: Stores data from a pandas DataFrame to Redis.\n",
    "fetch_near_miss_events: Fetches all near-miss events from Redis, with an optional location filter.\n",
    "events_to_dataframe: Converts a list of events to a pandas DataFrame.\n",
    "clear_redis_cache: Clears all keys in all databases of the Redis server.\n",
    "To use these functions, you need to provide the Redis server details, such as host, port, and password. You also need to provide the path to an Excel file containing the data you want to store in Redis.\n",
    "\n",
    "Please note that you need to have the pandas and redis libraries installed in order to run these functions.\n",
    "\n"
   ]
  },
  {
   "cell_type": "code",
   "execution_count": 5,
   "metadata": {},
   "outputs": [],
   "source": [
    "import pandas as pd\n",
    "import redis"
   ]
  },
  {
   "cell_type": "code",
   "execution_count": 6,
   "metadata": {},
   "outputs": [],
   "source": [
    "def connect_to_redis(redis_host, redis_port, redis_password):\n",
    "    try:\n",
    "        # Connect to Redis server\n",
    "        r = redis.StrictRedis(host=redis_host, port=redis_port, password=redis_password, decode_responses=True)\n",
    "        return r\n",
    "    except redis.exceptions.ConnectionError as e:\n",
    "        print(f\"Failed to connect to Redis server: {e}\")\n",
    "        return None\n",
    "\n",
    "def store_data_to_redis(r, df):\n",
    "    try:\n",
    "        for index, row in df.iterrows():\n",
    "            # Convert the row to a dictionary and store it in Redis\n",
    "            # Use 'Event Number' instead of 'EventID'\n",
    "            event_number = row['Event Number']\n",
    "            event_data = row.to_dict()\n",
    "            r.hset(f\"event:{event_number}\", mapping=event_data)\n",
    "    except Exception as e:\n",
    "        print(f\"Failed to store data to Redis: {e}\")\n",
    "\n",
    "\n",
    "\n",
    "def fetch_near_miss_events(r, location_filter=None):\n",
    "    near_miss_events = []\n",
    "    cursor = 0\n",
    "    while True:\n",
    "        cursor, keys = r.scan(cursor=cursor, match='event:*', count=100)\n",
    "        for key in keys:\n",
    "            event_data = r.hgetall(key)\n",
    "            if (not location_filter or event_data.get('Location_Sub') == location_filter) and event_data.get('Classification') == 'Near-miss':\n",
    "                near_miss_events.append(event_data)\n",
    "        if cursor == 0:\n",
    "            break  # Exit the loop when the cursor is 0\n",
    "    return near_miss_events\n",
    "\n",
    "\n",
    "def events_to_dataframe(near_miss_events):\n",
    "    # Convert the list of dictionaries to a pandas DataFrame\n",
    "    events_df = pd.DataFrame(near_miss_events)\n",
    "    return events_df\n",
    "\n",
    "def clear_redis_cache(redis_host, redis_port, redis_password):\n",
    "    try:\n",
    "        # Connect to Redis server\n",
    "        r = redis.StrictRedis(host=redis_host, port=redis_port, password=redis_password, decode_responses=True)\n",
    "        \n",
    "        # Clear all keys in all databases\n",
    "        r.flushall()\n",
    "        print(\"Redis cache cleared successfully.\")\n",
    "    except redis.exceptions.ConnectionError as e:\n",
    "        print(f\"Failed to connect to Redis server: {e}\")"
   ]
  },
  {
   "cell_type": "code",
   "execution_count": 7,
   "metadata": {},
   "outputs": [
    {
     "name": "stdout",
     "output_type": "stream",
     "text": [
      "Redis cache cleared successfully.\n"
     ]
    }
   ],
   "source": [
    "# Load the data from Excel file\n",
    "excel_file_path = r'extracted.xlsx'  # Change this to your actual file path\n",
    "df = pd.read_excel(excel_file_path)\n",
    "\n",
    "# Assuming the Redis server is on localhost and the default port, with no password\n",
    "# Change these to your actual Redis server details\n",
    "redis_host = \"192.168.1.4\"\n",
    "redis_port = 6379\n",
    "redis_password = \"\"\n",
    "\n",
    "\n",
    "# Clear Redis cache uncomment to use\n",
    "clear_redis_cache(redis_host, redis_port, redis_password)\n",
    "\n",
    "# Fetch near miss events from Redis and store it in a DataFrame\n",
    "r = connect_to_redis(redis_host, redis_port, redis_password)\n",
    "if r is not None:\n",
    "    # Store the data from the spreadsheet to Redis\n",
    "    store_data_to_redis(r, df)\n"
   ]
  },
  {
   "cell_type": "code",
   "execution_count": 8,
   "metadata": {},
   "outputs": [
    {
     "name": "stdout",
     "output_type": "stream",
     "text": [
      "                                         Location_Sub    Date_Time_Submitted  \\\n",
      "0    HSROC, Hazelrig-Salter Radiation Oncology Center  4/12/2022 12:24:40 PM   \n",
      "1    HSROC, Hazelrig-Salter Radiation Oncology Center    7/5/2023 9:02:40 AM   \n",
      "2            TKC-AR, The Kirklin Clinic at Acton Road  9/11/2023 11:33:47 AM   \n",
      "3    HSROC, Hazelrig-Salter Radiation Oncology Center   5/5/2023 10:23:47 AM   \n",
      "4                                   UAB Proton Center   9/16/2022 9:19:00 AM   \n",
      "..                                                ...                    ...   \n",
      "102          TKC-AR, The Kirklin Clinic at Acton Road   2/23/2022 3:33:36 PM   \n",
      "103                                 UAB Proton Center   2/18/2022 7:14:45 PM   \n",
      "104                                 UAB Proton Center   8/30/2023 9:51:46 AM   \n",
      "105  HSROC, Hazelrig-Salter Radiation Oncology Center    8/9/2023 4:57:49 PM   \n",
      "106  HSROC, Hazelrig-Salter Radiation Oncology Center  11/19/2021 6:03:34 PM   \n",
      "\n",
      "    Event Number Classification  \\\n",
      "0          54758      Near-miss   \n",
      "1          75768      Near-miss   \n",
      "2          78883      Near-miss   \n",
      "3          73040      Near-miss   \n",
      "4          61508      Near-miss   \n",
      "..           ...            ...   \n",
      "102        52631      Near-miss   \n",
      "103        52467      Near-miss   \n",
      "104        78446      Near-miss   \n",
      "105        77434      Near-miss   \n",
      "106        49284      Near-miss   \n",
      "\n",
      "                                             Narrative  \n",
      "0    Physician missed gross tumor volume in contour...  \n",
      "1    Rx and plan laterality did not match. (r vs l ...  \n",
      "2    Spleen treatment and the eRX did not include a...  \n",
      "3    For a bilateral breast treatment with RNI on t...  \n",
      "4        Spinal Cord contour was not completed in ROI.  \n",
      "..                                                 ...  \n",
      "102  Patient's primary plan was planned on breath h...  \n",
      "103  After making the patient's head mold and right...  \n",
      "104  Physician has drawn 3 target volumes, but only...  \n",
      "105  On an adaptive treatment involving 5 pelvic no...  \n",
      "106  Patient dose was calculated using AAA_15511, a...  \n",
      "\n",
      "[107 rows x 5 columns]\n"
     ]
    }
   ],
   "source": [
    "    # Fetch near miss events from Redis\n",
    "    near_miss_events = fetch_near_miss_events(r, '')\n",
    "    events_df = events_to_dataframe(near_miss_events)\n",
    "\n",
    "    # Print the resulting DataFrame\n",
    "    print(events_df)\n"
   ]
  }
 ],
 "metadata": {
  "kernelspec": {
   "display_name": "iRoils",
   "language": "python",
   "name": "python3"
  },
  "language_info": {
   "codemirror_mode": {
    "name": "ipython",
    "version": 3
   },
   "file_extension": ".py",
   "mimetype": "text/x-python",
   "name": "python",
   "nbconvert_exporter": "python",
   "pygments_lexer": "ipython3",
   "version": "3.12.1"
  }
 },
 "nbformat": 4,
 "nbformat_minor": 2
}
