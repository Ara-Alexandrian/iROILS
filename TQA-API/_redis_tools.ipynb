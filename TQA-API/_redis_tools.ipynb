{
 "cells": [
  {
   "cell_type": "markdown",
   "metadata": {},
   "source": [
    "\n",
    "Author: Ara Alexandrian <br>Date: September 28, 2023\n",
    "\n",
    "This notebook contains functions for connecting to a Redis server, storing data to Redis, fetching specific events from Redis, converting events to a pandas DataFrame, and clearing the Redis cache.\n",
    "\n",
    "The functions included are:\n",
    "\n",
    "connect_to_redis: Connects to a Redis server using the provided host, port, and password.\n",
    "store_data_to_redis: Stores data from a pandas DataFrame to Redis.\n",
    "fetch_near_miss_events: Fetches all near-miss events from Redis, with an optional location filter.\n",
    "events_to_dataframe: Converts a list of events to a pandas DataFrame.\n",
    "clear_redis_cache: Clears all keys in all databases of the Redis server.\n",
    "To use these functions, you need to provide the Redis server details, such as host, port, and password. You also need to provide the path to an Excel file containing the data you want to store in Redis.\n",
    "\n",
    "Please note that you need to have the pandas and redis libraries installed in order to run these functions.\n",
    "\n"
   ]
  },
  {
   "cell_type": "code",
   "execution_count": 11,
   "metadata": {},
   "outputs": [],
   "source": [
    "import pandas as pd\n",
    "import redis"
   ]
  },
  {
   "cell_type": "code",
   "execution_count": 12,
   "metadata": {},
   "outputs": [],
   "source": [
    "def connect_to_redis(redis_host, redis_port, redis_password):\n",
    "    try:\n",
    "        # Connect to Redis server\n",
    "        r = redis.StrictRedis(host=redis_host, port=redis_port, password=redis_password, decode_responses=True)\n",
    "        return r\n",
    "    except redis.exceptions.ConnectionError as e:\n",
    "        print(f\"Failed to connect to Redis server: {e}\")\n",
    "        return None\n",
    "\n",
    "def store_data_to_redis(r, df):\n",
    "    try:\n",
    "        for index, row in df.iterrows():\n",
    "            # Convert the row to a dictionary and store it in Redis\n",
    "            # Use 'Event Number' instead of 'EventID'\n",
    "            event_number = row['Event Number']\n",
    "            event_data = row.to_dict()\n",
    "            r.hset(f\"event:{event_number}\", mapping=event_data)\n",
    "    except Exception as e:\n",
    "        print(f\"Failed to store data to Redis: {e}\")\n",
    "\n",
    "\n",
    "\n",
    "def fetch_near_miss_events(r, location_filter=None):\n",
    "    near_miss_events = []\n",
    "    cursor = 0\n",
    "    while True:\n",
    "        cursor, keys = r.scan(cursor=cursor, match='event:*', count=100)\n",
    "        for key in keys:\n",
    "            event_data = r.hgetall(key)\n",
    "            if (not location_filter or event_data.get('Location_Sub') == location_filter) and event_data.get('Classification') == 'Near-miss':\n",
    "                near_miss_events.append(event_data)\n",
    "        if cursor == 0:\n",
    "            break  # Exit the loop when the cursor is 0\n",
    "    return near_miss_events\n",
    "\n",
    "\n",
    "def events_to_dataframe(near_miss_events):\n",
    "    # Convert the list of dictionaries to a pandas DataFrame\n",
    "    events_df = pd.DataFrame(near_miss_events)\n",
    "    return events_df\n",
    "\n",
    "def clear_redis_cache(redis_host, redis_port, redis_password):\n",
    "    try:\n",
    "        # Connect to Redis server\n",
    "        r = redis.StrictRedis(host=redis_host, port=redis_port, password=redis_password, decode_responses=True)\n",
    "        \n",
    "        # Clear all keys in all databases\n",
    "        r.flushall()\n",
    "        print(\"Redis cache cleared successfully.\")\n",
    "    except redis.exceptions.ConnectionError as e:\n",
    "        print(f\"Failed to connect to Redis server: {e}\")"
   ]
  },
  {
   "cell_type": "code",
   "execution_count": 13,
   "metadata": {},
   "outputs": [
    {
     "name": "stdout",
     "output_type": "stream",
     "text": [
      "Redis cache cleared successfully.\n"
     ]
    }
   ],
   "source": [
    "# Load the data from Excel file\n",
    "excel_file_path = r'extracted.xlsx'  # Change this to your actual file path\n",
    "df = pd.read_excel(excel_file_path)\n",
    "\n",
    "# Assuming the Redis server is on localhost and the default port, with no password\n",
    "# Change these to your actual Redis server details\n",
    "redis_host = \"192.168.1.4\"\n",
    "redis_port = 6379\n",
    "redis_password = \"\"\n",
    "\n",
    "\n",
    "# Clear Redis cache uncomment to use\n",
    "clear_redis_cache(redis_host, redis_port, redis_password)\n",
    "\n",
    "# Fetch near miss events from Redis and store it in a DataFrame\n",
    "r = connect_to_redis(redis_host, redis_port, redis_password)\n",
    "if r is not None:\n",
    "    # Store the data from the spreadsheet to Redis\n",
    "    store_data_to_redis(r, df)\n"
   ]
  },
  {
   "cell_type": "code",
   "execution_count": 14,
   "metadata": {},
   "outputs": [
    {
     "name": "stdout",
     "output_type": "stream",
     "text": [
      "                                         Location_Sub     Date_Time_Submitted  \\\n",
      "0    HSROC, Hazelrig-Salter Radiation Oncology Center    9/3/2021 11:50:34 AM   \n",
      "1                                   UAB Proton Center    1/12/2022 9:55:56 AM   \n",
      "2                                   UAB Proton Center  10/14/2022 11:02:53 AM   \n",
      "3            TKC-AR, The Kirklin Clinic at Acton Road    11/2/2022 1:17:27 PM   \n",
      "4    HSROC, Hazelrig-Salter Radiation Oncology Center   8/29/2023 11:36:49 AM   \n",
      "..                                                ...                     ...   \n",
      "102  HSROC, Hazelrig-Salter Radiation Oncology Center    1/25/2021 8:46:38 AM   \n",
      "103          TKC-AR, The Kirklin Clinic at Acton Road    5/5/2022 12:16:28 PM   \n",
      "104                                 UAB Proton Center    2/6/2023 10:30:37 AM   \n",
      "105  HSROC, Hazelrig-Salter Radiation Oncology Center   10/10/2022 2:18:14 PM   \n",
      "106  HSROC, Hazelrig-Salter Radiation Oncology Center    4/19/2023 3:09:52 PM   \n",
      "\n",
      "    Event Number Classification  \\\n",
      "0          46406      Near-miss   \n",
      "1          50943      Near-miss   \n",
      "2          63055      Near-miss   \n",
      "3          64011      Near-miss   \n",
      "4          78395      Near-miss   \n",
      "..           ...            ...   \n",
      "102        39907      Near-miss   \n",
      "103        55955      Near-miss   \n",
      "104        68312      Near-miss   \n",
      "105        62815      Near-miss   \n",
      "106        72160      Near-miss   \n",
      "\n",
      "                                             Narrative  \n",
      "0    During the planning process, the physician req...  \n",
      "1    Breast patient's contours were released to dos...  \n",
      "2    prescription listed SIB targets that were not ...  \n",
      "3    X and Y jaws were overriden to wrong size on a...  \n",
      "4    TBI sent for reivew with less than 24 hours be...  \n",
      "..                                                 ...  \n",
      "102  While checking new starts, a gated patient was...  \n",
      "103  While doing a new start chart check, the presc...  \n",
      "104  Primary CTV not included in its entirety in th...  \n",
      "105  1.1 Medstinum plan did not have the Gating com...  \n",
      "106  Patient under treatment for breast on ix using...  \n",
      "\n",
      "[107 rows x 5 columns]\n"
     ]
    }
   ],
   "source": [
    "    # Fetch near miss events from Redis\n",
    "    near_miss_events = fetch_near_miss_events(r, '')\n",
    "    events_df = events_to_dataframe(near_miss_events)\n",
    "\n",
    "    # Print the resulting DataFrame\n",
    "    print(events_df)\n"
   ]
  }
 ],
 "metadata": {
  "kernelspec": {
   "display_name": "iRoils",
   "language": "python",
   "name": "python3"
  },
  "language_info": {
   "codemirror_mode": {
    "name": "ipython",
    "version": 3
   },
   "file_extension": ".py",
   "mimetype": "text/x-python",
   "name": "python",
   "nbconvert_exporter": "python",
   "pygments_lexer": "ipython3",
   "version": "3.12.1"
  }
 },
 "nbformat": 4,
 "nbformat_minor": 2
}
