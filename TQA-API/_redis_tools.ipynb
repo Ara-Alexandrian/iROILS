{
 "cells": [
  {
   "cell_type": "markdown",
   "metadata": {},
   "source": [
    "\n",
    "Author: Ara Alexandrian <br>Date: September 28, 2023\n",
    "\n",
    "This notebook contains functions for connecting to a Redis server, storing data to Redis, fetching specific events from Redis, converting events to a pandas DataFrame, and clearing the Redis cache.\n",
    "\n",
    "The functions included are:\n",
    "\n",
    "connect_to_redis: Connects to a Redis server using the provided host, port, and password.\n",
    "store_data_to_redis: Stores data from a pandas DataFrame to Redis.\n",
    "fetch_near_miss_events: Fetches all near-miss events from Redis, with an optional location filter.\n",
    "events_to_dataframe: Converts a list of events to a pandas DataFrame.\n",
    "clear_redis_cache: Clears all keys in all databases of the Redis server.\n",
    "To use these functions, you need to provide the Redis server details, such as host, port, and password. You also need to provide the path to an Excel file containing the data you want to store in Redis.\n",
    "\n",
    "Please note that you need to have the pandas and redis libraries installed in order to run these functions.\n",
    "\n"
   ]
  },
  {
   "cell_type": "code",
   "execution_count": 1,
   "metadata": {},
   "outputs": [
    {
     "name": "stderr",
     "output_type": "stream",
     "text": [
      "/tmp/ipykernel_13687/1335698876.py:1: DeprecationWarning: \n",
      "Pyarrow will become a required dependency of pandas in the next major release of pandas (pandas 3.0),\n",
      "(to allow more performant data types, such as the Arrow string type, and better interoperability with other libraries)\n",
      "but was not found to be installed on your system.\n",
      "If this would cause problems for you,\n",
      "please provide us feedback at https://github.com/pandas-dev/pandas/issues/54466\n",
      "        \n",
      "  import pandas as pd\n"
     ]
    }
   ],
   "source": [
    "import pandas as pd\n",
    "import redis"
   ]
  },
  {
   "cell_type": "code",
   "execution_count": 2,
   "metadata": {},
   "outputs": [],
   "source": [
    "def connect_to_redis(redis_host, redis_port, redis_password):\n",
    "    try:\n",
    "        # Connect to Redis server\n",
    "        r = redis.StrictRedis(host=redis_host, port=redis_port, password=redis_password, decode_responses=True)\n",
    "        return r\n",
    "    except redis.exceptions.ConnectionError as e:\n",
    "        print(f\"Failed to connect to Redis server: {e}\")\n",
    "        return None\n",
    "\n",
    "def store_data_to_redis(r, df):\n",
    "    try:\n",
    "        for index, row in df.iterrows():\n",
    "            # Convert the row to a dictionary and store it in Redis\n",
    "            # Use 'Event Number' instead of 'EventID'\n",
    "            event_number = row['Event Number']\n",
    "            event_data = row.to_dict()\n",
    "            r.hset(f\"event:{event_number}\", mapping=event_data)\n",
    "    except Exception as e:\n",
    "        print(f\"Failed to store data to Redis: {e}\")\n",
    "\n",
    "\n",
    "\n",
    "def fetch_near_miss_events(r, location_filter=None):\n",
    "    near_miss_events = []\n",
    "    cursor = 0\n",
    "    while True:\n",
    "        cursor, keys = r.scan(cursor=cursor, match='event:*', count=100)\n",
    "        for key in keys:\n",
    "            event_data = r.hgetall(key)\n",
    "            if (not location_filter or event_data.get('Location_Sub') == location_filter) and event_data.get('Classification') == 'Near-miss':\n",
    "                near_miss_events.append(event_data)\n",
    "        if cursor == 0:\n",
    "            break  # Exit the loop when the cursor is 0\n",
    "    return near_miss_events\n",
    "\n",
    "\n",
    "def events_to_dataframe(near_miss_events):\n",
    "    # Convert the list of dictionaries to a pandas DataFrame\n",
    "    events_df = pd.DataFrame(near_miss_events)\n",
    "    return events_df\n",
    "\n",
    "def clear_redis_cache(redis_host, redis_port, redis_password):\n",
    "    try:\n",
    "        # Connect to Redis server\n",
    "        r = redis.StrictRedis(host=redis_host, port=redis_port, password=redis_password, decode_responses=True)\n",
    "        \n",
    "        # Clear all keys in all databases\n",
    "        r.flushall()\n",
    "        print(\"Redis cache cleared successfully.\")\n",
    "    except redis.exceptions.ConnectionError as e:\n",
    "        print(f\"Failed to connect to Redis server: {e}\")"
   ]
  },
  {
   "cell_type": "code",
   "execution_count": 3,
   "metadata": {},
   "outputs": [
    {
     "name": "stdout",
     "output_type": "stream",
     "text": [
      "Redis cache cleared successfully.\n"
     ]
    }
   ],
   "source": [
    "# Load the data from Excel file\n",
    "excel_file_path = r'extracted.xlsx'  # Change this to your actual file path\n",
    "df = pd.read_excel(excel_file_path)\n",
    "\n",
    "# Assuming the Redis server is on localhost and the default port, with no password\n",
    "# Change these to your actual Redis server details\n",
    "redis_host = \"192.168.1.4\"\n",
    "redis_port = 6379\n",
    "redis_password = \"\"\n",
    "\n",
    "\n",
    "# Clear Redis cache uncomment to use\n",
    "clear_redis_cache(redis_host, redis_port, redis_password)\n",
    "\n",
    "# Fetch near miss events from Redis and store it in a DataFrame\n",
    "r = connect_to_redis(redis_host, redis_port, redis_password)\n",
    "if r is not None:\n",
    "    # Store the data from the spreadsheet to Redis\n",
    "    store_data_to_redis(r, df)\n"
   ]
  },
  {
   "cell_type": "code",
   "execution_count": 4,
   "metadata": {},
   "outputs": [
    {
     "name": "stdout",
     "output_type": "stream",
     "text": [
      "    Classification                                      Location_Sub  \\\n",
      "0        Near-miss          TKC-AR, The Kirklin Clinic at Acton Road   \n",
      "1        Near-miss          TKC-AR, The Kirklin Clinic at Acton Road   \n",
      "2        Near-miss                                 UAB Proton Center   \n",
      "3        Near-miss          TKC-AR, The Kirklin Clinic at Acton Road   \n",
      "4        Near-miss          TKC-AR, The Kirklin Clinic at Acton Road   \n",
      "..             ...                                               ...   \n",
      "102      Near-miss  HSROC, Hazelrig-Salter Radiation Oncology Center   \n",
      "103      Near-miss          TKC-AR, The Kirklin Clinic at Acton Road   \n",
      "104      Near-miss  HSROC, Hazelrig-Salter Radiation Oncology Center   \n",
      "105      Near-miss  HSROC, Hazelrig-Salter Radiation Oncology Center   \n",
      "106      Near-miss                                 UAB Proton Center   \n",
      "\n",
      "        Date_Time_Submitted Event Number  \\\n",
      "0      8/16/2021 4:18:42 PM        45836   \n",
      "1    12/23/2020 12:41:06 PM        39231   \n",
      "2     7/29/2021 12:51:15 PM        45342   \n",
      "3      3/29/2023 9:34:25 AM        70921   \n",
      "4     7/28/2023 10:59:02 AM        76875   \n",
      "..                      ...          ...   \n",
      "102    8/23/2023 3:42:32 PM        78109   \n",
      "103    5/5/2022 12:16:28 PM        55955   \n",
      "104    5/10/2023 9:15:58 AM        73256   \n",
      "105   8/29/2023 11:36:49 AM        78395   \n",
      "106   8/24/2022 11:51:18 AM        60568   \n",
      "\n",
      "                                             Narrative  \n",
      "0    The patient was re-simulated due to cradle shr...  \n",
      "1    Breath hold threshold set to .61cm vs .5cm at ...  \n",
      "2    CTV high and CTV mid drawn outside of body. Th...  \n",
      "3    The yellow sheet was labeled that patient woul...  \n",
      "4    Prostate patient was imaged to check bladder f...  \n",
      "..                                                 ...  \n",
      "102  Patient had a cardiac loop recorder implanted ...  \n",
      "103  While doing a new start chart check, the presc...  \n",
      "104  Patient was scheduled to start a boost 5/11, p...  \n",
      "105  TBI sent for reivew with less than 24 hours be...  \n",
      "106  protocol patient was given a start time for pr...  \n",
      "\n",
      "[107 rows x 5 columns]\n"
     ]
    }
   ],
   "source": [
    "    # Fetch near miss events from Redis\n",
    "    near_miss_events = fetch_near_miss_events(r, '')\n",
    "    events_df = events_to_dataframe(near_miss_events)\n",
    "\n",
    "    # Print the resulting DataFrame\n",
    "    print(events_df)\n"
   ]
  }
 ],
 "metadata": {
  "kernelspec": {
   "display_name": "iRoils",
   "language": "python",
   "name": "python3"
  },
  "language_info": {
   "codemirror_mode": {
    "name": "ipython",
    "version": 3
   },
   "file_extension": ".py",
   "mimetype": "text/x-python",
   "name": "python",
   "nbconvert_exporter": "python",
   "pygments_lexer": "ipython3",
   "version": "3.9.0"
  }
 },
 "nbformat": 4,
 "nbformat_minor": 2
}
