{
 "cells": [
  {
   "cell_type": "code",
   "execution_count": 6,
   "metadata": {},
   "outputs": [
    {
     "ename": "KeyError",
     "evalue": "'REDIS'",
     "output_type": "error",
     "traceback": [
      "\u001b[0;31m---------------------------------------------------------------------------\u001b[0m",
      "\u001b[0;31mKeyError\u001b[0m                                  Traceback (most recent call last)",
      "\u001b[1;32m/config/workspace/github/iROILS/LLM-inferencing/redis.ipynb Cell 1\u001b[0m line \u001b[0;36m1\n\u001b[1;32m     <a href='vscode-notebook-cell://cs.a-naviq.com/config/workspace/github/iROILS/LLM-inferencing/redis.ipynb#W0sdnNjb2RlLXJlbW90ZQ%3D%3D?line=10'>11</a>\u001b[0m \u001b[39m# Create an instance of the RedisManager class\u001b[39;00m\n\u001b[1;32m     <a href='vscode-notebook-cell://cs.a-naviq.com/config/workspace/github/iROILS/LLM-inferencing/redis.ipynb#W0sdnNjb2RlLXJlbW90ZQ%3D%3D?line=11'>12</a>\u001b[0m manager \u001b[39m=\u001b[39m RedisManager()\n\u001b[0;32m---> <a href='vscode-notebook-cell://cs.a-naviq.com/config/workspace/github/iROILS/LLM-inferencing/redis.ipynb#W0sdnNjb2RlLXJlbW90ZQ%3D%3D?line=12'>13</a>\u001b[0m manager2 \u001b[39m=\u001b[39m RedisManager2()\n\u001b[1;32m     <a href='vscode-notebook-cell://cs.a-naviq.com/config/workspace/github/iROILS/LLM-inferencing/redis.ipynb#W0sdnNjb2RlLXJlbW90ZQ%3D%3D?line=14'>15</a>\u001b[0m \u001b[39m# manager.run_all_summaries_and_evaluations()\u001b[39;00m\n",
      "File \u001b[0;32m~/workspace/github/iROILS/LLM-inferencing/redis_class2.py:18\u001b[0m, in \u001b[0;36mRedisManager2.__init__\u001b[0;34m(self)\u001b[0m\n\u001b[1;32m     14\u001b[0m \u001b[39mself\u001b[39m\u001b[39m.\u001b[39mconfig\u001b[39m.\u001b[39mread(\u001b[39m'\u001b[39m\u001b[39mconfig.ini\u001b[39m\u001b[39m'\u001b[39m)  \u001b[39m# Assuming 'config.ini' is in the current directory\u001b[39;00m\n\u001b[1;32m     16\u001b[0m \u001b[39m# Initialize Redis connection\u001b[39;00m\n\u001b[1;32m     17\u001b[0m \u001b[39mself\u001b[39m\u001b[39m.\u001b[39mredis_conn \u001b[39m=\u001b[39m redis\u001b[39m.\u001b[39mRedis(\n\u001b[0;32m---> 18\u001b[0m     host\u001b[39m=\u001b[39m\u001b[39mself\u001b[39;49m\u001b[39m.\u001b[39;49mconfig[\u001b[39m'\u001b[39;49m\u001b[39mREDIS\u001b[39;49m\u001b[39m'\u001b[39;49m][\u001b[39m'\u001b[39m\u001b[39mHOST\u001b[39m\u001b[39m'\u001b[39m],\n\u001b[1;32m     19\u001b[0m     port\u001b[39m=\u001b[39m\u001b[39mint\u001b[39m(\u001b[39mself\u001b[39m\u001b[39m.\u001b[39mconfig[\u001b[39m'\u001b[39m\u001b[39mREDIS\u001b[39m\u001b[39m'\u001b[39m][\u001b[39m'\u001b[39m\u001b[39mPORT\u001b[39m\u001b[39m'\u001b[39m]),\n\u001b[1;32m     20\u001b[0m     db\u001b[39m=\u001b[39m\u001b[39mint\u001b[39m(\u001b[39mself\u001b[39m\u001b[39m.\u001b[39mconfig[\u001b[39m'\u001b[39m\u001b[39mREDIS\u001b[39m\u001b[39m'\u001b[39m][\u001b[39m'\u001b[39m\u001b[39mDB\u001b[39m\u001b[39m'\u001b[39m]),\n\u001b[1;32m     21\u001b[0m     decode_responses\u001b[39m=\u001b[39m\u001b[39mTrue\u001b[39;00m  \u001b[39m# Automatically decode responses to Python strings\u001b[39;00m\n\u001b[1;32m     22\u001b[0m )\n\u001b[1;32m     24\u001b[0m \u001b[39m# Load API endpoint from config\u001b[39;00m\n\u001b[1;32m     25\u001b[0m \u001b[39mself\u001b[39m\u001b[39m.\u001b[39mapi_endpoint \u001b[39m=\u001b[39m \u001b[39mself\u001b[39m\u001b[39m.\u001b[39mconfig[\u001b[39m'\u001b[39m\u001b[39mAPI\u001b[39m\u001b[39m'\u001b[39m][\u001b[39m'\u001b[39m\u001b[39mendpoint\u001b[39m\u001b[39m'\u001b[39m]\n",
      "File \u001b[0;32m~/miniconda3/envs/iroils39/lib/python3.9/configparser.py:963\u001b[0m, in \u001b[0;36mRawConfigParser.__getitem__\u001b[0;34m(self, key)\u001b[0m\n\u001b[1;32m    961\u001b[0m \u001b[39mdef\u001b[39;00m \u001b[39m__getitem__\u001b[39m(\u001b[39mself\u001b[39m, key):\n\u001b[1;32m    962\u001b[0m     \u001b[39mif\u001b[39;00m key \u001b[39m!=\u001b[39m \u001b[39mself\u001b[39m\u001b[39m.\u001b[39mdefault_section \u001b[39mand\u001b[39;00m \u001b[39mnot\u001b[39;00m \u001b[39mself\u001b[39m\u001b[39m.\u001b[39mhas_section(key):\n\u001b[0;32m--> 963\u001b[0m         \u001b[39mraise\u001b[39;00m \u001b[39mKeyError\u001b[39;00m(key)\n\u001b[1;32m    964\u001b[0m     \u001b[39mreturn\u001b[39;00m \u001b[39mself\u001b[39m\u001b[39m.\u001b[39m_proxies[key]\n",
      "\u001b[0;31mKeyError\u001b[0m: 'REDIS'"
     ]
    }
   ],
   "source": [
    "# Import the RedisManager class from your Python script\n",
    "from redis_class import RedisManager\n",
    "from redis_class2 import RedisManager2\n",
    "\n",
    "\n",
    "\n",
    "\n",
    "\n",
    "\n",
    "\n",
    "# Create an instance of the RedisManager class\n",
    "manager = RedisManager()\n",
    "manager2 = RedisManager2()\n",
    "\n",
    "# manager.run_all_summaries_and_evaluations()\n",
    "\n",
    "\n"
   ]
  },
  {
   "cell_type": "code",
   "execution_count": 4,
   "metadata": {},
   "outputs": [
    {
     "ename": "AttributeError",
     "evalue": "'RedisManager' object has no attribute 'process_and_update_redis_data'",
     "output_type": "error",
     "traceback": [
      "\u001b[0;31m---------------------------------------------------------------------------\u001b[0m",
      "\u001b[0;31mAttributeError\u001b[0m                            Traceback (most recent call last)",
      "\u001b[1;32m/config/workspace/github/iROILS/LLM-inferencing/redis.ipynb Cell 2\u001b[0m line \u001b[0;36m8\n\u001b[1;32m      <a href='vscode-notebook-cell://cs.a-naviq.com/config/workspace/github/iROILS/LLM-inferencing/redis.ipynb#W1sdnNjb2RlLXJlbW90ZQ%3D%3D?line=0'>1</a>\u001b[0m \u001b[39m# Check if the Redis connection was successfully created\u001b[39;00m\n\u001b[1;32m      <a href='vscode-notebook-cell://cs.a-naviq.com/config/workspace/github/iROILS/LLM-inferencing/redis.ipynb#W1sdnNjb2RlLXJlbW90ZQ%3D%3D?line=1'>2</a>\u001b[0m \u001b[39mif\u001b[39;00m manager\u001b[39m.\u001b[39mredis_conn:\n\u001b[1;32m      <a href='vscode-notebook-cell://cs.a-naviq.com/config/workspace/github/iROILS/LLM-inferencing/redis.ipynb#W1sdnNjb2RlLXJlbW90ZQ%3D%3D?line=2'>3</a>\u001b[0m     \u001b[39m# Clear model data\u001b[39;00m\n\u001b[1;32m      <a href='vscode-notebook-cell://cs.a-naviq.com/config/workspace/github/iROILS/LLM-inferencing/redis.ipynb#W1sdnNjb2RlLXJlbW90ZQ%3D%3D?line=3'>4</a>\u001b[0m     \u001b[39m# Uncomment the next line to clear specific model data\u001b[39;00m\n\u001b[1;32m      <a href='vscode-notebook-cell://cs.a-naviq.com/config/workspace/github/iROILS/LLM-inferencing/redis.ipynb#W1sdnNjb2RlLXJlbW90ZQ%3D%3D?line=4'>5</a>\u001b[0m     \u001b[39m# manager.clear_model_data(model_name=\"mistral\", field_name=\"LLM Summary\")\u001b[39;00m\n\u001b[0;32m----> <a href='vscode-notebook-cell://cs.a-naviq.com/config/workspace/github/iROILS/LLM-inferencing/redis.ipynb#W1sdnNjb2RlLXJlbW90ZQ%3D%3D?line=7'>8</a>\u001b[0m     manager\u001b[39m.\u001b[39;49mprocess_and_update_redis_data()\n\u001b[1;32m     <a href='vscode-notebook-cell://cs.a-naviq.com/config/workspace/github/iROILS/LLM-inferencing/redis.ipynb#W1sdnNjb2RlLXJlbW90ZQ%3D%3D?line=9'>10</a>\u001b[0m     \u001b[39m# Generate summaries\u001b[39;00m\n\u001b[1;32m     <a href='vscode-notebook-cell://cs.a-naviq.com/config/workspace/github/iROILS/LLM-inferencing/redis.ipynb#W1sdnNjb2RlLXJlbW90ZQ%3D%3D?line=10'>11</a>\u001b[0m     \u001b[39m# manager.generate_summaries(resume=False)\u001b[39;00m\n\u001b[1;32m     <a href='vscode-notebook-cell://cs.a-naviq.com/config/workspace/github/iROILS/LLM-inferencing/redis.ipynb#W1sdnNjb2RlLXJlbW90ZQ%3D%3D?line=11'>12</a>\u001b[0m     \u001b[39m# generate_all_summaries\u001b[39;00m\n\u001b[0;32m   (...)\u001b[0m\n\u001b[1;32m     <a href='vscode-notebook-cell://cs.a-naviq.com/config/workspace/github/iROILS/LLM-inferencing/redis.ipynb#W1sdnNjb2RlLXJlbW90ZQ%3D%3D?line=17'>18</a>\u001b[0m     \u001b[39m# manager.create_excel_from_redis()\u001b[39;00m\n\u001b[1;32m     <a href='vscode-notebook-cell://cs.a-naviq.com/config/workspace/github/iROILS/LLM-inferencing/redis.ipynb#W1sdnNjb2RlLXJlbW90ZQ%3D%3D?line=18'>19</a>\u001b[0m \u001b[39melse\u001b[39;00m:\n\u001b[1;32m     <a href='vscode-notebook-cell://cs.a-naviq.com/config/workspace/github/iROILS/LLM-inferencing/redis.ipynb#W1sdnNjb2RlLXJlbW90ZQ%3D%3D?line=19'>20</a>\u001b[0m     \u001b[39mprint\u001b[39m(\u001b[39m\"\u001b[39m\u001b[39mFailed to connect to Redis server.\u001b[39m\u001b[39m\"\u001b[39m)\n",
      "\u001b[0;31mAttributeError\u001b[0m: 'RedisManager' object has no attribute 'process_and_update_redis_data'"
     ]
    }
   ],
   "source": [
    "# Check if the Redis connection was successfully created\n",
    "if manager.redis_conn:\n",
    "    # Clear model data\n",
    "    # Uncomment the next line to clear specific model data\n",
    "    # manager.clear_model_data(model_name=\"mistral\", field_name=\"LLM Summary\")\n",
    "\n",
    "\n",
    "    manager.process_and_update_redis_data()\n",
    "\n",
    "    # Generate summaries\n",
    "    # manager.generate_summaries(resume=False)\n",
    "    # generate_all_summaries\n",
    "\n",
    "    # Generate evaluations\n",
    "    # manager.evaluate_summaries(resume=False)\n",
    "\n",
    "    # Create Excel from Redis\n",
    "    # manager.create_excel_from_redis()\n",
    "else:\n",
    "    print(\"Failed to connect to Redis server.\")"
   ]
  },
  {
   "cell_type": "code",
   "execution_count": null,
   "metadata": {},
   "outputs": [],
   "source": [
    "# Import the RedisManager class from your Python script\n",
    "from redis_class import RedisManager\n",
    "\n",
    "\n",
    "# Create an instance of the RedisManager class\n",
    "manager = RedisManager()\n",
    "if manager.redis_conn:\n",
    "    # Specify the event id for the entry you want to re-evaluate\n",
    "    # event_id = ['59361', '38057', '38615', '75163', '72160', '45230', '43864', '61667', '61508', '53903', '44064', '64181', '69297', '37776', '74411', '38058', '46293', '56907', '38598', '60346', '39399', '39808']\n",
    "        \n",
    "    # event_id = ['39686', '78433', '41294', '39983', '38963', '43251', '60669', '39312', '49258']\n",
    "    # Regenerate the summary and evaluation for this event\n",
    "    \n",
    "\n",
    "    event_id = ['44066', '78404' ]\n",
    "\n",
    "    for ID in event_id:\n",
    "        manager.regenerate_summary_and_evaluation(ID, summary_model_name='mistral', eval_model_name='mixtral')\n",
    "\n",
    "    # Create Excel from Redis\n",
    "    manager.create_excel_from_redis()"
   ]
  }
 ],
 "metadata": {
  "kernelspec": {
   "display_name": "iRoils",
   "language": "python",
   "name": "python3"
  },
  "language_info": {
   "codemirror_mode": {
    "name": "ipython",
    "version": 3
   },
   "file_extension": ".py",
   "mimetype": "text/x-python",
   "name": "python",
   "nbconvert_exporter": "python",
   "pygments_lexer": "ipython3",
   "version": "3.9.18"
  }
 },
 "nbformat": 4,
 "nbformat_minor": 2
}
