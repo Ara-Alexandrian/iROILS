{
 "cells": [
  {
   "cell_type": "code",
   "execution_count": null,
   "metadata": {},
   "outputs": [],
   "source": [
    "# Import the RedisManager class from your Python script\n",
    "from redis_class import RedisManager\n",
    "\n",
    "\n",
    "# Create an instance of the RedisManager class\n",
    "manager = RedisManager()\n"
   ]
  },
  {
   "cell_type": "code",
   "execution_count": null,
   "metadata": {},
   "outputs": [],
   "source": [
    "\n",
    "# Check if the Redis connection was successfully created\n",
    "if manager.redis_conn:\n",
    "    # Clear model data\n",
    "    # manager.clear_model_data(model_name=\"mistral\", field_name=\"LLM Summary\")\n",
    "    # manager.clear_model_data(never use it blank)\n",
    "\n",
    "    # Generate summaries\n",
    "    # manager.generate_summaries(resume=False)\n",
    "\n",
    "    # Generate evaluations\n",
    "    # manager.evaluate_summaries(resume=False)\n",
    "\n",
    "    # Create Excel from Redis\n",
    "    manager.create_excel_from_redis()\n",
    "else:\n",
    "    print(\"Failed to connect to Redis server.\")\n"
   ]
  },
  {
   "cell_type": "code",
   "execution_count": 1,
   "metadata": {},
   "outputs": [
    {
     "name": "stdout",
     "output_type": "stream",
     "text": [
      "Summary for model 'mistral' successfully generated for key: event:44066\n",
      "Generated summary: \n",
      "\n",
      "A patient with two isocenters on the left side of their body (one in the left humerus and one in the left ribs) required a radiation therapy treatment plan. The gantry was planned to rotate for the posterior-anterior (PA) field towards the patient's right side (359 degrees). However, it would have been more efficient if the PA field with the gantry had been at 1 or 0 degrees instead. There was also a risk of collision due to the need to move the table laterally to rotate the gantry under the table and then place it back to the isocenter.\n",
      "Evaluation for model 'mixtral' successfully generated for key: event:44066\n",
      "Redis cache updated correctly for key: event:44066\n",
      "Generated evaluation: Grade: Similar. The summary accurately captures the main points of the narrative, including the two isocenters on the left side of the body, the planned rotation of the gantry for the PA field towards the patient's right side, and the collision risk due to the need to move the table laterally. However, the summary does not explicitly mention that it would have been more efficient if the PA field with the gantry had been at 1 or 0 degrees instead. Nonetheless, this is a minor omission that does not significantly affect the overall meaning of the summary.\n",
      "Summary for model 'mistral' successfully generated for key: event:78404\n",
      "Generated summary: \n",
      "\n",
      "The treatment session was identified to have incorrect or inaccurate labeling of field names with respect to the actual gantry angles.\n",
      "Evaluation for model 'mixtral' successfully generated for key: event:78404\n",
      "Redis cache updated correctly for key: event:78404\n",
      "Generated evaluation: Grade: Identical\n",
      "\n",
      "The summary accurately reflects the issue described in the narrative, stating that there was incorrect or inaccurate labeling of field names with respect to the actual gantry angles during a treatment session. The use of different wording does not affect the meaning conveyed and both statements describe the same problem.\n"
     ]
    }
   ],
   "source": [
    "# Import the RedisManager class from your Python script\n",
    "from redis_class import RedisManager\n",
    "\n",
    "\n",
    "# Create an instance of the RedisManager class\n",
    "manager = RedisManager()\n",
    "if manager.redis_conn:\n",
    "    # Specify the event id for the entry you want to re-evaluate\n",
    "    # event_id = ['59361', '38057', '38615', '75163', '72160', '45230', '43864', '61667', '61508', '53903', '44064', '64181', '69297', '37776', '74411', '38058', '46293', '56907', '38598', '60346', '39399', '39808']\n",
    "        \n",
    "    # event_id = ['39686', '78433', '41294', '39983', '38963', '43251', '60669', '39312', '49258']\n",
    "    # Regenerate the summary and evaluation for this event\n",
    "    \n",
    "\n",
    "    event_id = ['44066', '78404' ]\n",
    "\n",
    "    for ID in event_id:\n",
    "        manager.regenerate_summary_and_evaluation(ID, summary_model_name='mistral', eval_model_name='mixtral')\n",
    "\n",
    "    # Create Excel from Redis\n",
    "    manager.create_excel_from_redis()"
   ]
  }
 ],
 "metadata": {
  "kernelspec": {
   "display_name": "iRoils",
   "language": "python",
   "name": "python3"
  },
  "language_info": {
   "codemirror_mode": {
    "name": "ipython",
    "version": 3
   },
   "file_extension": ".py",
   "mimetype": "text/x-python",
   "name": "python",
   "nbconvert_exporter": "python",
   "pygments_lexer": "ipython3",
   "version": "3.12.1"
  }
 },
 "nbformat": 4,
 "nbformat_minor": 2
}
