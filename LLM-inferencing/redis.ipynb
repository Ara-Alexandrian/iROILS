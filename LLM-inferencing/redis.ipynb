{
 "cells": [
  {
   "cell_type": "code",
   "execution_count": 6,
   "metadata": {},
   "outputs": [
    {
     "name": "stderr",
     "output_type": "stream",
     "text": [
      "\n",
      "\n",
      "\n",
      "\u001b[A\u001b[A\u001b[A\n",
      "\n",
      "\n",
      "\u001b[A\u001b[A\u001b[A"
     ]
    },
    {
     "name": "stdout",
     "output_type": "stream",
     "text": [
      "\n",
      "[Success] Evaluation for model 'mixtral' successfully generated for key: event:71400\n",
      "\n",
      "[Narrative]:\n",
      "MD was planning on treating patient on the Ethos but the sim order did not include that. The patient said something about her treatments had to be downtown. We asked the MD and that  is when they told us the plan was to treat on the Ethos.\n",
      "\n",
      "\n",
      "[Summary]:\n",
      "\n",
      "\n",
      "A doctor, identified as MD, intended to administer treatment to a patient on the Ethos device, but the simulation order did not specify this. The patient mentioned that her treatments needed to be in a downtown location. When asked about the discrepancy, the MD revealed that the plan was to treat the patient on the Ethos.\n",
      "\n",
      "\n",
      "[Evaluation]:\n",
      "\n",
      "\n",
      "Evaluation: Identical\n",
      "\n",
      "Explanation: The summary accurately reflects the narrative by stating that the doctor (MD) intended to treat the patient on the Ethos but the simulation order did not include it, and that the patient specified her treatments needed to be downtown. The summary also correctly mentions that when asked about the discrepancy, the MD revealed that the plan was to treat the patient on the Ethos. Both the narrative and the summary convey the same information and meaning, making the evaluation 'Identical'.\n",
      "\n"
     ]
    },
    {
     "name": "stderr",
     "output_type": "stream",
     "text": [
      "\n",
      "\n",
      "\n",
      "\u001b[A\u001b[A\u001b[A"
     ]
    },
    {
     "name": "stdout",
     "output_type": "stream",
     "text": [
      "\n",
      "[Success] Evaluation for model 'mixtral' successfully generated for key: event:40882\n",
      "\n",
      "[Narrative]:\n",
      "Approx. three weeks after a QACT simulation had been performed, the attending MD noted that he had never reviewed the QACT plan. He spoke with planning dosimetrist and asked if they were aware of this, at which point the dosimetrist reached out to sim to see if the scan still existed. It was available at which point the dosimetrist was able to get the QACT plan ready for MD review. Simulation staff never changed the task on processmaker (three weeks ago, at time of sim) for anyone to know that it was complete and needed further work.\n",
      "\n",
      "\n",
      "[Summary]:\n",
      "\n",
      "\n",
      "A medical professional discovered around three weeks after a Quality Assurance and Control Team (QACT) simulation that he had not reviewed the QACT plan. He inquired with the planning dosimetrist about this matter, who then contacted the simulation team to check if the scan was still accessible. The scan was found and the dosimetrist prepared the QACT plan for the medical professional's review. No one had updated the task on the process maker to indicate that the simulation was complete and required further attention.\n",
      "\n",
      "\n",
      "[Evaluation]:\n",
      "\n",
      "\n",
      "Evaluation: Identical\n",
      "\n",
      "Explanation: The generated summary accurately captures the main points of the narrative, including the time frame, the role of the medical professional, the actions taken by the planning dosimetrist, and the failure to update the task on ProcessMaker. The summary is concise and clear, conveying the same overall message as the narrative.\n",
      "\n"
     ]
    },
    {
     "name": "stderr",
     "output_type": "stream",
     "text": [
      "\n",
      "\n",
      "\n",
      "\u001b[A\u001b[A\u001b[A"
     ]
    },
    {
     "name": "stdout",
     "output_type": "stream",
     "text": [
      "\n",
      "[Success] Evaluation for model 'mixtral' successfully generated for key: event:40512\n",
      "\n",
      "[Narrative]:\n",
      "Current patient on fraction 7 was on the table. Attempted to open plan, no plan was treatment approved. No notifications were sent to therapy stating there was a replan in the works. Had to take patient down because no one knew what was going on. Physics told therapy to not get patient back on to table until heard back. Did not hear back from them, therapist checked email. Email was sent with replan paperwork but therapy was not notified via phone call. Patient was in dressing room crying because she was scared, and thought something was seriously wrong with her treatment/cancer growth. Dosimetry stated in the ROILS meeting last week that they would be notifying therapy via email if a patient was being replanned, this was not done.\n",
      "\n",
      "\n",
      "[Summary]:\n",
      " The event describes a situation where a patient on their seventh fraction of cancer treatment was prepared for a new plan but no one informed the therapy team about it. As a result, the patient was taken down from the table and kept waiting in the dressing room, scared and confused. The therapy team only found out about the replan when they checked their emails. There was a miscommunication between the dosimetry team and the therapy team regarding notification methods.\n",
      "\n",
      "\n",
      "[Evaluation]:\n",
      "\n",
      "\n",
      "Evaluation: Similar\n",
      "\n",
      "Explanation: The generated summary accurately captures the main points of the narrative, including the lack of communication about the replan between the dosimetry and therapy teams, the patient's fear and confusion, and the eventual discovery of the replan via email. However, the summary does not explicitly mention that no plan was treatment approved or that the physics team instructed the therapy team to keep the patient off the table until they heard back. These details are important for a complete understanding of the situation but do not significantly change the overall meaning of the narrative. Therefore, I assess the summary as 'Similar' to the narrative.\n",
      "\n"
     ]
    },
    {
     "name": "stderr",
     "output_type": "stream",
     "text": [
      "\n",
      "\n",
      "\n",
      "\u001b[A\u001b[A\u001b[A"
     ]
    },
    {
     "name": "stdout",
     "output_type": "stream",
     "text": [
      "\n",
      "[Success] Evaluation for model 'mixtral' successfully generated for key: event:57848\n",
      "\n",
      "[Narrative]:\n",
      "Patient with stage III NSCLC, planned for definitive chemoradiation. Patient was seen in consult on 5/25/2022 by radiation oncology, at that time chemotherapy infusion appointment had already been made for 6/7/2022 by medical oncology. MD team notified medical oncology attending on day of consult that this would need to be pushed back for planning. Medical oncology team moved back start date to 6/14/2022. Radiation oncology plan was signed week of 6/6/2022 and requested to start concurrent with RT next available. The patient started RT on 6/9/2022, on 6/13/2022 UTV it was discovered that chemotherapy appointment remained for 6/14/2022. Goal was for radiation and chemo to start on same day, or at least within 24 hours of each other.\n",
      "\n",
      "\n",
      "[Summary]:\n",
      "\n",
      "\n",
      "A patient with stage III NSCLC (non-small cell lung cancer) was scheduled for definitive chemoradiation. The consultation with the radiation oncology team took place on May 25, 2022, and the chemotherapy infusion appointment had already been arranged by the medical oncology team for June 7, 2022. The radiation oncology team notified the medical oncology attending on the day of consultation that the start date needed to be postponed for planning purposes. The medical oncology team rescheduled the start date to June 14, 2022. The radiation oncology plan was signed during the week of June 6, and the patient began radiation therapy on June 9. However, it was discovered on June 13 that the chemotherapy appointment remained scheduled for June 14. The goal was for both radiation and chemotherapy to begin on the same day or at least within 24 hours of each other.\n",
      "\n",
      "\n",
      "[Evaluation]:\n",
      "\n",
      "Evaluation: Identical\n",
      "Explanation: The summary accurately reflects the narrative, providing a clear and concise account of the patient's treatment plan and schedule. Both the narrative and the summary mention the patient's stage III NSCLC diagnosis, the planned chemoradiation, the consultation with radiation oncology, the original and rescheduled chemotherapy infusion dates, the signing of the radiation oncology plan, and the goal for both treatments to start within 24 hours of each other. The language used in the summary is precise and mirrors that of the narrative, making it identical in meaning.\n",
      "\n"
     ]
    },
    {
     "name": "stderr",
     "output_type": "stream",
     "text": [
      "\n",
      "\n",
      "\n",
      "\u001b[A\u001b[A\u001b[A"
     ]
    },
    {
     "name": "stdout",
     "output_type": "stream",
     "text": [
      "\n",
      "[Success] Evaluation for model 'mixtral' successfully generated for key: event:76796\n",
      "\n",
      "[Narrative]:\n",
      "A breath hold breast planned for the True Beam was planned with 5 full Arcs. High risk of collision due to lateral shift of 7.\n",
      "\n",
      "\n",
      "[Summary]:\n",
      "\n",
      "\n",
      "A breast cancer treatment session using a Breath Hold technique on the True Beam machine was scheduled for five complete arcs. A potential hazard of a lateral shift amounting to seven units was identified during the planning process.\n",
      "\n",
      "\n",
      "[Evaluation]:\n",
      "\n",
      "\n"
     ]
    },
    {
     "name": "stderr",
     "output_type": "stream",
     "text": [
      "\n",
      "\n",
      "\n",
      "\u001b[A\u001b[A\u001b[A"
     ]
    },
    {
     "name": "stdout",
     "output_type": "stream",
     "text": [
      "\n",
      "[Success] Evaluation for model 'mixtral' successfully generated for key: event:77576\n",
      "\n",
      "[Narrative]:\n",
      "Breast boost plan shifting from simulation marks instead of initial plan isocenter. Patient no longer has simulation marks, more rounds of imaging were needed to align patient to new isocenter.\n",
      "\n",
      "\n",
      "[Summary]:\n",
      "\n",
      "\n",
      "A change has been made in the breast boost plan such that the location of the isocenter, which was initially planned to be based on simulation marks, is now being shifted. The patient no longer has the simulation marks and as a result, additional rounds of imaging are necessary to align the patient to the new isocenter location.\n",
      "\n",
      "\n",
      "[Evaluation]:\n",
      "\n",
      "\n",
      "Evaluation: Identical\n",
      "\n",
      "Explanation: The generated summary accurately captures the key points of the narrative. It mentions that there has been a change in the breast boost plan, specifically in the location of the isocenter, and that this change was originally planned to be based on simulation marks which the patient no longer has. As a result, additional rounds of imaging are necessary to align the patient to the new isocenter location. The summary uses slightly different wording than the narrative but conveys the same meaning.\n",
      "\n"
     ]
    },
    {
     "name": "stderr",
     "output_type": "stream",
     "text": [
      "\n",
      "\n",
      "\n",
      "\u001b[A\u001b[A\u001b[A"
     ]
    },
    {
     "name": "stdout",
     "output_type": "stream",
     "text": [
      "\n",
      "[Success] Evaluation for model 'mixtral' successfully generated for key: event:54440\n",
      "\n",
      "[Narrative]:\n",
      "patient's boost plan not treatment approved at time of appointment that day\n",
      "\n",
      "\n",
      "[Summary]:\n",
      "\n",
      "\n",
      "A patient's proposed plan for receiving an additional dose or enhancement of a treatment was not authorized during their scheduled appointment on that particular day.\n",
      "\n",
      "\n",
      "[Evaluation]:\n",
      "\n",
      "\n",
      "Evaluation: Identical\n",
      "\n",
      "Explanation: The narrative and the generated summary convey the same meaning, which is that the patient's boost plan (additional dose or enhancement of a treatment) was not approved at the time of their appointment. Both the narrative and the summary use similar language to describe the situation, making it clear that they are referring to the same event. Therefore, I would rate the evaluation as 'Identical'.\n",
      "\n"
     ]
    },
    {
     "name": "stderr",
     "output_type": "stream",
     "text": [
      "\n",
      "\n",
      "\n",
      "\u001b[A\u001b[A\u001b[A"
     ]
    },
    {
     "name": "stdout",
     "output_type": "stream",
     "text": [
      "\n",
      "[Success] Evaluation for model 'mixtral' successfully generated for key: event:51887\n",
      "\n",
      "[Narrative]:\n",
      "Imaged patient to start breast boost plan (1.2 L Breast).  After taking the KV images the therapists started to take the MV images.  The treatment field DRRs did not have a soft tissue filter so we could align properly.  Contacted dosimetry/physics to change.  Patient delayed around 30 minutes.\n",
      "\n",
      "\n",
      "[Summary]:\n",
      "\n",
      "\n",
      "The patient initiated a breast boost plan with a volume of 1.2 liters. During the imaging process, the therapists attempted to take MV images but discovered that the treatment field DRRs lacked a soft tissue filter for proper alignment. The team contacted dosimetry and physics to make the necessary adjustment, resulting in a delay of approximately thirty minutes for the patient.\n",
      "\n",
      "\n",
      "[Evaluation]:\n",
      "\n",
      "\n",
      "Evaluation: Identical\n",
      "\n",
      "Explanation: The generated summary accurately reflects the narrative with no discrepancies or omissions. It captures the key points, including the initiation of the breast boost plan, the issue with the treatment field DRRs, and the delay caused by contacting dosimetry/physics to rectify the problem.\n",
      "\n"
     ]
    },
    {
     "name": "stderr",
     "output_type": "stream",
     "text": [
      "\n",
      "\n",
      "\n",
      "\u001b[A\u001b[A\u001b[A"
     ]
    },
    {
     "name": "stdout",
     "output_type": "stream",
     "text": [
      "\n",
      "[Success] Evaluation for model 'mixtral' successfully generated for key: event:39231\n",
      "\n",
      "[Narrative]:\n",
      "Breath hold threshold set to .61cm vs .5cm at time of simulation at Acton Rd. This was caught during therapist check prior to patient's appointment to start treatment at HSROC. Discussed with therapists that completed patient's simulation that threshold must be .5cm.\n",
      "\n",
      "\n",
      "[Summary]:\n",
      "\n",
      "\n",
      "The breath hold threshold during a simulation at Acton Rd was measured as .61cm instead of the required .5cm. This discrepancy was identified during a therapist check before a patient's appointment to begin treatment at HSROC. The therapists involved in the patient's simulation were informed that the threshold should be set to .5cm.\n",
      "\n",
      "\n",
      "[Evaluation]:\n",
      "\n",
      "Evaluation: Identical\n",
      "Explanation: The narrative and summary convey the same information, stating that the breath hold threshold during a simulation at Acton Rd was incorrectly set to .61cm instead of the required .5cm, this discrepancy was identified before a patient's appointment to begin treatment at HSROC, and the therapists involved in the simulation were informed about the correct threshold value.\n",
      "\n"
     ]
    },
    {
     "name": "stderr",
     "output_type": "stream",
     "text": [
      "\n",
      "\n",
      "\n",
      "\u001b[A\u001b[A\u001b[A"
     ]
    },
    {
     "name": "stdout",
     "output_type": "stream",
     "text": [
      "\n",
      "[Success] Evaluation for model 'mixtral' successfully generated for key: event:56001\n",
      "\n",
      "[Narrative]:\n",
      "A revised plan was not labeled correctly. Original plan,1.1 HN, was planning approved, QA was performed by physics, and treatment approved. The plan was revised after treatment approval and planned with the same name '1.1 HN' instead of '1.1R1 HN'.\n",
      "\n",
      "\n",
      "[Summary]:\n",
      "\n",
      "\n",
      "A previously approved plan labeled as '1.1 HN' underwent a revision after treatment approval. Despite the modification, the revised plan retained the original label and was not distinguished from the initial plan with a new designation such as '1.1R1 HN'.\n",
      "\n",
      "\n",
      "[Evaluation]:\n",
      "\n",
      "\"Similar\n",
      "\n",
      "The summary accurately captures the main points of the narrative, including the incorrect labeling of a revised plan, the original plan being approved and undergoing QA by physics, and the retention of the same name for the revised plan instead of using a new designation. However, the summary does not explicitly mention that the revision occurred after treatment approval, which is stated in the narrative.\"\n",
      "\n"
     ]
    },
    {
     "name": "stderr",
     "output_type": "stream",
     "text": [
      "\n",
      "\n",
      "\n",
      "\u001b[A\u001b[A\u001b[A"
     ]
    },
    {
     "name": "stdout",
     "output_type": "stream",
     "text": [
      "\n",
      "[Success] Evaluation for model 'mixtral' successfully generated for key: event:57464\n",
      "\n",
      "[Narrative]:\n",
      "The prescription stated that the patient should be treated Tuesday - Friday (4 fractions per week). The patient was treated with these instructions for the first week but on the second week, the patient was treated Monday- Thursday. The physician was notified of the error on Tuesday, the week that the error in scheduling occurred.\n",
      "\n",
      "\n",
      "[Summary]:\n",
      "\n",
      "\n",
      "A prescription called for a patient to receive treatment from Tuesday through Friday during four weekly sessions during the first week. However, during the second week, the patient received treatment only from Monday through Thursday. This discrepancy was discovered by the physician on Tuesday of the week in question.\n",
      "\n",
      "\n",
      "[Evaluation]:\n",
      "\n",
      "\n",
      "Evaluation: Identical\n",
      "\n",
      "Explanation: The narrative and summary are identical in meaning. Both describe a situation where a patient's treatment schedule was changed from Tuesday-Friday to Monday-Thursday, and this error was discovered by the physician on Tuesday of the week it occurred. The summary accurately captures the key details of the narrative, making it an identical match.\n",
      "\n"
     ]
    },
    {
     "name": "stderr",
     "output_type": "stream",
     "text": [
      "\n",
      "\n",
      "\n",
      "\u001b[A\u001b[A\u001b[A"
     ]
    },
    {
     "name": "stdout",
     "output_type": "stream",
     "text": [
      "\n",
      "[Success] Evaluation for model 'mixtral' successfully generated for key: event:60700\n",
      "\n",
      "[Narrative]:\n",
      "Physics notified dosimetry that the wrong output factor was used to calculate the MUs for two keloid electron plans. The output factor used was 1.002, which is sufficient for a 6MeV 15x15 custom cutout that meets the requirements outlined in the \"Electron Monitor Unit Calculation\" policy (3.5). The policy states, \"(3.5) For a custom cutout, the output factor of the open field may be used if the narrowest width of the cutout in cm is > E / 2, where E is the electron energy in MeV.\" The plan was approved with 333 MUs. During the physics check, it was suggested that .985 output factor be used based on rule 3.6 in our electron policy. This was a urgent case simulated at 12 pm to treat at 5:20pm. The decision was made by physics to unapprove, recalculate, and re-print both plans which delayed the patient. The MU difference noted was 333 (1.002 output factor) vs 338 (.985).\n",
      "\n",
      "\n",
      "[Summary]:\n",
      "\n",
      "\n",
      "The physicists discovered that incorrect output factors were employed in calculating the number of monitor units (MUs) for two keloid electron treatment plans. The erroneous output factor utilized was 1.002, which conformed to the requirements stated in the \"Electron Monitor Unit Calculation\" policy for a 6MeV 15x15 custom cutout. However, physicists recommended using a .985 output factor based on rule 3.6 in their electron policy during the review process. This led to the unapproval, recalculation, and re-printing of both plans, causing a delay for an urgent patient case simulated at noon to be treated at 5:20 pm. The difference in MUs between the two output factors was 333 (1.002) and 338 (.985).\n",
      "\n",
      "\n",
      "[Evaluation]:\n",
      "\n",
      "\n",
      "Evaluation: Identical\n",
      "\n",
      "The generated summary accurately captures the main points of the narrative, including the incorrect output factor used for the keloid electron plans, the recommended output factor by physicists based on their policy, and the delay caused to an urgent patient case due to unapproval, recalculation, and re-printing of both plans. The summary also correctly states the difference in MUs between the two output factors. Overall, the meaning of the narrative and the generated summary are identical.\n",
      "\n"
     ]
    },
    {
     "name": "stderr",
     "output_type": "stream",
     "text": [
      "\n",
      "\n",
      "\n",
      "\u001b[A\u001b[A\u001b[A"
     ]
    },
    {
     "name": "stdout",
     "output_type": "stream",
     "text": [
      "\n",
      "[Success] Evaluation for model 'mixtral' successfully generated for key: event:57989\n",
      "\n",
      "[Narrative]:\n",
      "Dosimetry began planning for a chest wall case. In the midst of planning the dosimetrist noticed the CTV was posterior to the ribs at the lung interface. Dosimetrist communicated concern to the attending and resident physician and they decided the contour needed to be changed and brought anterior to the ribs.\n",
      "\n",
      "\n",
      "[Summary]:\n",
      "\n",
      "\n",
      "A dosimetrist was in the process of preparing a plan for irradiating a chest wall area when they identified an issue with the contouring of the Clinical Target Volume (CTV). Specifically, the CTV was located posterior to the ribs at the lung interface. The dosimetrist raised their concern to the attending and resident physician, who agreed that the contour needed to be adjusted and moved anteriorly to the ribs.\n",
      "\n",
      "\n",
      "[Evaluation]:\n",
      "\n",
      "\"Similar\n",
      "\n",
      "The summary accurately captures the main points of the narrative, including the location of the CTV, the issue identified by the dosimetrist, and the communication with the attending and resident physician. The summary also correctly states that the contour needed to be adjusted, although it does not explicitly mention that it was brought anterior to the ribs. Overall, the meaning of the narrative and the summary are closely aligned.\"\n",
      "\n"
     ]
    },
    {
     "name": "stderr",
     "output_type": "stream",
     "text": [
      "\n",
      "\n",
      "\n",
      "\u001b[A\u001b[A\u001b[A"
     ]
    },
    {
     "name": "stdout",
     "output_type": "stream",
     "text": [
      "\n",
      "[Success] Evaluation for model 'mixtral' successfully generated for key: event:49565\n",
      "\n",
      "[Narrative]:\n",
      "Prescription for HDR patient did not specify bladder filling. Simulation therapists used volume documented on simulation record from previous day. Doctor confirmed bladder fill was comparable to previous days scan.\n",
      "\n",
      "\n",
      "[Summary]:\n",
      "\n",
      "\n",
      "A doctor reviewed a prescription for an HDR (High Dose Rate) patient that did not include instructions for bladder filling. The simulation therapists, in the absence of such instructions, utilized the volume documented on the simulation record from the preceding day. The doctor subsequently confirmed that the bladder fill level, as depicted in the most recent scan, was similar to that of the previous day's scan.\n",
      "\n",
      "\n",
      "[Evaluation]:\n",
      "\n",
      "\"Similar\n",
      "\n",
      "The summary accurately captures the main points of the narrative, including the absence of bladder filling instructions in the prescription, the use of the previous day's volume by simulation therapists, and the doctor's confirmation that the bladder fill level was comparable to the previous day. However, the summary uses the term \"most recent scan\" instead of simply \"scan,\" which creates a slight discrepancy with the narrative.\"\n",
      "\n"
     ]
    },
    {
     "name": "stderr",
     "output_type": "stream",
     "text": [
      "\n",
      "\n",
      "\n",
      "\u001b[A\u001b[A\u001b[A"
     ]
    },
    {
     "name": "stdout",
     "output_type": "stream",
     "text": [
      "\n",
      "[Success] Evaluation for model 'mixtral' successfully generated for key: event:58620\n",
      "\n",
      "[Narrative]:\n",
      "The physician requested a CT simulation for liver SBRT to be treated on the Ethos. The CT simulation order contained the following information for \"Respiratory Motion Management\": 4D scan, inspiratory breath hold scan, and free breathing scans. CT did not simulate the breath hold scan and a respiratory motion management task was placed. Phase gating is not currently part of the Ethos workflow. The physicist and physician discussed the issue and the patient will be brought back for simulation for BH.\n",
      "\n",
      "\n",
      "[Summary]:\n",
      "\n",
      "\n",
      "A CT simulation for liver stereotactic body radiotherapy (SBRT) was arranged on the Ethos machine, with instructions for respiratory motion management including a 4D scan, an inspiratory breath hold scan, and free breathing scans. However, only the 4D and free breathing scans were performed during the simulation. A task related to respiratory motion management was left uncompleted, and phase gating is not utilized in the Ethos workflow at this time. The physician and physicist discussed the matter, resulting in the patient being scheduled for a return visit for breath hold simulation.\n",
      "\n",
      "\n",
      "[Evaluation]:\n",
      "\n",
      "\n",
      "Evaluation: Identical\n",
      "\n",
      "Explanation: The narrative and summary are identical in terms of the events that took place during the CT simulation for liver SBRT on the Ethos machine. Both describe the instructions for respiratory motion management, including a 4D scan, an inspiratory breath hold scan, and free breathing scans, as well as the fact that only the 4D and free breathing scans were performed during the simulation. The summary also accurately reflects the fact that a task related to respiratory motion management was left uncompleted and that the patient will be brought back for simulation for breath hold. Additionally, both the narrative and summary mention that phase gating is not utilized in the Ethos workflow at this time. Overall, the meaning of the narrative and the generated summary match exactly.\n",
      "\n"
     ]
    },
    {
     "name": "stderr",
     "output_type": "stream",
     "text": [
      "\n",
      "\n",
      "\n",
      "\u001b[A\u001b[A\u001b[A"
     ]
    },
    {
     "name": "stdout",
     "output_type": "stream",
     "text": [
      "\n",
      "[Success] Evaluation for model 'mixtral' successfully generated for key: event:76897\n",
      "\n",
      "[Narrative]:\n",
      "Dr forgot to order mouthpiece, and patient informed therapist after devices were already made.\n",
      "\n",
      "\n",
      "[Summary]:\n",
      "\n",
      "\n",
      "A patient communicated to a therapist that the dentist had forgotten to order a mouthpiece for their therapy session. The mouthpieces had already been fabricated before this information was disclosed.\n",
      "\n",
      "\n",
      "[Evaluation]:\n",
      "\n",
      "\n",
      "Evaluation: Identical\n",
      "\n",
      "Explanation: The narrative and summary are identical in meaning. Both convey that the patient informed the therapist after the devices were made that the dentist had forgotten to order a mouthpiece for their therapy session.\n",
      "\n"
     ]
    },
    {
     "name": "stderr",
     "output_type": "stream",
     "text": [
      "\n",
      "\n",
      "\n",
      "\u001b[A\u001b[A\u001b[A"
     ]
    },
    {
     "name": "stdout",
     "output_type": "stream",
     "text": [
      "\n",
      "[Success] Evaluation for model 'mixtral' successfully generated for key: event:49847\n",
      "\n",
      "[Narrative]:\n",
      "TBI plan was sent to physics for plan review with less than 4 hours prior to patient setup/image verification session. Fortunately, plan review was underway when therapists messaged physics inquiring about treatment approval prior to patient's starting verification session.\n",
      "\n",
      "\n",
      "[Summary]:\n",
      "\n",
      "\n",
      "A plan for treating a patient with TBI (Traumatic Brain Injury) was submitted to the physics department for review within fewer than 4 hours before the scheduled patient setup and image verification session. The physics team was already working on the plan review when therapists inquired about treatment approval prior to the start of the verification session.\n",
      "\n",
      "\n",
      "[Evaluation]:\n",
      "\n",
      "\n",
      "Evaluation: Identical\n",
      "\n",
      "Explanation: The narrative and summary are identical in meaning. Both describe a TBI plan that was sent for review with less than 4 hours before patient setup/image verification, and both mention that the physics team was already working on the plan review when therapists inquired about treatment approval prior to the start of the verification session.\n",
      "\n"
     ]
    },
    {
     "name": "stderr",
     "output_type": "stream",
     "text": [
      "\n",
      "\n",
      "\n",
      "\u001b[A\u001b[A\u001b[A"
     ]
    },
    {
     "name": "stdout",
     "output_type": "stream",
     "text": [
      "\n",
      "[Success] Evaluation for model 'mixtral' successfully generated for key: event:66596\n",
      "\n",
      "[Narrative]:\n",
      "A patient was simulated on 12/22/2022 and the Processmaker task \" Simulation Scheduled\" was not pushed through to \"Simulation Complete\" to notify Dosimetry that the simulation scan was completed and ready to be imported. The patient called the clinic today 12/29/2022 and stated that her chemotherapy was starting 1/3/2022 and asked was her plan ready to start as well. That is when the missed scan was caught, and Dosimetry was then notified to import.\n",
      "\n",
      "\n",
      "[Summary]:\n",
      "\n",
      "\n",
      "On December 22, 2022, a patient underwent simulation. The status of the related Processmaker task remained at \"Simulation Scheduled\" instead of advancing to \"Simulation Complete.\" As a result, Dosimetry was not informed that the simulation scan was finished and prepared for importing on December 29, 2022. A patient inquiry regarding the readiness of her plan for chemotherapy starting on January 3, 2022, led to the discovery of this oversight, prompting Dosimetry to import the previously missed scan.\n",
      "\n",
      "\n",
      "[Evaluation]:\n",
      "\n",
      "Narrative: 'A patient was simulated on 12/22/2022 and the Processmaker task \" Simulation Scheduled\" was not pushed through to \"Simulation Complete\" to notify Dosimetry that the simulation scan was completed and ready to be imported. The patient called the clinic today 12/29/2022 and stated that her chemotherapy was starting 1/3/2022 and asked was her plan ready to start as well. That is when the missed scan was caught, and Dosimetry was then notified to import.'\n",
      "\n",
      "Summary: 'On December 22, 2022, a patient underwent simulation. The status of the related Processmaker task remained at \"Simulation Scheduled\" instead of advancing to \"Simulation Complete.\" As a result, Dosimetry was not informed that the simulation scan was finished and prepared for importing on December 29, 2022. A patient inquiry regarding the readiness of her plan for chemotherapy starting on January 3, 2022, led to the discovery of this oversight, prompting Dosimetry to import the previously missed scan.'\n",
      "\n",
      "Evaluation: Identical\n",
      "\n",
      "The summary accurately reflects the narrative by stating that the patient was simulated on December 22, 2022, and the Processmaker task \"Simulation Scheduled\" was not updated to \"Simulation Complete,\" resulting in Dosimetry not being informed about the completed simulation scan. The summary also correctly mentions that the missed scan was discovered due to a patient's inquiry regarding her plan for chemotherapy starting on January 3, 2022, and that Dosimetry then imported the previously missed scan. Both the narrative and the summary convey the same information and are identical in meaning.\n",
      "\n"
     ]
    },
    {
     "name": "stderr",
     "output_type": "stream",
     "text": [
      "\n",
      "\n",
      "\n",
      "\u001b[A\u001b[A\u001b[A"
     ]
    },
    {
     "name": "stdout",
     "output_type": "stream",
     "text": [
      "\n",
      "[Success] Evaluation for model 'mixtral' successfully generated for key: event:73687\n",
      "\n",
      "[Narrative]:\n",
      "Patient sent a message in the portal inquiring about their start date. Plan was still not ready and therapist called to tell patient to expect a phone call in a week or so with a start date. Patient informed therapist in passing that was perfectly fine and they start chemo in the morning. Therapist then called the doctor and resident to confirm that it was okay for the patient to start chemo and not radiation. It was confirmed that both chemo and radiation should begin the same day. Resident and Doctor spoke with VA to get chemo pushed and therapist was told to place patient on the schedule for the same day that the VA scheduled the new chemo appointment for.\n",
      "\n",
      "\n",
      "[Summary]:\n",
      "\n",
      "\n",
      "The patient inquired about their start date through the portal, and the therapist responded that the plan was not yet ready and suggested a phone call within a week or so for the start date. The patient mentioned they would be starting chemotherapy the following morning. The therapist contacted the doctor and resident to confirm if the patient could begin both chemo and radiation on the same day. The doctor and resident confirmed this, and the therapist was instructed to schedule the patient accordingly based on the VA's new chemo appointment date.\n",
      "\n",
      "\n",
      "[Evaluation]:\n",
      "\n",
      "\n",
      "Evaluation: Similar\n",
      "\n",
      "Explanation: The summary accurately captures the main points of the narrative, including the patient's inquiry about their start date, the therapist's suggestion for a phone call within a week, the patient's mention of starting chemotherapy the following morning, and the therapist's subsequent confirmation with the doctor and resident that both chemo and radiation should begin on the same day. However, the summary does not explicitly mention that the therapist was told to place the patient on the schedule for the same day as the new chemo appointment, which is a minor detail in the narrative. Nonetheless, the overall meaning of the narrative and the summary are similar.\n",
      "\n"
     ]
    },
    {
     "name": "stderr",
     "output_type": "stream",
     "text": [
      "\n",
      "\n",
      "\n",
      "\u001b[A\u001b[A\u001b[A"
     ]
    },
    {
     "name": "stdout",
     "output_type": "stream",
     "text": [
      "\n",
      "[Success] Evaluation for model 'mixtral' successfully generated for key: event:38229\n",
      "\n",
      "[Narrative]:\n",
      "A fractionated radiosurgery brain patient had two treatment plans approved and scheduled for same day.  1.1 GTV1 and 2.1 GTV2 were both scheduled and would come up for treatment.  We contacted the treating physician and physicist of the day to verify we were only treating 2.1 GTV2.  This was verified by the treating physician and the physicist of the day retired the 1.1 GTV1 plan before the treatment plan was loaded on the treatment machine.  We only treated 2.1 GTV2 plan.\n",
      "\n",
      "\n",
      "[Summary]:\n",
      "\n",
      "\n",
      "A patient undergoing fractionated radiosurgery for brain conditions had two approved treatment plans scheduled for the same day. The larger target, GTV1, and the smaller target, GTV2, were both set to be treated. The medical team contacted the treating physician and physicist of the day to confirm that only the second plan, GTV2, would be implemented. Both the physician and the physicist confirmed this, and the first plan, GTV1, was withdrawn before it could be loaded onto the treatment machine. Only the second plan, GTV2, was administered.\n",
      "\n",
      "\n",
      "[Evaluation]:\n",
      "\n",
      "\n",
      "Evaluation: Identical\n",
      "\n",
      "Explanation: The summary accurately reflects the narrative by stating that two treatment plans were scheduled for the same day, one for a larger target (GTV1) and another for a smaller target (GTV2). The summary also correctly mentions that the medical team confirmed that only GTV2 would be treated and that both the physician and physicist verified this. Finally, the summary accurately states that the first plan (GTV1) was withdrawn before it could be loaded onto the treatment machine and that only the second plan (GTV2) was administered. Therefore, the meaning of the narrative and the generated summary are identical.\n",
      "\n"
     ]
    },
    {
     "name": "stderr",
     "output_type": "stream",
     "text": [
      "\n",
      "\n",
      "\n",
      "\u001b[A\u001b[A\u001b[A"
     ]
    },
    {
     "name": "stdout",
     "output_type": "stream",
     "text": [
      "\n",
      "[Success] Evaluation for model 'mixtral' successfully generated for key: event:58526\n",
      "\n",
      "[Narrative]:\n",
      "Patient does not have a consent on file at time of treatment start date.\n",
      "\n",
      "\n",
      "[Summary]:\n",
      "\n",
      "\n",
      "A patient's lack of a signed consent form prior to the initiation of medical care.\n",
      "\n",
      "\n",
      "[Evaluation]:\n",
      "\n",
      "\n",
      "Evaluation: Identical\n",
      "\n",
      "Explanation: The narrative and the generated summary convey the same meaning, which is that a patient did not have a signed consent form at the start date of their treatment. This information is crucial in healthcare settings to ensure proper procedures are followed and patients' rights are respected.\n",
      "\n"
     ]
    },
    {
     "name": "stderr",
     "output_type": "stream",
     "text": [
      "\n",
      "\n",
      "\n",
      "\u001b[A\u001b[A\u001b[A"
     ]
    },
    {
     "name": "stdout",
     "output_type": "stream",
     "text": [
      "\n",
      "[Success] Evaluation for model 'mixtral' successfully generated for key: event:69286\n",
      "\n",
      "[Narrative]:\n",
      "While reviewing prescription for chart check therapist noted that 1.1 Sternum had frequency as continuous, consecutive days versus once daily, consecutive days. Therapist sent vocera to attending, planning dosimetrist and physics of the day and requested RX be updated and plan placed back into treatment approval status\n",
      "\n",
      "\n",
      "[Summary]:\n",
      "\n",
      "\n",
      "A therapist discovered an inconsistency in a prescription's frequency while conducting a chart check. The frequency for the area 1.1 Sternum was listed as continuous instead of consecutive days. The therapist communicated this issue to the attending physician, dosimetrist, and physics team via Vocera, requesting that the prescription be updated and returned to the treatment approval process.\n",
      "\n",
      "\n",
      "[Evaluation]:\n",
      "\n",
      "\n",
      "Evaluation: Identical\n",
      "\n",
      "Explanation: The summary accurately captures the main points of the narrative. Both the narrative and the summary mention that a therapist discovered an inconsistency in a prescription's frequency, specifically for the area 1.1 Sternum. They both also mention that the therapist communicated this issue to the attending physician, dosimetrist, and physics team via Vocera, requesting that the prescription be updated and returned to the treatment approval process. The summary is identical in meaning to the narrative.\n",
      "\n"
     ]
    },
    {
     "name": "stderr",
     "output_type": "stream",
     "text": [
      "\n",
      "\n",
      "\n",
      "\u001b[A\u001b[A\u001b[A"
     ]
    },
    {
     "name": "stdout",
     "output_type": "stream",
     "text": [
      "\n",
      "[Success] Evaluation for model 'mixtral' successfully generated for key: event:39960\n",
      "\n",
      "[Narrative]:\n",
      "Dosimetrist who did proton specific contours drew the BBs (placed at simulation) but did not apply a HU override to them. Physicist who checked the contours failed to notice that there was no HU override, planning dosimetrist (different than the contouring dosimetrist) and final physicist check did not catch the error either. Although the override was missed, there was no discernable difference in dose. There was only microscopic dose change that could not be appreciated on comparison DVHs.\n",
      "\n",
      "\n",
      "[Summary]:\n",
      "\n",
      "\n",
      "A dosimetrist responsible for creating proton-specific contours neglected to apply a HU (Hounsfield Unit) override to the BBs (beam bores) during simulation. The physicist who reviewed the contours did not detect this oversight. Subsequently, both the planning dosimetrist and the final physicist check failed to identify the error as well. Despite the absence of an HU override, there was no noticeable difference in the dose distribution. The discrepancy consisted only of microscopic changes that could not be distinguished on comparison DVHs (dose-volume histograms).\n",
      "\n",
      "\n",
      "[Evaluation]:\n",
      "\n",
      "Narrative: \"Dosimetrist who did proton specific contours drew the BBs (placed at simulation) but did not apply a HU override to them. Physicist who checked the contours failed to notice that there was no HU override, planning dosimetrist (different than the contouring dosimetrist) and final physicist check did not catch the error either. Although the override was missed, there was no discernable difference in dose. There was only microscopic dose change that could not be appreciated on comparison DVHs.\"\n",
      "\n",
      "Summary: \"A dosimetrist responsible for creating proton-specific contours neglected to apply a HU (Hounsfield Unit) override to the BBs (beam bores) during simulation. The physicist who reviewed the contours did not detect this oversight. Subsequently, both the planning dosimetrist and the final physicist check failed to identify the error as well. Despite the absence of an HU override, there was no noticeable difference in the dose distribution. The discrepancy consisted only of microscopic changes that could not be distinguished on comparison DVHs (dose-volume histograms).\"\n",
      "\n",
      "Evaluation: Identical. The summary accurately captures the main points of the narrative, including the roles of the dosimetrist and physicist, the missed HU override, and the lack of noticeable difference in dose despite the error.\n",
      "\n"
     ]
    },
    {
     "name": "stderr",
     "output_type": "stream",
     "text": [
      "\n",
      "\n",
      "\n",
      "\u001b[A\u001b[A\u001b[A"
     ]
    },
    {
     "name": "stdout",
     "output_type": "stream",
     "text": [
      "\n",
      "[Success] Evaluation for model 'mixtral' successfully generated for key: event:45998\n",
      "\n",
      "[Narrative]:\n",
      "Dosimetrist asked Attending to review plan before sending to physics. Plan was a unilateral HN. Patient had a powerport that the attending noticed was not contoured; overridden; nor set as an avoid structure therefore, spots were making it through.\n",
      "\n",
      "\n",
      "[Summary]:\n",
      "\n",
      "\n",
      "A dosimetrist requested a review of a unilateral head and neck (HN) radiation treatment plan by the attending physician before sending it to the physics team. The patient's plan revealed that there was a powerport in the treatment area which had not been contoured, overridden, or set as an avoid structure. Consequently, radiation spots penetrated through this region.\n",
      "\n",
      "\n",
      "[Evaluation]:\n",
      "\n",
      "\"Similar\n",
      "\n",
      "The summary accurately captures the main points of the narrative, including the type of radiation plan (unilateral HN), the request for review by the attending physician, and the presence of a powerport that was not properly accounted for in the plan, leading to radiation spots passing through. However, the summary does not explicitly mention that the attending noticed the issue but overrode it, which is a minor detail that does not significantly impact the overall meaning of the narrative.\"\n",
      "\n"
     ]
    },
    {
     "name": "stderr",
     "output_type": "stream",
     "text": [
      "\n",
      "\n",
      "\n",
      "\u001b[A\u001b[A\u001b[A"
     ]
    },
    {
     "name": "stdout",
     "output_type": "stream",
     "text": [
      "\n",
      "[Success] Evaluation for model 'mixtral' successfully generated for key: event:38621\n",
      "\n",
      "[Narrative]:\n",
      "Consent form provider was not listed as the attending physician.  Another consent form will be signed before treatment.\n",
      "\n",
      "\n",
      "[Summary]:\n",
      "\n",
      "\n",
      "A consent form signed by a different physician than the one set to administer the treatment is required. A new consent form will need to be obtained and signed prior to the procedure.\n",
      "\n",
      "\n",
      "[Evaluation]:\n",
      "\n",
      "\n",
      "Evaluation: Identical\n",
      "\n",
      "Explanation: The narrative and the generated summary convey the same meaning. Both state that the attending physician who was supposed to sign the consent form did not do so, and a new consent form needs to be signed by the appropriate physician before treatment can begin.\n",
      "\n"
     ]
    },
    {
     "name": "stderr",
     "output_type": "stream",
     "text": [
      "\n",
      "\n",
      "\n",
      "\u001b[A\u001b[A\u001b[A"
     ]
    },
    {
     "name": "stdout",
     "output_type": "stream",
     "text": [
      "\n",
      "[Success] Evaluation for model 'mixtral' successfully generated for key: event:66075\n",
      "\n",
      "[Narrative]:\n",
      "Patient was simulated and task was started in whiteboard for proton planning. After being sent to the physician for contour delineation, it was decided that the patient would, in stead, need photon treatment. The physician started a Proton-to-photon transition form in powerchart, assuming this would notify all needed parties that planning should transfer to the photon dosimetrist at our institution. This was not the case. Proton Dosimetrist, who usually begin the transfer process, were not included in this communication.\n",
      "\n",
      "\n",
      "[Summary]:\n",
      "\n",
      "\n",
      "A patient's proton planning task was initiated on a whiteboard. The physician then determined that the patient required photon treatment instead and began a Proton-to-photon transition form in PowerChart. However, the Proton Dosimetrist was not informed of this change.\n",
      "\n",
      "\n",
      "[Evaluation]:\n",
      "\n",
      "\n",
      "Evaluation: Similar\n",
      "\n",
      "Explanation: The summary accurately captures the main points of the narrative, including the initiation of proton planning, the physician's decision to switch to photon treatment, and the failure to inform the Proton Dosimetrist of this change. However, the summary does not explicitly mention that the physician attempted to notify the necessary parties through a form in PowerChart, which is a minor detail that does not significantly affect the overall meaning of the narrative.\n",
      "\n"
     ]
    },
    {
     "name": "stderr",
     "output_type": "stream",
     "text": [
      "\n",
      "\n",
      "\n",
      "\u001b[A\u001b[A\u001b[A"
     ]
    },
    {
     "name": "stdout",
     "output_type": "stream",
     "text": [
      "\n",
      "[Success] Evaluation for model 'mixtral' successfully generated for key: event:45516\n",
      "\n",
      "[Narrative]:\n",
      "all setups (mvs and kvs) have the gantry angle of 0.\n",
      "\n",
      "\n",
      "[Summary]:\n",
      "\n",
      "\n",
      "The statement indicates that the angles of all gantry setups, whether MVS or KVS, are equal to zero.\n",
      "\n",
      "\n",
      "[Evaluation]:\n",
      "\n",
      "\n"
     ]
    },
    {
     "name": "stderr",
     "output_type": "stream",
     "text": [
      "\n",
      "\n",
      "\n",
      "\u001b[A\u001b[A\u001b[A"
     ]
    },
    {
     "name": "stdout",
     "output_type": "stream",
     "text": [
      "\n",
      "[Success] Evaluation for model 'mixtral' successfully generated for key: event:63543\n",
      "\n",
      "[Narrative]:\n",
      "Plan not treatment approved morning of new start appointment at 11:55am.\n",
      "\n",
      "\n",
      "[Summary]:\n",
      "\n",
      "\n",
      "A plan, rather than a treatment, was given approval during an appointment that started at 11:55am.\n",
      "\n",
      "\n",
      "[Evaluation]:\n",
      "\n",
      "\n"
     ]
    },
    {
     "name": "stderr",
     "output_type": "stream",
     "text": [
      "\n",
      "\n",
      "\n",
      "\u001b[A\u001b[A\u001b[A"
     ]
    },
    {
     "name": "stdout",
     "output_type": "stream",
     "text": [
      "\n",
      "[Success] Evaluation for model 'mixtral' successfully generated for key: event:65843\n",
      "\n",
      "[Narrative]:\n",
      "Lung SBRT patient on the EDGE was missing a triggered imaging consult. They were scheduled for 8 am and therapists noticed few minutes before setting the patient up that they had overlooked 'triggered image' in the prescription on the chart - they are used to seeing triggered image stated in the description. Upstream dosimetrist did not drop a task for consult in Aria, midstream physics did not identify a missing consult, and downstream therapy only realized minutes before scheduled treatment. This resulted in the SRS POD performing the triggered image consult last minute.\n",
      "\n",
      "\n",
      "[Summary]:\n",
      "\n",
      "\n",
      "A patient undergoing SBRT (Stereotactic Body Radiation Therapy) for lung cancer at the EDGE facility was scheduled for a triggered imaging consultation at 8 am. However, this consultation was missed due to an oversight by the therapists who failed to notice the missing prescription item in the chart. The upstream dosimetrist did not create a task for the consultation in Aria, midstream physics also did not identify the missing consult, and downstream therapy only became aware of it minutes before the scheduled treatment. Consequently, the SRS POD (Stereotactic Radiosurgery Physicist/Operator) performed the triggered image consult last minute.\n",
      "\n",
      "\n",
      "[Evaluation]:\n",
      "\n",
      "\n",
      "Evaluation: Identical\n",
      "\n",
      "Explanation: The generated summary accurately captures the main points of the narrative and uses similar language to describe the situation. Both the narrative and the summary mention the patient's SBRT treatment for lung cancer, the missed triggered imaging consultation, the oversight by therapists, the lack of task creation by the dosimetrist, the failure to identify the missing consult by midstream physics, and the last-minute performance of the triggered image consult by the SRS POD. Therefore, I would rate this evaluation as 'Identical'.\n",
      "\n"
     ]
    },
    {
     "name": "stderr",
     "output_type": "stream",
     "text": [
      "\n",
      "\n",
      "\n",
      "\u001b[A\u001b[A\u001b[A"
     ]
    },
    {
     "name": "stdout",
     "output_type": "stream",
     "text": [
      "\n",
      "[Success] Evaluation for model 'mixtral' successfully generated for key: event:59326\n",
      "\n",
      "[Narrative]:\n",
      "Derivations for PTV were given as CTVs+.5cm. While trying to recreate the target volume using the physicians instructions, the dosimetrist noticed there was a volume difference between the test and the PTV given by the physician. One of the CTVs had been subtracted from an OAR and was not communicated.\n",
      "\n",
      "\n",
      "[Summary]:\n",
      "\n",
      "\n",
      "The dosimetrist discovered a discrepancy while attempting to replicate the prescribed target volume (PTV) based on the physician's instructions, which were provided as PTVs with an additional 0.5cm margin denoted as CTVs. The difference was identified in relation to one of the clinical target volumes (CTVs), which had been subtracted from an organ at risk (OAR) without being conveyed.\n",
      "\n",
      "\n",
      "[Evaluation]:\n",
      "\n",
      "\"Similar\n",
      "\n",
      "The summary accurately captures the main points of the narrative, including the discrepancy discovered by the dosimetrist and the fact that one of the CTVs was subtracted from an OAR without proper communication. The use of slightly different wording does not detract from the overall meaning and understanding of the situation.\"\n",
      "\n"
     ]
    },
    {
     "name": "stderr",
     "output_type": "stream",
     "text": [
      "\n",
      "\n",
      "\n",
      "\u001b[A\u001b[A\u001b[A"
     ]
    },
    {
     "name": "stdout",
     "output_type": "stream",
     "text": [
      "\n",
      "[Success] Evaluation for model 'mixtral' successfully generated for key: event:50263\n",
      "\n",
      "[Narrative]:\n",
      "A revised plan (1.1R1 HN) was scheduled for the patient and went through the physics plan/treatment approval process. The original plan (1.1 HN) was not completed early and still had scheduled fractions. Therapists noticed this before the treatment and this was rectified so that only the 1.1R1 HN plan could be delivered.\n",
      "\n",
      "\n",
      "[Summary]:\n",
      "\n",
      "\n",
      "A revised radiation therapy plan (1.1R1 HN) was prepared for a patient and underwent the necessary approval procedures. The initial plan (1.1 HN) remained incomplete with scheduled fractions, causing therapists to notice the discrepancy prior to treatment delivery. This issue was resolved, permitting only the revised plan (1.1R1 HN) to be administered.\n",
      "\n",
      "\n",
      "[Evaluation]:\n",
      "\n",
      "\n",
      "Evaluation: Identical\n",
      "\n",
      "Explanation: The narrative and summary convey the same information about a revised radiation therapy plan (1.1R1 HN) that was prepared for a patient, underwent approval procedures, and replaced an incomplete initial plan (1.1 HN) with scheduled fractions. Both sources mention that therapists noticed the discrepancy before treatment delivery and resolved the issue so that only the revised plan could be administered.\n",
      "\n"
     ]
    },
    {
     "name": "stderr",
     "output_type": "stream",
     "text": [
      "\n",
      "\n",
      "\n",
      "\u001b[A\u001b[A\u001b[A"
     ]
    },
    {
     "name": "stdout",
     "output_type": "stream",
     "text": [
      "\n",
      "[Success] Evaluation for model 'mixtral' successfully generated for key: event:40069\n",
      "\n",
      "[Narrative]:\n",
      "Treated a back and shoulder with electrons.  The plan in ARIA had SSD for the back listed as 100.5 with .5 cm bolus on top.  The SSD for the shoulder was listed as 100 with .5 cm bolus on top.  The hand calc for both the back and shoulder had 100.5 with .5 cm bolus on top.  We consulted the physician and dosimetrist to confirm that the SSD for both fields should read 100.5 with .5 cm bolus on top before treating the patient.\n",
      "\n",
      "\n",
      "[Summary]:\n",
      "\n",
      "\n",
      "The team followed the plan in ARIA, which called for treating a back and shoulder area with electrons. The specifications for each region were listed separately: for the back, the SSD (distance from surface of skin to depth of maximum dose) was 100.5 cm with a .5 cm bolus on top; for the shoulder, the SSD was 100 cm with a .5 cm bolus. However, during hand calculation, both regions were recorded as having an SSD of 100.5 cm with a .5 cm bolus. The team consulted the physician and dosimetrist to confirm that this was the correct measurement before proceeding with treatment.\n",
      "\n",
      "\n",
      "[Evaluation]:\n",
      "\n",
      "\n",
      "Evaluation: Identical\n",
      "\n",
      "Explanation: The generated summary accurately captures the main points of the narrative, including the use of electrons for treating a back and shoulder area, the specific SSD and bolus measurements for each region as listed in ARIA, and the consultation with the physician and dosimetrist to confirm the hand calculation measurement. Both the narrative and the summary convey the same information using slightly different wording, but the meaning remains unchanged.\n",
      "\n"
     ]
    },
    {
     "name": "stderr",
     "output_type": "stream",
     "text": [
      "\n",
      "\n",
      "\n",
      "\u001b[A\u001b[A\u001b[A"
     ]
    },
    {
     "name": "stdout",
     "output_type": "stream",
     "text": [
      "\n",
      "[Success] Evaluation for model 'mixtral' successfully generated for key: event:42037\n",
      "\n",
      "[Narrative]:\n",
      "While therapist was performing a boost plan pre-check, she noticed that the prescription for the boost did not have Breath Hold selected.  The patient's original plan was treated Breath Hold.  We did not have any information from the planning dosimetrist to inform of whether the plan was with Breath Hold or Free Breathe. If the plan uses Gating or Breath Hold technique then the dosimetrist sends a Gating Information Sheet, we did not receive this sheet.  The therapist checked the gating system and noticed the patient had a re-simulation with breath hold.  The therapist then sent a message to the planning dosimetrist and physician to inquire about the prescription.\n",
      "\n",
      "\n",
      "[Summary]:\n",
      "\n",
      "\n",
      "A therapist discovered during a pre-check that the boost plan did not include Breath Hold as prescribed for the original plan. No information was available from the planning dosimetrist regarding whether the plan involved Breath Hold or Free Breathe techniques. The gating system indicated that the patient had undergone re-simulation with breath hold, so the therapist contacted the planning dosimetrist and physician to inquire about the prescription.\n",
      "\n",
      "\n",
      "[Evaluation]:\n",
      "\n",
      "\n",
      "Evaluation: Identical\n",
      "\n",
      "Explanation: The summary accurately captures the main points of the narrative, including the failure to include Breath Hold in the boost plan, the lack of information from the planning dosimetrist, the indication of re-simulation with breath hold on the gating system, and the therapist's subsequent inquiry to the planning dosimetrist and physician. The summary is concise and clear, conveying the same meaning as the narrative without adding or omitting any important details.\n",
      "\n"
     ]
    },
    {
     "name": "stderr",
     "output_type": "stream",
     "text": [
      "\n",
      "\n",
      "\n",
      "\u001b[A\u001b[A\u001b[A"
     ]
    },
    {
     "name": "stdout",
     "output_type": "stream",
     "text": [
      "\n",
      "[Success] Evaluation for model 'mixtral' successfully generated for key: event:41063\n",
      "\n",
      "[Narrative]:\n",
      "The incorrect supraclav plan was pushed to the new start folder and task pad. Therapist noticed while doing new start checklist and brought it to physics attention. Dosimetry corrected the problem and sent new yellow sheet.\n",
      "\n",
      "\n",
      "[Summary]:\n",
      "\n",
      "\n",
      "A therapist discovered an error in a supraclavicular plan during a new start checklist. This incorrect plan was moved to the new start folder and task pad. The issue was reported to the dosimetry team, who rectified the problem and issued a new yellow sheet with the corrected plan.\n",
      "\n",
      "\n",
      "[Evaluation]:\n",
      "\n",
      "\n",
      "Evaluation: Identical\n",
      "\n",
      "Explanation: The summary accurately reflects the narrative by mentioning that a therapist discovered an error in a supraclavicular plan during a new start checklist, the incorrect plan was moved to the new start folder and task pad, the issue was reported to the dosimetry team, who rectified the problem and issued a new yellow sheet with the corrected plan. The summary captures all the essential details of the narrative without adding or omitting any information.\n",
      "\n"
     ]
    },
    {
     "name": "stderr",
     "output_type": "stream",
     "text": [
      "\n",
      "\n",
      "\n",
      "\u001b[A\u001b[A\u001b[A"
     ]
    },
    {
     "name": "stdout",
     "output_type": "stream",
     "text": [
      "\n",
      "[Success] Evaluation for model 'mixtral' successfully generated for key: event:52467\n",
      "\n",
      "[Narrative]:\n",
      "After making the patient's head mold and right before making a full shoulder mask, the patient inquired about the mouth piece that she was told the doctor would be making for her treatment. I immediately sent a message to the attending physician, who confirmed that it was necessary that the patient have a mouth piece for her treatment and it should have been in the Immobilization and Sim Orders. Unfortunately, the patient could not lay back down on her custom head mold in the correct position and another head mold had to be made before making the facemask and the SSU took approximately 25-30 minutes longer than the patient had originally expected.\n",
      "\n",
      "\n",
      "[Summary]:\n",
      "\n",
      "\n",
      "The patient asked about a mouth piece during the process of creating a full shoulder mask. I contacted the doctor, who confirmed that it was required for the treatment and should have been included in the instructions. However, the patient was unable to lie back down on her head mold in the correct position, necessitating the creation of another one. This added approximately 25-30 minutes to the procedure.\n",
      "\n",
      "\n",
      "[Evaluation]:\n",
      "\n",
      "\n",
      "Evaluation: Identical\n",
      "\n",
      "Explanation: The summary accurately captures the main points of the narrative. It mentions that the patient asked about a mouth piece during the process of creating a full shoulder mask, that the doctor confirmed it was required for the treatment but should have been included in the instructions, and that another head mold had to be created because the patient could not lie back down on her original head mold in the correct position. The summary also mentions that this added approximately 25-30 minutes to the procedure, which is consistent with the narrative. Overall, the meaning of the narrative and the generated summary are identical.\n",
      "\n"
     ]
    },
    {
     "name": "stderr",
     "output_type": "stream",
     "text": [
      "\n",
      "\n",
      "\n",
      "\u001b[A\u001b[A\u001b[A"
     ]
    },
    {
     "name": "stdout",
     "output_type": "stream",
     "text": [
      "\n",
      "[Success] Evaluation for model 'mixtral' successfully generated for key: event:66577\n",
      "\n",
      "[Narrative]:\n",
      "Patient prescription stated there was no rect needed for boost. The boost has been treatment approved and printed. The therapists happened to pull up the patient agenda to make sure the revision was scheduled and noticed there was a re-ct scheduled. There wasn't any notification of this to the therapists.\n",
      "\n",
      "\n",
      "[Summary]:\n",
      "\n",
      "\n",
      "A prescription for a patient indicated that no rect (likely a type of medical treatment or procedure) was required for a boost. The boost had been approved and printed. However, when therapists checked the patient agenda to schedule a revision, they discovered a previously unscheduled re-ct. There was no notification about this to the therapists.\n",
      "\n",
      "\n",
      "[Evaluation]:\n",
      "\n",
      "\n",
      "Evaluation: Similar\n",
      "\n",
      "Explanation: The generated summary accurately captures the main points of the narrative, including the absence of a rect for the boost, the approval and printing of the boost, and the discovery of an unscheduled re-ct by the therapists. However, the summary uses the term \"re-ct\" instead of \"rect,\" which may suggest a slightly different meaning to some readers. Nonetheless, the overall meaning of the narrative and the summary are similar.\n",
      "\n"
     ]
    },
    {
     "name": "stderr",
     "output_type": "stream",
     "text": [
      "\n",
      "\n",
      "\n",
      "\u001b[A\u001b[A\u001b[A"
     ]
    },
    {
     "name": "stdout",
     "output_type": "stream",
     "text": [
      "\n",
      "[Success] Evaluation for model 'mixtral' successfully generated for key: event:56082\n",
      "\n",
      "[Narrative]:\n",
      "The patient's rx had 25 fractions only written. The patient finished and chart was placed in closeout. Two days later, we are notified by dosimetry that she is getting a boost and not to throw her devices away. Her devices were thrown away already. There was no communication to the therapists that the patient would receive a boost or brachy nor was it in the RX. Therapists had asked if she was getting a boost and were told to have her re-ct to evaluate if she was going to receive a boost and that they would let us know if she needed one. There was no sim documentation that she was even re-ct. The patient had told the therapists that she had to be finished by May 6 because that is when she had financially budgeted for lodging.\n",
      "\n",
      "\n",
      "[Summary]:\n",
      "\n",
      "\n",
      "The patient's prescription included instructions for 25 radiation therapy sessions only. After completing the treatment, the chart was filed for closure. Two days later, a notification was received from dosimetry stating that the patient required a boost and to keep her devices. However, the devices had already been discarded. There was no communication to therapists about the patient receiving a boost or brachytherapy, nor was it included in the prescription. Therapists had asked if a boost was necessary and were told to evaluate the patient's response and inform dosimetry if one was required. No simulation documentation existed indicating that the patient underwent a re-simulation. The patient had informed therapists that she needed to finish by May 6 due to financial reasons for lodging arrangements.\n",
      "\n",
      "\n",
      "[Evaluation]:\n",
      "\n",
      "\n",
      "Evaluation: Identical\n",
      "\n",
      "Explanation: The generated summary accurately reflects the meaning of the narrative, with no discrepancies in information or interpretation. Both the narrative and the summary describe the same situation where the patient's devices were discarded before receiving a boost, and there was no communication about it to the therapists. Additionally, both state that the patient had informed therapists about her financial lodging arrangements and needed to finish by May 6. The summary is concise and maintains the essential details of the narrative, making it identical in meaning.\n",
      "\n"
     ]
    },
    {
     "name": "stderr",
     "output_type": "stream",
     "text": [
      "\n",
      "\n",
      "\n",
      "\u001b[A\u001b[A\u001b[A"
     ]
    },
    {
     "name": "stdout",
     "output_type": "stream",
     "text": [
      "\n",
      "[Success] Evaluation for model 'mixtral' successfully generated for key: event:77580\n",
      "\n",
      "[Narrative]:\n",
      "Simulation for rectal cancer. During zoom coverage of the scan (that was already completed), physician asked therapists if gross disease was wired. It had not been since it was not ordered.\n",
      "\n",
      "\n",
      "[Summary]:\n",
      "\n",
      "\n",
      "A physician, during a Zoom discussion about a previously conducted rectal cancer scan, inquired from the therapists whether the gross disease had been marked for further treatment. However, they responded that it had not been wired as it had not been ordered.\n",
      "\n",
      "\n",
      "[Evaluation]:\n",
      "\n",
      "\n",
      "Evaluation: Identical\n",
      "\n",
      "Explanation: The narrative and summary are identical in meaning. Both convey that during a Zoom discussion about a rectal cancer scan, the physician asked if the gross disease was marked for further treatment, but it had not been wired because it was not ordered.\n",
      "\n"
     ]
    },
    {
     "name": "stderr",
     "output_type": "stream",
     "text": [
      "\n",
      "\n",
      "\n",
      "\u001b[A\u001b[A\u001b[A"
     ]
    },
    {
     "name": "stdout",
     "output_type": "stream",
     "text": [
      "\n",
      "[Success] Evaluation for model 'mixtral' successfully generated for key: event:48008\n",
      "\n",
      "[Narrative]:\n",
      "A treatment plan was modified to add structures to the CBCT for alignment. When that happened it took the plan to planning approved. A message was sent to physics but it was not received so it did not get treatment approved. It was noticed when the patient was called back and it would not mode up. Physics was notified and it was treatment approved after speaking with dosimetry\n",
      "\n",
      "\n",
      "[Summary]:\n",
      "\n",
      "\n",
      "A modification was made to a treatment plan involving the addition of structures to CBCT for alignment purposes. This change took the plan to a planning approval stage. However, a message regarding this update was not received by physics, resulting in the treatment not being authorized. The issue was discovered when the patient returned and the machine failed to mode up. Physics was subsequently contacted, and after speaking with dosimetry, the treatment was approved.\n",
      "\n",
      "\n",
      "[Evaluation]:\n",
      "\n",
      "\n",
      "Evaluation: Similar\n",
      "\n",
      "Explanation: The summary accurately captures the main points of the narrative, including the modification to the treatment plan, the addition of structures for alignment, the failure to receive a message by physics leading to unapproved treatment, and the discovery of the issue when the patient returned. However, the summary uses the term \"mode up\" instead of \"modify,\" which is used in the narrative. Despite this minor discrepancy, the meaning of the two texts is similar.\n",
      "\n"
     ]
    },
    {
     "name": "stderr",
     "output_type": "stream",
     "text": [
      "\n",
      "\n",
      "\n",
      "\u001b[A\u001b[A\u001b[A"
     ]
    },
    {
     "name": "stdout",
     "output_type": "stream",
     "text": [
      "\n",
      "[Success] Evaluation for model 'mixtral' successfully generated for key: event:38662\n",
      "\n",
      "[Narrative]:\n",
      "wrong imaging on RX. patient is treated with rapid arc's which should be KV daily but RX said MV weekly.\n",
      "\n",
      "\n",
      "[Summary]:\n",
      "\n",
      "\n",
      "A patient received an incorrect imaging result, and as a consequence, underwent Rapid Arc treatments instead of the prescribed daily KV treatments. The specified treatment was supposed to be MV weekly, but this information was not followed.\n",
      "\n",
      "\n",
      "[Evaluation]:\n",
      "\n",
      "\"Similar\n",
      "\n",
      "The summary accurately captures the main points of the narrative, including the incorrect imaging result and the patient receiving a different treatment than what was prescribed. However, it does not explicitly state that the treatments should have been KV daily, only that they were supposed to be MV weekly. This is a minor discrepancy, but it still affects the overall accuracy of the summary.\"\n",
      "\n"
     ]
    },
    {
     "name": "stderr",
     "output_type": "stream",
     "text": [
      "\n",
      "\n",
      "\n",
      "\u001b[A\u001b[A\u001b[A"
     ]
    },
    {
     "name": "stdout",
     "output_type": "stream",
     "text": [
      "\n",
      "[Success] Evaluation for model 'mixtral' successfully generated for key: event:74689\n",
      "\n",
      "[Narrative]:\n",
      "Patient consented for radiation therapy to thorax. Plan named 2.1 Abodmen. Reconsent needed on 1st day of treatment.\n",
      "\n",
      "\n",
      "[Summary]:\n",
      "\n",
      "\n",
      "A patient has given consent for radiation therapy to be administered to their thorax, specifically following a plan labeled as 2.1 Abdomen. It is necessary for the patient to re-consent on the first day of treatment.\n",
      "\n",
      "\n",
      "[Evaluation]:\n",
      "\n",
      "\n"
     ]
    },
    {
     "name": "stderr",
     "output_type": "stream",
     "text": [
      "\n",
      "\n",
      "\n",
      "\u001b[A\u001b[A\u001b[A"
     ]
    },
    {
     "name": "stdout",
     "output_type": "stream",
     "text": [
      "\n",
      "[Success] Evaluation for model 'mixtral' successfully generated for key: event:70921\n",
      "\n",
      "[Narrative]:\n",
      "The yellow sheet was labeled that patient would be breath hold, but the prescription had \"none\" listed under gating. Verified with DOS and they changed prescription to include breath hold.\n",
      "\n",
      "\n",
      "[Summary]:\n",
      "\n",
      "\n",
      "A yellow label on a patient's file indicated that the patient should undergo breath holding during a procedure. However, the corresponding prescription contained \"none\" instead of breath hold as the gating method. This was confirmed with the Department of Anesthesia (DOS), and the prescription was subsequently updated to include breath hold as the gating method.\n",
      "\n",
      "\n",
      "[Evaluation]:\n",
      "\n",
      "Answer: Identical\n",
      "\n",
      "Explanation: The summary accurately reflects the information presented in the narrative. Both the narrative and the summary state that a yellow label on a patient's file indicated that the patient should undergo breath holding during a procedure, but the corresponding prescription contained \"none\" instead of breath hold as the gating method. Additionally, both sources mention that this discrepancy was confirmed with the Department of Anesthesia (DOS) and that the prescription was updated to include breath hold as the gating method. Therefore, the meaning of the narrative and the summary are identical.\n",
      "\n"
     ]
    },
    {
     "name": "stderr",
     "output_type": "stream",
     "text": [
      "\n",
      "\n",
      "\n",
      "\u001b[A\u001b[A\u001b[A\n",
      "\n",
      "\n",
      "\u001b[A\u001b[A\u001b[A"
     ]
    },
    {
     "name": "stdout",
     "output_type": "stream",
     "text": [
      "\n",
      "[Success] Evaluation for model 'mixtral' successfully generated for key: event:47045\n",
      "\n",
      "[Narrative]:\n",
      "Weekly chart check was complete, but the chart QA button wasn't hit. The weekly report was run in the morning on day 1 and afternoon of day 2 causing 2 fractions to be treated and putting the patient out of compliance for billing.\n",
      "\n",
      "\n",
      "[Summary]:\n",
      "\n",
      "\n",
      "A weekly chart review was conducted, but the quality assurance (QA) button was not clicked after the process was finished. Consequently, a weekly report was generated twice - once in the morning on day 1 and another time in the afternoon on day 2. This double generation of reports led to two fractions being treated for the same patient, resulting in their billing status becoming non-compliant.\n",
      "\n",
      "\n",
      "[Evaluation]:\n",
      "\n",
      "\n",
      "Evaluation: Identical\n",
      "\n",
      "Explanation: The generated summary accurately captures the main points of the narrative. Both the narrative and the summary mention that a weekly chart review was conducted but the QA button was not clicked, resulting in two weekly reports being generated. This led to two fractions being treated for the same patient, causing their billing status to become non-compliant. Therefore, the meaning of the narrative and the summary are identical.\n",
      "\n",
      "\n",
      "[Success] Evaluation for model 'mixtral' successfully generated for key: event:45747\n",
      "\n",
      "[Narrative]:\n",
      "No consent obtained prior to treatment.\n",
      "\n",
      "\n",
      "[Summary]:\n",
      "\n",
      "\n",
      "An individual did not give their approval for a medical procedure or treatment before it was administered.\n",
      "\n",
      "\n",
      "[Evaluation]:\n",
      "\n",
      "\n"
     ]
    },
    {
     "name": "stderr",
     "output_type": "stream",
     "text": [
      "\n",
      "\n",
      "\n",
      "\u001b[A\u001b[A\u001b[A"
     ]
    },
    {
     "name": "stdout",
     "output_type": "stream",
     "text": [
      "\n",
      "[Success] Evaluation for model 'mixtral' successfully generated for key: event:39216\n",
      "\n",
      "[Narrative]:\n",
      "Patient was under treatment for her SYED. There were 19 channels total, the 19th channel was the tandem. The tandem was not connected to patient yet but was connected to machine. The 18 other channels were being treated. After the 18th channel was treated, the machine was not stopped in time for us to enter the room and connect the tandem to the patient. The source left the machine and was out of the machine in the 19th channel for a total of 24 seconds. The channel was hung over the side of bed, laying across patient's left leg. The end tip of the catheter was not touching patient. The treatment was stopped. We entered room and checked to make sure source was returned back to machine with Geiger counter. Source was returned to machine adequately. We then hooked up the tandem channel to the patient and finished her treatment. Dr. Shen, Dr. Stanley and Dr. Marcrom were immediately aware of the incident and the exposure dosage was calculated and documented.\n",
      "\n",
      "\n",
      "[Summary]:\n",
      " The event describes a medical procedure involving a patient undergoing treatment for an unspecified condition using a machine with 19 channels, one of which is referred to as the tandem channel. The tandem channel was not yet connected to the patient when the machine continued treating after the 18th channel was finished. As a result, the source, which emits radiation, was left in the 19th channel for 24 seconds and hung over the side of the bed next to the patient. The treatment was stopped, and the team ensured that the source was returned to the machine before connecting the tandem channel to the patient and completing the procedure. Doctors Shen, Stanley, and Marcrom were aware of the incident and calculated the exposure dosage.\n",
      "\n",
      "\n",
      "[Evaluation]:\n",
      "\n",
      "\n",
      "Evaluation: Similar\n",
      "\n",
      "Explanation: The generated summary accurately captures the main points of the narrative, including the presence of a patient undergoing treatment with a machine containing 19 channels, one of which is the tandem channel. The summary also correctly states that the tandem channel was not yet connected to the patient when the machine continued treating after the 18th channel was finished, resulting in the source being left in the 19th channel for 24 seconds and hung over the side of the bed next to the patient. Additionally, the summary mentions that the team ensured that the source was returned to the machine before connecting the tandem channel to the patient and completing the procedure, and that doctors Shen, Stanley, and Marcrom were aware of the incident and calculated the exposure dosage.\n",
      "\n",
      "However, there are a few minor differences between the narrative and the summary. The narrative specifies that the source was left in the 19th channel for 24 seconds while it was out of the machine, whereas the summary simply states that the source was left in the 19th channel for 24 seconds. Additionally, the narrative mentions that the end tip of the catheter was not touching patient, but this detail is not included in the summary.\n",
      "\n",
      "Overall, the meaning of the narrative and the generated summary are similar, with only a few minor differences.\n",
      "\n"
     ]
    },
    {
     "name": "stderr",
     "output_type": "stream",
     "text": [
      "\n",
      "\n",
      "\n",
      "\u001b[A\u001b[A\u001b[A"
     ]
    },
    {
     "name": "stdout",
     "output_type": "stream",
     "text": [
      "\n",
      "[Success] Evaluation for model 'mixtral' successfully generated for key: event:51134\n",
      "\n",
      "[Narrative]:\n",
      "Patient was initially simulated Aug 2021. Patient came back for a resim Jan 2021. The patient was under Planning Status: Simulation Complete on whiteboard. The sim staff only added a comment \" PROTON PROSTATE SCAN COMPLETE\" instead of pushing the task forward.\n",
      "\n",
      "\n",
      "[Summary]:\n",
      "\n",
      "\n",
      "The patient, who had previously been simulated in August 2021, returned for a resim in January 2021. During this visit, the patient's status on the whiteboard was listed as \"Planning Status: Simulation Complete.\" The simulation team only added a comment to the task, stating \"PROTON PROSTATE SCAN COMPLETE,\" instead of advancing the task further.\n",
      "\n",
      "\n",
      "[Evaluation]:\n",
      "\n",
      "\n",
      "Evaluation: Identical\n",
      "\n",
      "Explanation: The generated summary accurately reflects the information provided in the narrative. Both the narrative and the summary indicate that the patient was initially simulated in August 2021, returned for a resim in January 2021, and had a status of \"Planning Status: Simulation Complete\" on the whiteboard during their second visit. Additionally, both the narrative and the summary state that the simulation team added a comment to the task instead of advancing it further. The language used in the summary is slightly more formal than that used in the narrative, but this does not affect the overall meaning or accuracy of the summary. Therefore, I would rate the summary as identical to the narrative.\n",
      "\n"
     ]
    },
    {
     "name": "stderr",
     "output_type": "stream",
     "text": [
      "\n",
      "\n",
      "\n",
      "\u001b[A\u001b[A\u001b[A"
     ]
    },
    {
     "name": "stdout",
     "output_type": "stream",
     "text": [
      "\n",
      "[Success] Evaluation for model 'mixtral' successfully generated for key: event:77071\n",
      "\n",
      "[Narrative]:\n",
      "New start task stated to schedule on the True Beam. But it was planned for the IX.\n",
      "\n",
      "\n",
      "[Summary]:\n",
      "\n",
      "\n",
      "A new starting task was intended to be scheduled on the True Beam, but it was actually planned for the IX.\n",
      "\n",
      "\n",
      "[Evaluation]:\n",
      "\n",
      "\n"
     ]
    },
    {
     "name": "stderr",
     "output_type": "stream",
     "text": [
      "\n",
      "\n",
      "\n",
      "\u001b[A\u001b[A\u001b[A"
     ]
    },
    {
     "name": "stdout",
     "output_type": "stream",
     "text": [
      "\n",
      "[Success] Evaluation for model 'mixtral' successfully generated for key: event:71811\n",
      "\n",
      "[Narrative]:\n",
      "PT has matching CW/SCLAV/Electron fields for her LT CW tx. On this day, KVs were taken to align the CW Iso. Then shifts were made to SCLAV iso, the AP SCLAV PORT was filmed, couch parameters were captured and then treated. Today, on Thursday, I started tx with the CW iso, made shifts to SCLAV section and noticed the VRT was off by +3 cm. Upon further inspection, I realized that shifts made from CW to SCLAV on tues were made in the opposite direction for VERTICAL SHIFTS AND TREATED. Physics was notified immediately.\n",
      "\n",
      "\n",
      "[Summary]:\n",
      " The event describes a therapy session involving PT (patient), CW/SCLAV (two different isoforms of the same field), Electron fields, KVs (an unspecified entity taken to align the CF Iso), shifts made between CW and SCLAV isoforms, filming of AP SCLAV port, capture and treatment of couch parameters, and a discovery of an error in vertical shifts during the therapy session on Thursday. The event took place on Tuesday and Thursday. Physics was notified of the error immediately.\n",
      "\n",
      "\n",
      "[Evaluation]:\n",
      "\n",
      "\n"
     ]
    },
    {
     "name": "stderr",
     "output_type": "stream",
     "text": [
      "\n",
      "\n",
      "\n",
      "\u001b[A\u001b[A\u001b[A"
     ]
    },
    {
     "name": "stdout",
     "output_type": "stream",
     "text": [
      "\n",
      "[Success] Evaluation for model 'mixtral' successfully generated for key: event:75749\n",
      "\n",
      "[Narrative]:\n",
      "SPC task for implanted devices was not completed on physics list, powerchart was not signed by a physicist, but plan reviewed and treat approved - devices were noted in powerchart plan review note. Patient had neurostimulator and glucose pump. Neurostimulator is not removable, but the glucose pump is removable. Physicist believed both devices were removable. Plan was done with 15X, 3D, 100 cGy./1fx plan. Plan proceed with 15X due to low MU\n",
      "\n",
      "\n",
      "[Summary]:\n",
      "\n",
      "\n",
      "A task related to the safety check of implanted medical devices, specifically a neurostimulator and a glucose pump, was not finished on the physics list. The powerchart for these devices was not signed by a physicist. However, the treatment plan was reviewed and approved, with notes regarding the presence of the devices in the plan. The neurostimulator is non-removable, while the glucose pump can be taken out. Despite this discrepancy, the plan proceeded using a 15X, 3D, 100 cGy./1fx scheme due to having a low number of monitor units (MU).\n",
      "\n",
      "\n",
      "[Evaluation]:\n",
      "\n",
      "\n",
      "Evaluation: Similar\n",
      "\n",
      "Explanation: The summary accurately captures the main points of the narrative, including the incomplete safety check task for implanted devices, the unsigned powerchart, and the review and approval of the treatment plan with notes about the devices. It also correctly identifies the types of devices (a neurostimulator and a glucose pump) and their removability. However, it incorrectly states that the physicist believed both devices were removable when in fact they only believed the glucose pump was removable. Additionally, while the summary mentions the use of a 15X scheme due to low MU, it does not explicitly state that this was used for the treatment plan. Overall, the summary is similar to the narrative but contains some minor errors and omissions.\n",
      "\n"
     ]
    },
    {
     "name": "stderr",
     "output_type": "stream",
     "text": [
      "\n",
      "\n",
      "\n",
      "\u001b[A\u001b[A\u001b[A"
     ]
    },
    {
     "name": "stdout",
     "output_type": "stream",
     "text": [
      "\n",
      "[Success] Evaluation for model 'mixtral' successfully generated for key: event:73999\n",
      "\n",
      "[Narrative]:\n",
      "Plan required and was calculated with 1 cm bolus, but prescription specified 5 mm bolus. Treatment plan was approved by physics. Caught by therapy at pretreatment check 20 min prior to treatment. Prescription was corrected by physician and required re-treatment approval by physics and re-linking to revised prescription.\n",
      "\n",
      "\n",
      "[Summary]:\n",
      "\n",
      "\n",
      "A 1 cm bolus was initially planned for a treatment, but the prescription called for a 5 mm bolus instead. The plan was approved by physics. However, during a pretreatment check 20 minutes before the scheduled treatment, the discrepancy was discovered by therapy. The prescription was corrected by a physician and required subsequent approval from physics as well as re-linking to the revised prescription.\n",
      "\n",
      "\n",
      "[Evaluation]:\n",
      "\n",
      "\n",
      "Evaluation: Identical\n",
      "\n",
      "Explanation: The summary accurately reflects the narrative with only minor differences in wording. Both convey that a 1 cm bolus was initially planned, but the prescription called for a 5 mm bolus, and this discrepancy was discovered during a pretreatment check. Additionally, both state that the prescription was corrected by a physician and required subsequent approval from physics as well as re-linking to the revised prescription.\n",
      "\n"
     ]
    },
    {
     "name": "stderr",
     "output_type": "stream",
     "text": [
      "\n",
      "\n",
      "\n",
      "\u001b[A\u001b[A\u001b[A"
     ]
    },
    {
     "name": "stdout",
     "output_type": "stream",
     "text": [
      "\n",
      "[Success] Evaluation for model 'mixtral' successfully generated for key: event:45807\n",
      "\n",
      "[Narrative]:\n",
      "physician turned over contours as \"ready for planning\" with boost volume extending outside of the initial volume.\n",
      "\n",
      "\n",
      "[Summary]:\n",
      "\n",
      "\n",
      "A physician reported that the contours of a patient's treatment area have been prepared for further planning, with the boost volume extending beyond the original volume.\n",
      "\n",
      "\n",
      "[Evaluation]:\n",
      "\n",
      "\n",
      "Evaluation: Similar\n",
      "\n",
      "Explanation: The generated summary accurately conveys the main idea of the narrative, which is that a physician has prepared the contours of a patient's treatment area for further planning and that the boost volume extends beyond the initial volume. However, the wording used in the summary is slightly different from that used in the narrative, hence the grade of 'Similar'.\n",
      "\n"
     ]
    },
    {
     "name": "stderr",
     "output_type": "stream",
     "text": [
      "\n",
      "\n",
      "\n",
      "\u001b[A\u001b[A\u001b[A"
     ]
    },
    {
     "name": "stdout",
     "output_type": "stream",
     "text": [
      "\n",
      "[Success] Evaluation for model 'mixtral' successfully generated for key: event:52862\n",
      "\n",
      "[Narrative]:\n",
      "During Therapist chart check it was noticed that the RT prescription had Bolus listed as Every Other Treatment.  It did not state which thickness.  After asking the dosimetrist and physician, it was determined that bolus was not needed for the treatment.  The physician was asked to modify his RT prescription.\n",
      "\n",
      "\n",
      "[Summary]:\n",
      "\n",
      "\n",
      "A therapist discovered during a chart check that a radiation therapy (RT) prescription listed 'Bolus' as being administered every other treatment, but no thickness was specified. After consulting with the dosimetrist and physician, it was determined that bolus was not required for the treatment. The physician was requested to modify his RT prescription accordingly.\n",
      "\n",
      "\n",
      "[Evaluation]:\n",
      "\n",
      "Evaluation: Identical\n",
      "\n",
      "Explanation: The generated summary accurately captures the main points of the narrative. Both the narrative and the summary mention that a therapist discovered an issue with the RT prescription during a chart check, specifically that bolus was listed as being administered every other treatment without specifying a thickness. They both also mention that after consulting with the dosimetrist and physician, it was determined that bolus was not needed for the treatment and that the physician was asked to modify his RT prescription accordingly. The only minor difference is that the summary uses the phrase \"radiation therapy (RT)\" instead of just \"RT,\" but this does not affect the overall meaning or accuracy of the summary.\n",
      "\n"
     ]
    },
    {
     "name": "stderr",
     "output_type": "stream",
     "text": [
      "\n",
      "\n",
      "\n",
      "\u001b[A\u001b[A\u001b[A"
     ]
    },
    {
     "name": "stdout",
     "output_type": "stream",
     "text": [
      "\n",
      "[Success] Evaluation for model 'mixtral' successfully generated for key: event:51629\n",
      "\n",
      "[Narrative]:\n",
      "(self reported) Physician contoured lumpectomy cavity on patient for whole breast treatment. Patient had swelling, decided to re-CT sim. Realized the lumpectomy cavity that was initially contoured and wired was actually a cavity that had benign disease,. There was a more subtle area that was very difficult to discern on initial CT sim but more prominent on repeat CT sim was the actual cavity with disease. The actual cavity was much more inferior and lateral, underneath the breast and had not been wired. I would not have thought to wire it either, since there was an obvious areolar incision site for the benign area that was excised so this is not a critique of sim staff. Had she not developed any swelling, I could have very easily never re-CT simmed her and treated the wrong cavity site that was not as apparent on the scan.\n",
      "\n",
      "\n",
      "[Summary]:\n",
      " The event describes a physician performing a contoured lumpectomy on a patient for whole breast treatment. The patient experienced swelling and underwent a repeat CT simulation. During the repeat simulation, it was discovered that the initially contoured and wired cavity was actually benign, and the actual cavity with disease was located in a different area that was more difficult to discern on the initial simulation. The physician did not wire the correct cavity site due to the presence of an obvious incision site for the benign area.\n",
      "\n",
      "\n",
      "[Evaluation]:\n",
      "\n",
      "\n",
      "Evaluation: Similar\n",
      "\n",
      "Explanation: The generated summary accurately captures the main points of the narrative, including the performance of a contoured lumpectomy on a patient, the discovery that the initially contoured and wired cavity was actually benign, and the location of the actual cavity with disease. However, the summary does not explicitly mention that the patient experienced swelling or underwent a repeat CT simulation, which are important details in the narrative. Therefore, while the meaning of the narrative and the generated summary are similar, they are not identical.\n",
      "\n"
     ]
    },
    {
     "name": "stderr",
     "output_type": "stream",
     "text": [
      "\n",
      "\n",
      "\n",
      "\u001b[A\u001b[A\u001b[A"
     ]
    },
    {
     "name": "stdout",
     "output_type": "stream",
     "text": [
      "\n",
      "[Success] Evaluation for model 'mixtral' successfully generated for key: event:75635\n",
      "\n",
      "[Narrative]:\n",
      "Staging patient is allergic to contrast, but sim was ordered with contrast. The patient was not aware and not told to pre-medicate.\n",
      "\n",
      "\n",
      "[Summary]:\n",
      "\n",
      "\n",
      "A patient scheduled for a simulation scan has an allergy to contrast, yet the order specifies that contrast should be used during the procedure. The patient was unaware of this and was not instructed to take any pre-medication prior to the scan.\n",
      "\n",
      "\n",
      "[Evaluation]:\n",
      "\n",
      "\n",
      "Evaluation: Identical\n",
      "\n",
      "Explanation: The generated summary accurately reflects the meaning of the narrative, using nearly identical wording to describe the situation where a patient with a known allergy to contrast is scheduled for a simulation scan that includes contrast, and was not informed or pre-medicated. This evaluation is 'Identical' as there are no discrepancies between the two texts in terms of meaning or content.\n",
      "\n"
     ]
    },
    {
     "name": "stderr",
     "output_type": "stream",
     "text": [
      "\n",
      "\n",
      "\n",
      "\u001b[A\u001b[A\u001b[A"
     ]
    },
    {
     "name": "stdout",
     "output_type": "stream",
     "text": [
      "\n",
      "[Success] Evaluation for model 'mixtral' successfully generated for key: event:65403\n",
      "\n",
      "[Narrative]:\n",
      "New start patient on Ethos did not have isocenter set in ethos planning system. Therefore, the patient load position from CT sim iso marks was incorrect. Therapist could notice the load isocenter did not seem correct while in the room with the patient. Therapist scanned patient and it required a significant shift to get patient aligned properly. Physics came to look at plan and was able to see there was no isoscenter set, therefore aligning the patient incorrectly in the load position. Once the large shift was made, a scan was repeated and ensured correct alignment for treatment- okay'ed to  treat per physics.\n",
      "\n",
      "\n",
      "[Summary]:\n",
      "\n",
      "\n",
      "A new patient undergoing treatment at Ethos had an incorrect isocenter set in the planning system. As a result, the patient load position from the CT simulation iso marks was inaccurate. The therapist noticed this during the preparation process and scanned the patient again, requiring a significant adjustment to align the patient properly. Upon examination of the plan by the physics team, it was determined that no isocenter had been set, leading to the incorrect alignment of the patient in the load position. After making the necessary correction, another scan was conducted to ensure proper alignment for treatment. The therapy session was then approved to proceed.\n",
      "\n",
      "\n",
      "[Evaluation]:\n",
      "\n",
      "\n",
      "Evaluation: Identical\n",
      "\n",
      "Explanation: The generated summary accurately captures the main points of the narrative and conveys the same meaning. Both the narrative and the summary describe a new patient at Ethos who had an incorrect isocenter set in the planning system, leading to an inaccurate patient load position from CT simulation iso marks. They both mention that the therapist noticed the issue during preparation and made a significant adjustment to align the patient properly. The physics team determined that no isocenter had been set, leading to the incorrect alignment of the patient in the load position. Finally, they both state that another scan was conducted to ensure proper alignment for treatment and the therapy session was approved to proceed.\n",
      "\n"
     ]
    },
    {
     "name": "stderr",
     "output_type": "stream",
     "text": [
      "\n",
      "\n",
      "\n",
      "\u001b[A\u001b[A\u001b[A"
     ]
    },
    {
     "name": "stdout",
     "output_type": "stream",
     "text": [
      "\n",
      "[Success] Evaluation for model 'mixtral' successfully generated for key: event:59361\n",
      "\n",
      "[Narrative]:\n",
      "Proton patient was scanned and put under the incorrect planner (which was a photon planner). Department was correct.\n",
      "\n",
      "\n",
      "[Summary]:\n",
      "\n",
      "\n",
      "A Proton patient underwent a scan, but the wrong planning method was used - it was a photon planner instead of the required proton planner. The department involved in the procedure executed it correctly using the incorrect tool.\n",
      "\n",
      "\n",
      "[Evaluation]:\n",
      "\n",
      "\n",
      "Evaluation: Similar\n",
      "\n",
      "Explanation: The summary accurately captures the main idea of the narrative, which is that a Proton patient was scanned with an incorrect planning method (a photon planner instead of a proton planner). However, the summary goes into slightly more detail than the narrative by specifying that the department executed the procedure correctly using the wrong tool. While this additional information does not change the overall meaning of the summary, it is not explicitly stated in the narrative, which is why I have rated this as 'Similar' rather than 'Identical'.\n",
      "\n"
     ]
    },
    {
     "name": "stderr",
     "output_type": "stream",
     "text": [
      "\n",
      "\n",
      "\n",
      "\u001b[A\u001b[A\u001b[A"
     ]
    },
    {
     "name": "stdout",
     "output_type": "stream",
     "text": [
      "\n",
      "[Success] Evaluation for model 'mixtral' successfully generated for key: event:52126\n",
      "\n",
      "[Narrative]:\n",
      "A SBRT exhalation breath hold patient was on for re-sim and order stated 4D phase 0-90. We paged the doctor to verify and they wanted exhalation breath hold scan.\n",
      "\n",
      "\n",
      "[Summary]:\n",
      "\n",
      "\n",
      "A patient undergoing Stereotactic Body Radiation Therapy (SBRT) with an exhalation breath hold was being prepared for a resimulation, during which the order specified a 4D phase ranging from 0-90. The medical team paged the doctor to confirm the instructions, and the doctor requested an exhalation breath hold scan.\n",
      "\n",
      "\n",
      "[Evaluation]:\n",
      "\n",
      "\n",
      "Evaluation: Identical\n",
      "\n",
      "Explanation: The generated summary accurately captures the meaning of the narrative. Both the narrative and the summary describe a patient undergoing SBRT with an exhalation breath hold who is being prepared for a resimulation, with the order specifying a 4D phase ranging from 0-90. The medical team pages the doctor to confirm the instructions, and the doctor requests an exhalation breath hold scan. Both sources convey the same information and use similar language, making them identical in meaning.\n",
      "\n"
     ]
    },
    {
     "name": "stderr",
     "output_type": "stream",
     "text": [
      "\n",
      "\n",
      "\n",
      "\u001b[A\u001b[A\u001b[A"
     ]
    },
    {
     "name": "stdout",
     "output_type": "stream",
     "text": [
      "\n",
      "[Success] Evaluation for model 'mixtral' successfully generated for key: event:74701\n",
      "\n",
      "[Narrative]:\n",
      "Patient was at HSROC to get CT scan for proton therapy.  Patient was simulated while sucking on a peppermint.  Noticed buy dosimetrist during import, where an unknown object with 367 HU was noted in the lower oral cavity.  Possibly a choking hazard, as the patient was in an mask at the time.  Definitely suboptimal for proton planning.\n",
      "\n",
      "\n",
      "[Summary]:\n",
      "\n",
      "\n",
      "A CT scan was performed on a patient at HSROC for proton therapy. During the simulation process, the patient was sucking on a peppermint. An unknown object with a density of 367 HU was identified by the dosimetrist during import in the lower oral cavity. This could potentially be a choking hazard as the patient was wearing a mask at the time, and it was not ideal for proton therapy planning.\n",
      "\n",
      "\n",
      "[Evaluation]:\n",
      "\n",
      "\"Similar\n",
      "\n",
      "The summary accurately captures the main points of the narrative, including the location of the unknown object (lower oral cavity), its density (367 HU), the potential choking hazard, and the fact that it was not optimal for proton planning. The only minor difference is that the narrative mentions that the patient was simulated while sucking on a peppermint, whereas the summary states that the patient was sucking on a peppermint during the simulation process. However, this does not significantly alter the meaning of the narrative or the summary.\"\n",
      "\n"
     ]
    },
    {
     "name": "stderr",
     "output_type": "stream",
     "text": [
      "\n",
      "\n",
      "\n",
      "\u001b[A\u001b[A\u001b[A"
     ]
    },
    {
     "name": "stdout",
     "output_type": "stream",
     "text": [
      "\n",
      "[Success] Evaluation for model 'mixtral' successfully generated for key: event:60318\n",
      "\n",
      "[Narrative]:\n",
      "Therapist 1,2, and 3 set up a free breathing breast. When therapist 1 sat down to drive a gating file was displayed. How it was displayed and by whom is unknown. Therapist 1 treated the patient with the breath hold file. Therapist 2 had the chart and overlooked the gating instructions during the time out. Therapist 3 was quiet.\n",
      "\n",
      "\n",
      "[Summary]:\n",
      "\n",
      "\n",
      "Therapists 1, 2, and 3 prepared a free breathing protocol for a patient. While therapist 1 began treating the patient using a breath hold file, therapist 2 held the chart and failed to check the gating instructions during a timeout. Therapist 3 remained silent throughout the process.\n",
      "\n",
      "\n",
      "[Evaluation]:\n",
      "\n",
      "\n",
      "Evaluation: Similar\n",
      "\n",
      "Explanation: The summary accurately captures the main points of the narrative, including the preparation of a free breathing protocol, the use of a breath hold file by therapist 1, and the failure of therapist 2 to check the gating instructions during a timeout. However, the summary does not explicitly mention that a gating file was displayed when therapist 1 sat down to drive, or that therapist 3 was quiet throughout the process. Nonetheless, these details do not significantly alter the overall meaning of the narrative and are therefore considered minor discrepancies.\n",
      "\n"
     ]
    },
    {
     "name": "stderr",
     "output_type": "stream",
     "text": [
      "\n",
      "\n",
      "\n",
      "\u001b[A\u001b[A\u001b[A"
     ]
    },
    {
     "name": "stdout",
     "output_type": "stream",
     "text": [
      "\n",
      "[Success] Evaluation for model 'mixtral' successfully generated for key: event:44149\n",
      "\n",
      "[Narrative]:\n",
      "RT prescription for SBRT Lung was for \"Once Daily, Non-consecutive Days\", however, physician and physician admin. support scheduled patient for consecutive days.  We asked the physician how he wanted the patient to be treated and he stated it should by consecutive days.  The physician and physicist changed the prescription to match \"Once Daily, Consecutive Days\".\n",
      "\n",
      "\n",
      "[Summary]:\n",
      "\n",
      "\n",
      "A prescription for SBRT (Stereotactic Body Radiation Therapy) for a lung condition from RT (Radiotherapy) was initially written as \"Once Daily, Non-consecutive Days.\" However, the patient was scheduled for consecutive day treatments by both the physician and administrative support. When asked about the preferred treatment schedule, the physician confirmed that consecutive days were intended. Subsequently, the prescription was amended to reflect \"Once Daily, Consecutive Days.\"\n",
      "\n",
      "\n",
      "[Evaluation]:\n",
      "\n",
      "\n",
      "Evaluation: Identical\n",
      "\n",
      "Explanation: The summary accurately captures the main points of the narrative. It correctly states that the initial prescription for SBRT Lung therapy was for non-consecutive days but was changed to consecutive days after the physician confirmed this was their intention. Both the narrative and the summary also mention the involvement of both the physician and administrative support in scheduling the patient's treatment. The summary is identical to the narrative in terms of meaning and content.\n",
      "\n"
     ]
    },
    {
     "name": "stderr",
     "output_type": "stream",
     "text": [
      "\n",
      "\n",
      "\n",
      "\u001b[A\u001b[A\u001b[A"
     ]
    },
    {
     "name": "stdout",
     "output_type": "stream",
     "text": [
      "\n",
      "[Success] Evaluation for model 'mixtral' successfully generated for key: event:76009\n",
      "\n",
      "[Narrative]:\n",
      "Sim was ordered for a 4d scan. When the doctor came in to review sim they realized we had only done 4d scan and asked us to add expiratory bh scan.\n",
      "\n",
      "\n",
      "[Summary]:\n",
      "\n",
      "\n",
      "A patient named Sim underwent a 4D ultrasound scan. The medical team discovered during the review of the results that an expiratory belt harmonic scan was missing. They requested that this additional scan be added.\n",
      "\n",
      "\n",
      "[Evaluation]:\n",
      "\n",
      "\n"
     ]
    },
    {
     "name": "stderr",
     "output_type": "stream",
     "text": [
      "\n",
      "\n",
      "\n",
      "\u001b[A\u001b[A\u001b[A"
     ]
    },
    {
     "name": "stdout",
     "output_type": "stream",
     "text": [
      "\n",
      "[Success] Evaluation for model 'mixtral' successfully generated for key: event:62129\n",
      "\n",
      "[Narrative]:\n",
      "Dosi was print up the patient to start and noticed there was not a diagnosis code in.\n",
      "\n",
      "\n",
      "[Summary]:\n",
      "\n",
      "\n",
      "A problem was identified by Dosi during the process of printing up a patient's records. The absence of a diagnosis code was noted.\n",
      "\n",
      "\n",
      "[Evaluation]:\n",
      "\n",
      "\n",
      "Evaluation: Similar\n",
      "\n",
      "Explanation: The narrative and the generated summary convey similar meanings, with both mentioning that Dosi noticed an issue while preparing a patient's records and specifically pointing out the missing diagnosis code. However, they are not identical because the narrative uses more colloquial language (\"print up\") compared to the summary's formal tone.\n",
      "\n"
     ]
    },
    {
     "name": "stderr",
     "output_type": "stream",
     "text": [
      "\n",
      "\n",
      "\n",
      "\u001b[A\u001b[A\u001b[A"
     ]
    },
    {
     "name": "stdout",
     "output_type": "stream",
     "text": [
      "\n",
      "[Success] Evaluation for model 'mixtral' successfully generated for key: event:37713\n",
      "\n",
      "[Narrative]:\n",
      "Pt was a sim and tx offline on first day of tx. For her second tx, dos and physics put pt hand calculation into ARIA. When we moded up the tx field to verify the information was accurate, we noticed that the energy was 6x instead of 15x which was used the first day of tx. Physicist was notified and revised the plan in ARIA.\n",
      "\n",
      "\n",
      "[Summary]:\n",
      "\n",
      "\n",
      "A simulation named Pt was offline during the first transaction with Tx. For the second transaction, dos and physics inputted Pt's hand calculation into ARIA system. Upon verifying the information, it was discovered that the energy level was six times instead of fifteen times the previous day's value. The physicist was informed and made necessary revisions in ARIA.\n",
      "\n",
      "\n",
      "[Evaluation]:\n",
      "\n",
      "\n",
      "Evaluation: Similar\n",
      "\n",
      "Explanation: The generated summary accurately captures the main points of the narrative, including the issue with the simulation during the first transaction, the use of hand calculations for the second transaction, and the discrepancy in energy levels that was discovered and addressed. However, the summary uses the term \"transaction\" instead of \"treatment,\" which is used in the narrative. Additionally, the summary specifies that the information was verified by modifying up the tx field, while the narrative simply states that the information was verified. These differences in wording and specificity result in a 'Similar' rating rather than 'Identical'.\n",
      "\n"
     ]
    },
    {
     "name": "stderr",
     "output_type": "stream",
     "text": [
      "\n",
      "\n",
      "\n",
      "\u001b[A\u001b[A\u001b[A"
     ]
    },
    {
     "name": "stdout",
     "output_type": "stream",
     "text": [
      "\n",
      "[Success] Evaluation for model 'mixtral' successfully generated for key: event:47247\n",
      "\n",
      "[Narrative]:\n",
      "Mislabeled kv image. Should have been labeled as kv 180, but was labeled kv 0.\n",
      "\n",
      "\n",
      "[Summary]:\n",
      "\n",
      "\n",
      "An incorrect label was assigned to a kv image; it should have been identified as kv 180, but was instead labeled as kv 0.\n",
      "\n",
      "\n",
      "[Evaluation]:\n",
      "\n",
      "\n"
     ]
    },
    {
     "name": "stderr",
     "output_type": "stream",
     "text": [
      "\n",
      "\n",
      "\n",
      "\u001b[A\u001b[A\u001b[A"
     ]
    },
    {
     "name": "stdout",
     "output_type": "stream",
     "text": [
      "\n",
      "[Success] Evaluation for model 'mixtral' successfully generated for key: event:43790\n",
      "\n",
      "[Narrative]:\n",
      "Imported new start gating file did not match planned gating file. Patient had 2 simulations causing the confusion. Machine schedule was delayed an hour.\n",
      "\n",
      "\n",
      "[Summary]:\n",
      "\n",
      "\n",
      "A newly imported gating file for a procedure did not align with the planned gating file due to two discrepancies from previous patient simulations. As a result, the machine schedule was adjusted by one hour.\n",
      "\n",
      "\n",
      "[Evaluation]:\n",
      "\n",
      "\n"
     ]
    },
    {
     "name": "stderr",
     "output_type": "stream",
     "text": [
      "\n",
      "\n",
      "\n",
      "\u001b[A\u001b[A\u001b[A"
     ]
    },
    {
     "name": "stdout",
     "output_type": "stream",
     "text": [
      "\n",
      "[Success] Evaluation for model 'mixtral' successfully generated for key: event:78016\n",
      "\n",
      "[Narrative]:\n",
      "MIP30-70 was improperly created. The image labeled MIP30-70 shows that 'mean' was selected. When images are blended, it is clear that they are the same image.\n",
      "\n",
      "\n",
      "[Summary]:\n",
      "\n",
      "\n",
      "An image labeled as MIP30-70 was produced with an incorrect method, resulting in an identical image when merged with another. The designated label for this image indicates that the 'mean' selection was applied during its creation.\n",
      "\n",
      "\n",
      "[Evaluation]:\n",
      "\n",
      "\n",
      "Evaluation: Identical\n",
      "\n",
      "Explanation: The narrative and summary are identical in meaning. Both convey that the image labeled MIP30-70 was improperly created, specifically through the use of an incorrect method resulting in an identical image when merged with another. Additionally, both mention that the 'mean' selection was applied during the creation of this image.\n",
      "\n"
     ]
    },
    {
     "name": "stderr",
     "output_type": "stream",
     "text": [
      "\n",
      "\n",
      "\n",
      "\u001b[A\u001b[A\u001b[A"
     ]
    },
    {
     "name": "stdout",
     "output_type": "stream",
     "text": [
      "\n",
      "[Success] Evaluation for model 'mixtral' successfully generated for key: event:71645\n",
      "\n",
      "[Narrative]:\n",
      "Plan not treatment approved morning of new start appointment.\n",
      "\n",
      "\n",
      "[Summary]:\n",
      "\n",
      "\n",
      "A plan, rather than a treatment, was given approval during a new start appointment that took place in the morning.\n",
      "\n",
      "\n",
      "[Evaluation]:\n",
      "\n",
      "\n",
      "Evaluation: Identical\n",
      "\n",
      "Explanation: The narrative and the generated summary convey the same meaning. Both state that a plan was approved during a new start appointment in the morning, rather than a treatment. Therefore, the evaluation is 'Identical'.\n",
      "\n"
     ]
    },
    {
     "name": "stderr",
     "output_type": "stream",
     "text": [
      "\n",
      "\n",
      "\n",
      "\u001b[A\u001b[A\u001b[A"
     ]
    },
    {
     "name": "stdout",
     "output_type": "stream",
     "text": [
      "\n",
      "[Success] Evaluation for model 'mixtral' successfully generated for key: event:75596\n",
      "\n",
      "[Narrative]:\n",
      "A process maker status was not updated after a patient's simulation was complete. The comment section read \"please import;phase selection.\" the patient was not imported because dosimetry is not notified by a comment change. This was only caught when a dosimetry team member was clearing off patients who were never actually simulated.\n",
      "\n",
      "\n",
      "[Summary]:\n",
      "\n",
      "\n",
      "A status for processing a patient's simulation remained unchanged after completion. The note section contained the instruction \"import;phase selection.\" However, due to the lack of notification from a comment modification, the patient was not imported. This oversight was discovered during the review of patients who had not undergone simulation.\n",
      "\n",
      "\n",
      "[Evaluation]:\n",
      "\n",
      "\n",
      "Evaluation: Identical\n",
      "\n",
      "Explanation: The summary accurately reflects the narrative by stating that the process maker status was not updated after a patient's simulation was complete, the comment section contained the instruction \"import;phase selection,\" and the patient was not imported due to lack of notification from a comment modification. The summary also mentions that this oversight was discovered during a review of patients who had not undergone simulation, which is consistent with the narrative. Therefore, the meaning of the narrative and the generated summary are identical.\n",
      "\n"
     ]
    },
    {
     "name": "stderr",
     "output_type": "stream",
     "text": [
      "\n",
      "\n",
      "\n",
      "\u001b[A\u001b[A\u001b[A"
     ]
    },
    {
     "name": "stdout",
     "output_type": "stream",
     "text": [
      "\n",
      "[Success] Evaluation for model 'mixtral' successfully generated for key: event:74575\n",
      "\n",
      "[Narrative]:\n",
      "New start was cancelled due to collision issues and told to expect a call when the replan was complete. Therapy was not notified revision was complete and starting the next day.\n",
      "\n",
      "\n",
      "[Summary]:\n",
      "\n",
      "\n",
      "A new start, which had been scheduled, was canceled due to collision concerns. Those involved were instructed to wait for further communication regarding a new plan. Therapy was not informed that the revision was completed and would begin the following day.\n",
      "\n",
      "\n",
      "[Evaluation]:\n",
      "\n",
      "\n"
     ]
    },
    {
     "name": "stderr",
     "output_type": "stream",
     "text": [
      "\n",
      "\n",
      "\n",
      "\u001b[A\u001b[A\u001b[A"
     ]
    },
    {
     "name": "stdout",
     "output_type": "stream",
     "text": [
      "\n",
      "[Success] Evaluation for model 'mixtral' successfully generated for key: event:47003\n",
      "\n",
      "[Narrative]:\n",
      "An order was submitted for a patient that indicated the right breast was to be simulated. When the therapists started the simulation, they noticed that the patient's scar was on the left breast. Also, when they verified with the patient which breast was being simulated for treatment, they verified the left breast. This order was submitted by Dr. Keene.\n",
      "\n",
      "\n",
      "[Summary]:\n",
      "\n",
      "\n",
      "An order calling for right breast simulation was placed by Dr. Keene for a patient. During the simulation process, it was discovered that the patient's scar was located on the left breast and the patient confirmed that the left breast was to be simulated for treatment.\n",
      "\n",
      "\n",
      "[Evaluation]:\n",
      "\n",
      "\n",
      "Evaluation: Similar\n",
      "\n",
      "Explanation: The summary accurately captures the main points of the narrative, including the order for right breast simulation, the discovery of a scar on the left breast, and the confirmation from the patient that the left breast was to be simulated for treatment. However, the summary incorrectly states that the order was placed by Dr. Keene for \"a patient,\" while the narrative specifies the name of the doctor who submitted the order. Therefore, I would rate the summary as similar to the narrative rather than identical.\n",
      "\n"
     ]
    },
    {
     "name": "stderr",
     "output_type": "stream",
     "text": [
      "\n",
      "\n",
      "\n",
      "\u001b[A\u001b[A\u001b[A"
     ]
    },
    {
     "name": "stdout",
     "output_type": "stream",
     "text": [
      "\n",
      "[Success] Evaluation for model 'mixtral' successfully generated for key: event:39067\n",
      "\n",
      "[Narrative]:\n",
      "retroperitoneal LN that is receiving 70 Gy that is outside the imaging field.\n",
      "\n",
      "\n",
      "[Summary]:\n",
      "\n",
      "\n",
      "A lymph node located retroperitoneally is undergoing radiation therapy with a dose of 70 Gy, which falls outside the scope of imaging.\n",
      "\n",
      "\n",
      "[Evaluation]:\n",
      "\n",
      "\n"
     ]
    },
    {
     "name": "stderr",
     "output_type": "stream",
     "text": [
      "\n",
      "\n",
      "\n",
      "\u001b[A\u001b[A\u001b[A"
     ]
    },
    {
     "name": "stdout",
     "output_type": "stream",
     "text": [
      "\n",
      "[Success] Evaluation for model 'mixtral' successfully generated for key: event:43446\n",
      "\n",
      "[Narrative]:\n",
      "Bos frame (patient support device) was incorrectly contoured in the \"_External\" ROI structure.  This would cause incorrect calculation of initial proton spot energy due to the density not being included in the calculation-optimization.  Error made it through dosimetry proton specific contouring and physics proton specific contour check.\n",
      "\n",
      "\n",
      "[Summary]:\n",
      "\n",
      "\n",
      "A Bos frame, which is a patient support device, was improperly shaped within the external ROI structure during contouring. This mistake resulted in an incorrect calculation of the initial proton spot energy due to the density not being taken into account during optimization. The error persisted through both the dosimetry and physics checks specific to protons.\n",
      "\n",
      "\n",
      "[Evaluation]:\n",
      "\n",
      "\"Evaluation: Identical\n",
      "\n",
      "The generated summary accurately reflects the meaning of the narrative, using nearly identical language to describe the issue with the Bos frame's contouring and the resulting impact on the calculation of initial proton spot energy. The summary also correctly notes that the error persisted through both the dosimetry and physics checks specific to protons.\"\n",
      "\n"
     ]
    },
    {
     "name": "stderr",
     "output_type": "stream",
     "text": [
      "\n",
      "\n",
      "\n",
      "\u001b[A\u001b[A\u001b[A"
     ]
    },
    {
     "name": "stdout",
     "output_type": "stream",
     "text": [
      "\n",
      "[Success] Evaluation for model 'mixtral' successfully generated for key: event:41362\n",
      "\n",
      "[Narrative]:\n",
      "The CTV dose limit was not entered for a new start patient's treatment plan.\n",
      "\n",
      "\n",
      "[Summary]:\n",
      "\n",
      "\n",
      "A new patient's treatment plan at CTV did not include an entry for the prescribed radiation dose limit.\n",
      "\n",
      "\n",
      "[Evaluation]:\n",
      "\n",
      "\n"
     ]
    },
    {
     "name": "stderr",
     "output_type": "stream",
     "text": [
      "\n",
      "\n",
      "\n",
      "\u001b[A\u001b[A\u001b[A"
     ]
    },
    {
     "name": "stdout",
     "output_type": "stream",
     "text": [
      "\n",
      "[Success] Evaluation for model 'mixtral' successfully generated for key: event:43782\n",
      "\n",
      "[Narrative]:\n",
      "Trigeminal Neuralgia (TGN) patient on schedule did not have QA measurements performed. Aria tasks were mismanaged due to a previous TGN patient being rescheduled and remaining treatment approved. QA for patient was not scheduled on outlook. Per policy, virtual cone QA patients must have QA performed 24 hours before treatment; therefore treatment was cancelled and rescheduled to later date.\n",
      "\n",
      "\n",
      "[Summary]:\n",
      " The event describes the cancellation of a treatment due to the absence of Quality Assurance (QA) measurements for a Trigeminal Neuralgia patient. This oversight occurred because an Aria task, which is likely related to managing patient appointments or scheduling, was mismanaged. Specifically, a previous TGN patient had been rescheduled and their treatment approval remained, causing confusion in the system. As a result, the QA for the patient in question was not scheduled on Outlook as required by policy. Since virtual cone QA patients must undergo QA 24 hours prior to treatment, the treatment was ultimately cancelled and rescheduled for a later date.\n",
      "\n",
      "\n",
      "[Evaluation]:\n",
      "\n",
      "\n",
      "Evaluation: Identical\n",
      "\n",
      "Explanation: The summary accurately captures the main points of the narrative. It correctly identifies that a Trigeminal Neuralgia patient's treatment was cancelled due to the absence of QA measurements, which were not scheduled because of a mismanaged Aria task. The summary also mentions that this oversight was caused by a previous TGN patient being rescheduled and remaining treatment approved, and that virtual cone QA patients must have QA performed 24 hours before treatment. Therefore, the summary can be considered identical to the narrative in terms of meaning and content.\n",
      "\n"
     ]
    },
    {
     "name": "stderr",
     "output_type": "stream",
     "text": [
      "\n",
      "\n",
      "\n",
      "\u001b[A\u001b[A\u001b[A"
     ]
    },
    {
     "name": "stdout",
     "output_type": "stream",
     "text": [
      "\n",
      "[Success] Evaluation for model 'mixtral' successfully generated for key: event:45300\n",
      "\n",
      "[Narrative]:\n",
      "Patient was simulated on 07/02/21 and not marked on whiteboard. Dosimetry was not notified to pull in a scan. Proton Center Administrator questioned where the patient was in the process. This was found on 07/22/21 (20 days after CT). Patient was then brought into TPS on 07/22/21.\n",
      "\n",
      "\n",
      "[Summary]:\n",
      "\n",
      "\n",
      "On July 2, 2021, a patient underwent simulation but was not marked on the whiteboard. Consequently, dosimetry was not alerted to retrieve the scan. On July 22, 2021, approximately twenty days later, it was discovered that the patient had not been processed further. The patient was subsequently added to the treatment planning system (TPS) on that date.\n",
      "\n",
      "\n",
      "[Evaluation]:\n",
      "\n",
      "\"Similar\n",
      "\n",
      "The summary accurately captures the main points of the narrative, including the timing and sequence of events. However, it does not explicitly state that the Proton Center Administrator questioned where the patient was in the process, which is mentioned in the narrative. This detail, while important, does not significantly alter the overall meaning of the narrative.\"\n",
      "\n"
     ]
    },
    {
     "name": "stderr",
     "output_type": "stream",
     "text": [
      "\n",
      "\n",
      "\n",
      "\u001b[A\u001b[A\u001b[A"
     ]
    },
    {
     "name": "stdout",
     "output_type": "stream",
     "text": [
      "\n",
      "[Success] Evaluation for model 'mixtral' successfully generated for key: event:44236\n",
      "\n",
      "[Narrative]:\n",
      "After kv ortho images on a new start, noticed that the AP & PA fields were mislabeled prior to MV imaging. AP had gantry angle at 359. PA had gantry angle at 179. POD came out to machine to correct field names in Aria and changed 359 to 359E due to patient being offset to patient's right side.\n",
      "\n",
      "\n",
      "[Summary]:\n",
      "\n",
      "\n",
      "A technician discovered mislabeled AP and PA fields on a new orthopedic imaging study following a knee variation analysis. The actual gantry angles were 359 degrees for the AP (Anteroposterior) image and 179 degrees for the PA (Posteroanterior) image, which were incorrectly labeled prior to the MV (Midline) imaging. A radiology technician was summoned to the machine to rectify the field names in the Aria system. The correction involved changing '359' to '359E'. This modification was made due to the patient being offset to the right side.\n",
      "\n",
      "\n",
      "[Evaluation]:\n",
      "\n",
      "\n",
      "Evaluation: Identical\n",
      "\n",
      "Explanation: The generated summary accurately reflects the narrative, capturing all key details including the mislabeling of AP and PA fields, the actual gantry angles for each image, the summons of a radiology technician to correct the issue in the Aria system, and the reason for changing '359' to '359E'. The summary is concise yet comprehensive, making it identical to the original narrative.\n",
      "\n"
     ]
    },
    {
     "name": "stderr",
     "output_type": "stream",
     "text": [
      "\n",
      "\n",
      "\n",
      "\u001b[A\u001b[A\u001b[A"
     ]
    },
    {
     "name": "stdout",
     "output_type": "stream",
     "text": [
      "\n",
      "[Success] Evaluation for model 'mixtral' successfully generated for key: event:38057\n",
      "\n",
      "[Narrative]:\n",
      "Consent form did not have the treatment site listed.  We had the patient and physician resign the consent form with the treatment site listed.\n",
      "\n",
      "\n",
      "[Summary]:\n",
      "\n",
      "\n",
      "A consent form, lacking a specified treatment site, was amended by both the patient and the physician to include the necessary information.\n",
      "\n",
      "\n",
      "[Evaluation]:\n",
      "\n",
      "\n",
      "Evaluation: Identical\n",
      "\n",
      "Explanation: The narrative and the generated summary convey the same meaning. Both state that the original consent form did not list the treatment site, and that the patient and physician signed a revised version of the form with the treatment site included.\n",
      "\n"
     ]
    },
    {
     "name": "stderr",
     "output_type": "stream",
     "text": [
      "\n",
      "\n",
      "\n",
      "\u001b[A\u001b[A\u001b[A"
     ]
    },
    {
     "name": "stdout",
     "output_type": "stream",
     "text": [
      "\n",
      "[Success] Evaluation for model 'mixtral' successfully generated for key: event:75429\n",
      "\n",
      "[Narrative]:\n",
      "Dosimetrist started the DOs and pushed to physics with the following comments \"DO^Ti_5104 created. Please add additional DO for muscle/adipose and inside the bone\". They were updated and approved, but the plan was not able to calculate due to some outstanding pixels with no density. Dosimetrist tried to return the DOs back to physics for correction according to our protocol ( urgent turn around+two or more DO in the target volume), but physics wanted dosimetry to correct. This led to delay in planning time.\n",
      "\n",
      "\n",
      "[Summary]:\n",
      "\n",
      "\n",
      "A dosimetrist initiated the creation of a DO (dose objective) for a specific treatment, labeled as \"DO^Ti_5104.\" They requested that two additional DOs be added: one for muscle/adipose tissue and another inside the bone. These DOs were updated and approved, but the treatment plan was unable to calculate due to some unresolved pixels with no density. The dosimetrist attempted to return the DOs to physics for correction in accordance with protocol, which calls for urgent turnaround and multiple DOs within the target volume. However, physics requested that dosimetry make the corrections instead, resulting in a delay in planning time.\n",
      "\n",
      "\n",
      "[Evaluation]:\n",
      "\n",
      "\n"
     ]
    },
    {
     "name": "stderr",
     "output_type": "stream",
     "text": [
      "\n",
      "\n",
      "\n",
      "\u001b[A\u001b[A\u001b[A"
     ]
    },
    {
     "name": "stdout",
     "output_type": "stream",
     "text": [
      "\n",
      "[Success] Evaluation for model 'mixtral' successfully generated for key: event:38615\n",
      "\n",
      "[Narrative]:\n",
      "Tx was approved but plan name vs tx prep name did not match.\n",
      "\n",
      "\n",
      "[Summary]:\n",
      "\n",
      "\n",
      "A proposal, referred to as Tx, was given approval. However, there was a discrepancy between the name of the plan and the name used during its preparation stage for Tx.\n",
      "\n",
      "\n",
      "[Evaluation]:\n",
      "\n",
      "\n",
      "Evaluation: Similar\n",
      "\n",
      "Explanation: The generated summary accurately captures the main idea of the narrative, which is that there was an approval for something labeled as 'Tx', but there was a mismatch between the plan's name and the preparation stage's name for this 'Tx'. While the summary does not use the exact same wording as the narrative, it conveys the same meaning, making it similar to the original text.\n",
      "\n"
     ]
    },
    {
     "name": "stderr",
     "output_type": "stream",
     "text": [
      "\n",
      "\n",
      "\n",
      "\u001b[A\u001b[A\u001b[A"
     ]
    },
    {
     "name": "stdout",
     "output_type": "stream",
     "text": [
      "\n",
      "[Success] Evaluation for model 'mixtral' successfully generated for key: event:68085\n",
      "\n",
      "[Narrative]:\n",
      "Plan was approved at 1:30PM on 1/30/23 and processmaker was updated with a comment that the patient had been called and scheduled for 8:30AM on 1/31/23. Dosimetry missed the processmaker comment. Processmaker emails do not include comments which could have been useful in this instance. Also, the scheduling of this patient did not follow the current procedure of sending out a SRS/SBRT scheduling email with all pertinent information.\n",
      "\n",
      "\n",
      "[Summary]:\n",
      "\n",
      "\n",
      "The plan for a medical treatment was approved at 1:30PM on January 30, 2023. The processmaker responsible for managing the treatment was updated with a comment that the patient had been called and scheduled for an appointment at 8:30AM on January 31, 2023. However, the dosimetry team missed this comment. Since processmaker emails do not include comments, this information was not accessible to them. Additionally, the scheduling of this patient did not adhere to the established procedure of sending out a scheduling email with all necessary details.\n",
      "\n",
      "\n",
      "[Evaluation]:\n",
      "\n",
      "\"Similar\n",
      "\n",
      "The summary accurately captures the main points of the narrative, including the approval of the plan, the update to processmaker, the missed comment by dosimetry, and the deviation from the established procedure. However, it goes into slightly more detail about the fact that processmaker emails do not include comments, which is implied but not explicitly stated in the narrative. Overall, the summary conveys the same meaning as the narrative with only minor differences in wording and emphasis.\"\n",
      "\n"
     ]
    },
    {
     "name": "stderr",
     "output_type": "stream",
     "text": [
      "\n",
      "\n",
      "\n",
      "\u001b[A\u001b[A\u001b[A"
     ]
    },
    {
     "name": "stdout",
     "output_type": "stream",
     "text": [
      "\n",
      "[Success] Evaluation for model 'mixtral' successfully generated for key: event:75163\n",
      "\n",
      "[Narrative]:\n",
      "No Diagnosis coded entered in Aria. Caught by dosimetry when plan is printed/approved.\n",
      "\n",
      "\n",
      "[Summary]:\n",
      "\n",
      "\n",
      "A diagnosis code was not entered during the use of a medical software system named Aria. The oversight was discovered when the dosimetry department reviewed and approved the treatment plan.\n",
      "\n",
      "\n",
      "[Evaluation]:\n",
      "\n",
      "\n"
     ]
    },
    {
     "name": "stderr",
     "output_type": "stream",
     "text": [
      "\n",
      "\n",
      "\n",
      "\u001b[A\u001b[A\u001b[A"
     ]
    },
    {
     "name": "stdout",
     "output_type": "stream",
     "text": [
      "\n",
      "[Success] Evaluation for model 'mixtral' successfully generated for key: event:40960\n",
      "\n",
      "[Narrative]:\n",
      "Plan was sent for 1.1 pCNS check through zoom task list and plan was checked. Both the 1.1 pCNS and 1.2 pCNS plans were reviewed by the physician without an initial physics plan check, the setup sheets were e-mailed for final plan check and QA was shot. This was noticed during final approval for the 1.1 pCNS plan\n",
      "\n",
      "\n",
      "[Summary]:\n",
      "\n",
      "\n",
      "The 1.1 pCNS plan was submitted for review through the zoom task list. The plan underwent a check and was approved. However, during the final approval process for this plan, it was discovered that both the 1.1 pCNS and 1.2 pCNS plans had been reviewed by the physician without an initial physics plan check. The setup sheets were then emailed for final plan check and quality assurance (QA) was performed. This issue was identified during the approval stage of the 1.1 pCNS plan.\n",
      "\n",
      "\n",
      "[Evaluation]:\n",
      "\n",
      "\n",
      "Evaluation: Identical\n",
      "\n",
      "Explanation: The summary accurately reflects the information provided in the narrative. Both the narrative and the summary state that the 1.1 pCNS plan was checked and approved, but it was discovered during final approval that both the 1.1 pCNS and 1.2 pCNS plans had been reviewed by the physician without an initial physics plan check. The setup sheets were then emailed for final plan check and QA was performed. The summary uses slightly different wording in some places, but the meaning is identical to that of the narrative.\n",
      "\n"
     ]
    },
    {
     "name": "stderr",
     "output_type": "stream",
     "text": [
      "\n",
      "\n",
      "\n",
      "\u001b[A\u001b[A\u001b[A"
     ]
    },
    {
     "name": "stdout",
     "output_type": "stream",
     "text": [
      "\n",
      "[Success] Evaluation for model 'mixtral' successfully generated for key: event:44885\n",
      "\n",
      "[Narrative]:\n",
      "patient has y jaws that exceed the limit.  The hard cutoff is 10.5 per physics and these were above that limit. Physics was notified on fraction 2 when it was noticed by treating therapist.\n",
      "\n",
      "\n",
      "[Summary]:\n",
      "\n",
      "\n",
      "A patient's jaw measurements exceeded the established limit of 10.5, with readings recorded at 10.6 (y jaws). This discrepancy was identified during therapy session on fraction 2. Physics was subsequently informed.\n",
      "\n",
      "\n",
      "[Evaluation]:\n",
      "\n",
      "\n"
     ]
    },
    {
     "name": "stderr",
     "output_type": "stream",
     "text": [
      "\n",
      "\n",
      "\n",
      "\u001b[A\u001b[A\u001b[A"
     ]
    },
    {
     "name": "stdout",
     "output_type": "stream",
     "text": [
      "\n",
      "[Success] Evaluation for model 'mixtral' successfully generated for key: event:45221\n",
      "\n",
      "[Narrative]:\n",
      "Consent form did not specify laterality.  Needed the physician to update consent form to treatment of right lung\n",
      "\n",
      "\n",
      "[Summary]:\n",
      "\n",
      "\n",
      "A consent form lacked a specification regarding which side of the body, specifically the lung, was intended for treatment. It was necessary for the physician to make an adjustment to the consent form to reflect the correct side for the upcoming procedure, which was the right lung.\n",
      "\n",
      "\n",
      "[Evaluation]:\n",
      "\n",
      "\n",
      "Evaluation: Identical\n",
      "\n",
      "Explanation: The summary accurately reflects the meaning of the narrative. Both state that the consent form did not specify laterality and needed to be updated by the physician to indicate treatment on the right lung.\n",
      "\n"
     ]
    },
    {
     "name": "stderr",
     "output_type": "stream",
     "text": [
      "\n",
      "\n",
      "\n",
      "\u001b[A\u001b[A\u001b[A"
     ]
    },
    {
     "name": "stdout",
     "output_type": "stream",
     "text": [
      "\n",
      "[Success] Evaluation for model 'mixtral' successfully generated for key: event:57465\n",
      "\n",
      "[Narrative]:\n",
      "A patient was starting a breast boost and breath hold instructions were not included in the prescription. The error was caught because the therapists knew that the patient had been breath hold leading up to the boost.\n",
      "\n",
      "\n",
      "[Summary]:\n",
      "\n",
      "\n",
      "A patient undergoing a breast procedure did not receive breath hold instructions as part of the prescription. This oversight was recognized by the therapists due to their awareness that the patient had previously employed breath holds prior to the boost.\n",
      "\n",
      "\n",
      "[Evaluation]:\n",
      "\n",
      "\n",
      "Evaluation: Identical\n",
      "\n",
      "Explanation: The narrative and summary are identical in meaning. Both convey that a patient undergoing a breast procedure did not receive breath hold instructions as part of the prescription, but this oversight was recognized by the therapists due to their awareness of the patient's previous use of breath holds before the boost.\n",
      "\n"
     ]
    },
    {
     "name": "stderr",
     "output_type": "stream",
     "text": [
      "\n",
      "\n",
      "\n",
      "\u001b[A\u001b[A\u001b[A"
     ]
    },
    {
     "name": "stdout",
     "output_type": "stream",
     "text": [
      "\n",
      "[Success] Evaluation for model 'mixtral' successfully generated for key: event:75431\n",
      "\n",
      "[Narrative]:\n",
      "Dosimetry was concerned about a patient's weight on the STX. We have been told a range is 300-330lbs depending on the patient's position on the table. The patient was about 300lbs and a brain case. When dosimetry reached out to the POD to double check that this would be okay, the physicist said that the weight limit was actually 500lbs. Dosimetry expressed concerns about that weight limit being incorrect. It wasn't understood that the weight limit was actually 300-330lbs until the dosimetrist involved another physicist. It could be helpful to have this information updated with the physics team.\n",
      "\n",
      "\n",
      "[Summary]:\n",
      "\n",
      "\n",
      "A dosimetry team had concerns regarding a patient weighing around 300lbs on the Simulation Treatment Planning (STP) system, as they were informed of a weight range of 300-330lbs. They contacted the Physics Operations Department (POD) to confirm this weight limit for a brain case patient. The POD physicist reported a weight limit of 500lbs instead. Dosimetry raised concerns about the potential inaccuracy of this weight limit. It was later discovered that the correct weight range was indeed 300-330lbs, and it would be beneficial for this information to be updated with the physics team.\n",
      "\n",
      "\n",
      "[Evaluation]:\n",
      "\n",
      "\n",
      "Evaluation: Identical\n",
      "\n",
      "Explanation: The summary accurately captures the main points of the narrative. Both convey that dosimetry had concerns about a patient's weight on the STX, initially thought the weight limit was 300-330lbs but were told it was 500lbs by the POD physicist, raised concerns about this, and discovered the correct weight range was indeed 300-330lbs. The summary effectively condenses the narrative while preserving its meaning and intent.\n",
      "\n"
     ]
    },
    {
     "name": "stderr",
     "output_type": "stream",
     "text": [
      "\n",
      "\n",
      "\n",
      "\u001b[A\u001b[A\u001b[A"
     ]
    },
    {
     "name": "stdout",
     "output_type": "stream",
     "text": [
      "\n",
      "[Success] Evaluation for model 'mixtral' successfully generated for key: event:72160\n",
      "\n",
      "[Narrative]:\n",
      "Patient under treatment for breast on ix using feathering technique. This specific plan requires multiple electron blocks for each feathering fraction. 4/18 was scheduled to be the first feathering fraction however this fraction of treatment was delayed by one day due to RTT's not receiving the electron block template for the first shift. RTT's had to contact dosimetry in order to access required template.\n",
      "\n",
      "\n",
      "[Summary]:\n",
      "\n",
      "\n",
      "A patient's breast cancer treatment using the feathering technique was scheduled to have its first feathering fraction on the fourth day of the eighteenth session. However, this fraction was postponed by one day due to Radiotherapy Technologists (RTTs) not receiving the electron block template for the initial shift. RTTs had to contact dosimetry in order to obtain the necessary template.\n",
      "\n",
      "\n",
      "[Evaluation]:\n",
      "\n",
      "\n",
      "Evaluation: Similar\n",
      "\n",
      "Explanation: The generated summary accurately captures the main points of the narrative, including the specific treatment plan, the delay of the first feathering fraction, and the reason for the delay (RTTs not receiving the electron block template). However, the summary uses the term \"fourth day of the eighteenth session\" instead of \"4/18,\" which is a minor discrepancy. Overall, the meaning of the narrative and the summary are similar.\n",
      "\n"
     ]
    },
    {
     "name": "stderr",
     "output_type": "stream",
     "text": [
      "\n",
      "\n",
      "\n",
      "\u001b[A\u001b[A\u001b[A"
     ]
    },
    {
     "name": "stdout",
     "output_type": "stream",
     "text": [
      "\n",
      "[Success] Evaluation for model 'mixtral' successfully generated for key: event:63577\n",
      "\n",
      "[Narrative]:\n",
      "Dosimetrist asked attending if patient needed a breast boost on a patient. Attending said no. Last day of initial treatment, patient was seen by clinic MD. Clinic MD brought chart to dosimetrist bc she thought it DID need a boost since it was an intact breast. Boost plan was already completed and sent for physics check and attending approval. Looking back, dosimetrist sent the wrong name to the attending. Patients had similar disease sites and name.\n",
      "\n",
      "\n",
      "[Summary]:\n",
      "\n",
      "\n",
      "A dosimetrist inquired with the attending physician about the necessity of a breast boost for a patient during initial treatment. The attending responded negatively. On the last day of treatment, the patient was seen by a clinic medical doctor who believed that a boost was required due to the patient having an intact breast. The dosimetrist had already completed and sent the boost plan for approval and physics check with the incorrect patient's name.\n",
      "\n",
      "\n",
      "[Evaluation]:\n",
      "\n",
      "\n",
      "Evaluation: Similar\n",
      "\n",
      "Explanation: The summary accurately captures the main points of the narrative, including the miscommunication between the dosimetrist and attending physician regarding the need for a breast boost, the involvement of a clinic medical doctor, and the error in sending the wrong patient's name. However, the summary does not explicitly mention that the chart was brought to the dosimetrist by the clinic MD, which is a minor detail that does not significantly impact the overall meaning of the narrative. Therefore, the evaluation is 'Similar'.\n",
      "\n"
     ]
    },
    {
     "name": "stderr",
     "output_type": "stream",
     "text": [
      "\n",
      "\n",
      "\n",
      "\u001b[A\u001b[A\u001b[A"
     ]
    },
    {
     "name": "stdout",
     "output_type": "stream",
     "text": [
      "\n",
      "[Success] Evaluation for model 'mixtral' successfully generated for key: event:66558\n",
      "\n",
      "[Narrative]:\n",
      "Patient is getting head and neck treatment in a head mold and long mask with a daily bolus. Bolus size and placement was given to therapist to cut prior to patient starting. Therapist cut bolus to lay on mask over left isocenter mark after making first day shifts and imaging. Bolus was placed after KVs. CBCT was then done. When therapists viewed CBCT, they noticed the bolus was significantly off where the bolus contour was drawn. The therapists discovered by the CBCT that the bolus needed to be placed under the mask. No instructions were given to therapists that the bolus was planned to be under the mask instead of laid on top of mask, which is our normal protocol for head and neck bolus placement.\n",
      "\n",
      "\n",
      "[Summary]:\n",
      "\n",
      "\n",
      "The patient underwent a head and neck treatment using a head mold and long mask with daily bolus administration. The size and position of the bolus were communicated to the therapist beforehand for cutting. The therapist prepared and placed the bolus on the mask over the left isocenter mark following initial shifts and imaging. However, during a CBCT scan, therapists observed that the bolus was significantly misplaced compared to the contour drawn. Upon further examination, they discovered that the bolus should have been positioned under the mask instead of on top, which deviated from the standard head and neck bolus placement protocol.\n",
      "\n",
      "\n",
      "[Evaluation]:\n",
      "\n",
      "\"Similar\n",
      "\n",
      "The summary accurately captures the main points of the narrative, including the use of a head mold and long mask, daily bolus administration, and the misplacement of the bolus during treatment. The summary also correctly identifies that the therapists discovered the need to place the bolus under the mask instead of on top, which deviates from the standard protocol. However, the summary does not explicitly state that the bolus was placed after KVs or that no instructions were given to therapists regarding placing the bolus under the mask. These details are not essential to understanding the main issue presented in the narrative but do add some context.\"\n",
      "\n"
     ]
    },
    {
     "name": "stderr",
     "output_type": "stream",
     "text": [
      "\n",
      "\n",
      "\n",
      "\u001b[A\u001b[A\u001b[A"
     ]
    },
    {
     "name": "stdout",
     "output_type": "stream",
     "text": [
      "\n",
      "[Success] Evaluation for model 'mixtral' successfully generated for key: event:76760\n",
      "\n",
      "[Narrative]:\n",
      "Complex density override was requested, but there were targets drawn on both breathe hold and free breathe scans. It was not indicated which structure set to perform DO on. Also, it was just two surgical clips in breast tissue which is arguably not a complex case - this will be addressed in the upcoming revision of the density overrides procedure.\n",
      "\n",
      "\n",
      "[Summary]:\n",
      "\n",
      "\n",
      "A request for a complex density override was made, but there were targets identified in both breathe hold and free breathe scans. It was unclear which structure should undergo the density override procedure. Additionally, only two surgical clips were present in breast tissue, which some may consider not to be a complex case. This will be further discussed during the upcoming revision of the density overrides process.\n",
      "\n",
      "\n",
      "[Evaluation]:\n",
      "\n",
      "Evaluation: Similar\n",
      "Explanation: The summary accurately captures the main points of the narrative, including the request for a complex density override, the presence of targets on both types of scans, the unclear structure set for the procedure, and the debate over whether two surgical clips in breast tissue constitutes a complex case. However, the summary uses slightly different wording than the narrative, which is why it is not graded as \"Identical\". Overall, the meaning of the two texts is very similar.\n",
      "\n"
     ]
    },
    {
     "name": "stderr",
     "output_type": "stream",
     "text": [
      "\n",
      "\n",
      "\n",
      "\u001b[A\u001b[A\u001b[A"
     ]
    },
    {
     "name": "stdout",
     "output_type": "stream",
     "text": [
      "\n",
      "[Success] Evaluation for model 'mixtral' successfully generated for key: event:40390\n",
      "\n",
      "[Narrative]:\n",
      "Patient Rx does not state if tx is suppose to be breath hold or not. Dosimetry put on yellow sheet that plan is breath hold as we are suppose to follow the Rx instructions. Rx also states bolus but does not specify what area since we are treating the right chest wall and right supraclav.\n",
      "\n",
      "\n",
      "[Summary]:\n",
      "\n",
      "\n",
      "A prescription (Rx) for a patient does not indicate whether the treatment (tx) is intended to be administered during breath holds or not. However, the dosimetry information has been placed on a yellow sheet, which indicates that the plan is to be carried out with breath holds. The Rx also mentions the use of a bolus, but it does not specify the location for the application since the treatment area is the right chest wall and right supraclavicular region.\n",
      "\n",
      "\n",
      "[Evaluation]:\n",
      "\n",
      "\n",
      "Evaluation: Identical\n",
      "\n",
      "Explanation: The generated summary accurately captures the main points of the narrative. Both the narrative and the summary mention that the prescription does not specify whether the treatment should be administered during breath holds, but the dosimetry information indicates that it should be. Additionally, both state that the prescription mentions the use of a bolus but does not specify the location for its application. Therefore, the meaning of the narrative and the summary are identical.\n",
      "\n"
     ]
    },
    {
     "name": "stderr",
     "output_type": "stream",
     "text": [
      "\n",
      "\n",
      "\n",
      "\u001b[A\u001b[A\u001b[A"
     ]
    },
    {
     "name": "stdout",
     "output_type": "stream",
     "text": [
      "\n",
      "[Success] Evaluation for model 'mixtral' successfully generated for key: event:60314\n",
      "\n",
      "[Narrative]:\n",
      "Patient not consented at time of simulation.  Consent to be obtained prior to 1st treatment.\n",
      "\n",
      "\n",
      "[Summary]:\n",
      "\n",
      "\n",
      "A consent for the first treatment needs to be acquired from the patient before the procedure is initiated. At the current moment, the patient has not given their approval for the treatment.\n",
      "\n",
      "\n",
      "[Evaluation]:\n",
      "\n",
      "\n",
      "Evaluation: Identical\n",
      "\n",
      "Explanation: The narrative and the generated summary convey the same meaning. Both state that the patient has not consented to the first treatment and that consent needs to be obtained prior to the procedure.\n",
      "\n"
     ]
    },
    {
     "name": "stderr",
     "output_type": "stream",
     "text": [
      "\n",
      "\n",
      "\n",
      "\u001b[A\u001b[A\u001b[A"
     ]
    },
    {
     "name": "stdout",
     "output_type": "stream",
     "text": [
      "\n",
      "[Success] Evaluation for model 'mixtral' successfully generated for key: event:71203\n",
      "\n",
      "[Narrative]:\n",
      "Therapist was doing chart check on patient's chart. It was noticed that the PSQA report in powerchart contained an LDR eye plaque document versus the PSQA. Physics was notified and correct documentation was uploaded.\n",
      "\n",
      "\n",
      "[Summary]:\n",
      "\n",
      "\n",
      "A therapist reviewed a patient's chart and discovered a discrepancy between the PSQA report in PowerChart and the actual PSQA. The issue involved an LDR eye plaque document instead of the correct one. Notification was given to the physics team, who corrected the documentation by uploading the appropriate document.\n",
      "\n",
      "\n",
      "[Evaluation]:\n",
      "\n",
      "\n",
      "Evaluation: Identical\n",
      "\n",
      "Explanation: The summary accurately reflects the narrative with no discrepancies in meaning or content. Both the narrative and summary describe a therapist reviewing a patient's chart, noticing an error in the PSQA report, notifying the physics team, and correcting the documentation by uploading the appropriate document. The language used is clear and concise, making it easy to understand the situation being described. Overall, the summary accurately conveys the same information as the narrative, making it identical in meaning.\n",
      "\n"
     ]
    },
    {
     "name": "stderr",
     "output_type": "stream",
     "text": [
      "\n",
      "\n",
      "\n",
      "\u001b[A\u001b[A\u001b[A"
     ]
    },
    {
     "name": "stdout",
     "output_type": "stream",
     "text": [
      "\n",
      "[Success] Evaluation for model 'mixtral' successfully generated for key: event:43575\n",
      "\n",
      "[Narrative]:\n",
      "Radiation prescription for IMRT chest wall treatment plan listed as KV fraction 1, MV fraction 1 and MV every 5 fractions.  Therapists contacted the physician, while doing RT pre-check of chart, to ask if this was correct.  Physician stated it should be KV daily.  Physician placed a patient alert to notify therapists of prescription imaging change.\n",
      "\n",
      "\n",
      "[Summary]:\n",
      "\n",
      "\n",
      "The physican's IMRT chest wall treatment plan prescription for radiation therapy included KV fraction 1, MV fraction 1, and MV every 5 fractions. Therapists questioned the accuracy of this prescription during their pre-treatment chart review and contacted the physician. The physician confirmed that the prescription should be KV daily instead. A patient alert was added to notify therapists of the imaging change.\n",
      "\n",
      "\n",
      "[Evaluation]:\n",
      "\n",
      "\"Similar\n",
      "\n",
      "The summary accurately captures the main points of the narrative, including the incorrect initial prescription, the therapists' questioning of it, and the physician's confirmation that it should be KV daily. The summary also correctly notes that a patient alert was added to notify therapists of the change. However, the summary does not explicitly state that the physican placed the alert, which is implied in the narrative. Overall, the meaning of the two texts is very similar.\"\n",
      "\n"
     ]
    },
    {
     "name": "stderr",
     "output_type": "stream",
     "text": [
      "\n",
      "\n",
      "\n",
      "\u001b[A\u001b[A\u001b[A"
     ]
    },
    {
     "name": "stdout",
     "output_type": "stream",
     "text": [
      "\n",
      "[Success] Evaluation for model 'mixtral' successfully generated for key: event:56994\n",
      "\n",
      "[Narrative]:\n",
      "Abdominal CT sim for pediatric proton patient, 4DCT not acquired\n",
      "\n",
      "\n",
      "[Summary]:\n",
      "\n",
      "\n",
      "A computed tomography (CT) simulation was performed on a pediatric patient intended for proton therapy using an abdominal CT scan. However, a four-dimensional CT (4DCT) scan, which captures the motion of organs over time, was not acquired during this procedure.\n",
      "\n",
      "\n",
      "[Evaluation]:\n",
      "\n",
      "\n"
     ]
    },
    {
     "name": "stderr",
     "output_type": "stream",
     "text": [
      "\n",
      "\n",
      "\n",
      "\u001b[A\u001b[A\u001b[A"
     ]
    },
    {
     "name": "stdout",
     "output_type": "stream",
     "text": [
      "\n",
      "[Success] Evaluation for model 'mixtral' successfully generated for key: event:54804\n",
      "\n",
      "[Narrative]:\n",
      "Dosimetry received target volume structures on a patient that were incorrect and had little direction. There were target volumes used for resident practice left in the patient. X-check flags were not addressed. Bolus was needed but there was no information in processmaker or in the RX. PTVs were not created from CTV expansions. It was also important that planning avoid certain OARs and that information was also not relayed.\n",
      "\n",
      "\n",
      "[Summary]:\n",
      "\n",
      "\n",
      "The target volume structures received for a patient by the dosimetry team contained errors and lacked clear instructions. Unintended target volumes used for resident practice remained in the patient's data. X-check flags were ignored. The need for bolus application was identified but no relevant information was available. Planning did not generate PTVs from CTV expansions. Additionally, important information regarding avoiding certain OARs during planning was absent.\n",
      "\n",
      "\n",
      "[Evaluation]:\n",
      "\n",
      "\"Similar\n",
      "\n",
      "The generated summary accurately captures the main issues presented in the narrative, such as incorrect and incomplete target volume structures, missing information for bolus application and PTV creation, and unaddressed X-check flags. The summary also correctly mentions the presence of unintended target volumes used for resident practice and the absence of important information regarding avoiding certain OARs during planning. However, the summary uses the term \"ignored\" to describe the X-check flags, while the narrative states that they were not addressed, which may imply a slightly different level of intentionality.\"\n",
      "\n"
     ]
    },
    {
     "name": "stderr",
     "output_type": "stream",
     "text": [
      "\n",
      "\n",
      "\n",
      "\u001b[A\u001b[A\u001b[A"
     ]
    },
    {
     "name": "stdout",
     "output_type": "stream",
     "text": [
      "\n",
      "[Success] Evaluation for model 'mixtral' successfully generated for key: event:68312\n",
      "\n",
      "[Narrative]:\n",
      "Primary CTV not included in its entirety in the CTV high. CTVp was split between the CTV mid and CTV high.\n",
      "\n",
      "\n",
      "[Summary]:\n",
      "\n",
      "\n",
      "The event involves the division of CTVp between CTV mid and CTV high, with the primary CTV not being a part of the entire CTV high.\n",
      "\n",
      "\n",
      "[Evaluation]:\n",
      "\n",
      "\n"
     ]
    },
    {
     "name": "stderr",
     "output_type": "stream",
     "text": [
      "\n",
      "\n",
      "\n",
      "\u001b[A\u001b[A\u001b[A"
     ]
    },
    {
     "name": "stdout",
     "output_type": "stream",
     "text": [
      "\n",
      "[Success] Evaluation for model 'mixtral' successfully generated for key: event:45206\n",
      "\n",
      "[Narrative]:\n",
      "proton expander breast patient received a QACT. It was decided a replan was necessary. During the contour check by physics, it was noted that the new CTV Total did not extend as inferiorly as before. It was confirmed that the volume was missing some of the breast tissue. The physicians are re-drawing volumes\n",
      "\n",
      "\n",
      "[Summary]:\n",
      "\n",
      "\n",
      "A patient undergoing Proton Therapy for breast cancer had a QACT (Quality Assurance and Verification CT scan). The results indicated that the new CTV Total did not reach as far inferiorly as in the previous scan. It was determined that some breast tissue was missing from the volume. The physicians are now redrawing the volumes.\n",
      "\n",
      "\n",
      "[Evaluation]:\n",
      "\n",
      "\n",
      "Evaluation: Similar\n",
      "\n",
      "Explanation: The generated summary accurately captures the main points of the narrative, including the patient's treatment (Proton Therapy for breast cancer), the use of a QACT scan, and the issue with the new CTV Total not extending as far inferiorly as before. The summary also correctly identifies that some breast tissue was missing from the volume and that the physicians are redrawing the volumes. However, the summary does not explicitly mention that a replan is necessary, which is mentioned in the narrative. Therefore, while the summary is generally similar to the narrative, it is not identical.\n",
      "\n"
     ]
    },
    {
     "name": "stderr",
     "output_type": "stream",
     "text": [
      "\n",
      "\n",
      "\n",
      "\u001b[A\u001b[A\u001b[A"
     ]
    },
    {
     "name": "stdout",
     "output_type": "stream",
     "text": [
      "\n",
      "[Success] Evaluation for model 'mixtral' successfully generated for key: event:42031\n",
      "\n",
      "[Narrative]:\n",
      "Patient was scheduled for SSU on Monday 4/5 with a prescription that did not list a bite block being required. No information regarding a bite block was provided by physician for this patient. The mask was therefore made without a bite block. Patient was scanned the same day, the physician then asked for a bite block. Patient had to drive back to the Proton Center for another mask to be made and another scan done the next day. A second, unrelated patient on 4/7 was also missing her order for a bite block. This would have caused the same issue twice this week due to missing information in prescription.\n",
      "\n",
      "\n",
      "[Summary]:\n",
      " The event describes a situation where a patient was scheduled for a treatment called SSU (presumably some form of radiation therapy) on Monday, April 5th. The prescription for this treatment did not include a requirement for a bite block. A mask was made without the bite block based on this prescription. However, during the treatment process, the physician requested a bite block. Since one was not available, the patient had to return to the Proton Center the next day for another mask and scan to be done. Another similar incident occurred with a different patient on April 7th who also lacked a bite block order in her prescription. This resulted in two instances of this issue arising during that week due to missing information in the prescriptions.\n",
      "\n",
      "\n",
      "[Evaluation]:\n",
      "\n",
      "\n",
      "Evaluation: Similar\n",
      "\n",
      "Explanation: The generated summary accurately captures the main points of the narrative, including the scheduling of a patient for SSU treatment, the absence of a bite block requirement in the prescription, the creation of a mask without a bite block, the physician's request for a bite block during the treatment process, and the need for the patient to return to the Proton Center for another mask and scan. The summary also correctly mentions that a similar incident occurred with a different patient on April 7th. However, the summary does not explicitly state that the second patient also lacked a bite block order in her prescription, which is why I have rated it as 'Similar' rather than 'Identical'.\n",
      "\n"
     ]
    },
    {
     "name": "stderr",
     "output_type": "stream",
     "text": [
      "\n",
      "\n",
      "\n",
      "\u001b[A\u001b[A\u001b[A"
     ]
    },
    {
     "name": "stdout",
     "output_type": "stream",
     "text": [
      "\n",
      "[Success] Evaluation for model 'mixtral' successfully generated for key: event:40756\n",
      "\n",
      "[Narrative]:\n",
      "A patient receiving radiotherapy had an abnormal lab draw Monday (yesterday), and we asked the therapists at the machine to send the patient to clinic when he was done with treatment Tuesday 2/23/2021 so we could talk to him and then have the labs re-drawn as they were abnormal. Per resident, the therapists at the machine sent the patient back to the nursing station, the patient asked if he needed to be seen by the doctor, nursing checked records and confirmed that the patient had been seen Monday on UTV, and said there was no need to stay. It would be nice to have a standard process for communicating the need for repeat visits for patients on treatment.\n",
      "\n",
      "\n",
      "[Summary]:\n",
      "\n",
      "\n",
      "A patient undergoing radiotherapy had abnormal lab results on Monday, 2/22/2021. The medical team requested that the patient come to the clinic once his treatment was completed on Tuesday, 2/23/2021, so they could discuss the test results and have new samples drawn. However, according to a resident's account, the therapists at the machine sent the patient back to the nursing station instead. The patient inquired about needing to see a doctor, but nursing checked his records and determined that he had already been seen on Monday using UTV (an unspecified medical technology or system). The patient was told there was no need for him to stay, leaving it unclear how the necessary follow-up would be arranged. It is suggested that a standardized procedure for notifying patients of repeat visits is needed.\n",
      "\n",
      "\n",
      "[Evaluation]:\n",
      "\n",
      "Evaluation: Identical\n",
      "Explanation: The summary accurately captures the main points of the narrative, including the abnormal lab results, the request for the patient to come to the clinic after treatment on Tuesday, the therapists sending the patient back to the nursing station, and the need for a standardized procedure for notifying patients of repeat visits. The summary also correctly conveys that it is unclear how the necessary follow-up will be arranged. Overall, the meaning of the narrative and the generated summary are identical.\n",
      "\n"
     ]
    },
    {
     "name": "stderr",
     "output_type": "stream",
     "text": [
      "\n",
      "\n",
      "\n",
      "\u001b[A\u001b[A\u001b[A"
     ]
    },
    {
     "name": "stdout",
     "output_type": "stream",
     "text": [
      "\n",
      "[Success] Evaluation for model 'mixtral' successfully generated for key: event:49647\n",
      "\n",
      "[Narrative]:\n",
      "While starting patient's boost, the imaging fields were labeled incorrectly along with the wrong icon. The kV right lateral and the MV right lateral labels were swapped.\n",
      "\n",
      "\n",
      "[Summary]:\n",
      "\n",
      "\n",
      "A mistake occurred during a patient's boost procedure where the labels for the imaging fields were misplaced. Specifically, the labels for the kV right lateral and the MV right lateral images were incorrectly switched.\n",
      "\n",
      "\n",
      "[Evaluation]:\n",
      "\n",
      "\n",
      "Evaluation: Identical\n",
      "\n",
      "Explanation: The generated summary accurately reflects the narrative by stating that a mistake occurred during a patient's boost procedure where the labels for the imaging fields were misplaced, and specifically, the labels for the kV right lateral and the MV right lateral images were incorrectly switched. This matches the information provided in the narrative.\n",
      "\n"
     ]
    },
    {
     "name": "stderr",
     "output_type": "stream",
     "text": [
      "\n",
      "\n",
      "\n",
      "\u001b[A\u001b[A\u001b[A"
     ]
    },
    {
     "name": "stdout",
     "output_type": "stream",
     "text": [
      "\n",
      "[Success] Evaluation for model 'mixtral' successfully generated for key: event:62762\n",
      "\n",
      "[Narrative]:\n",
      "The patient arrived on time and had to wait approximately one hour prior to starting. Similar situation to the previous entry; DOD was occupied with clinical visits.\n",
      "\n",
      "\n",
      "[Summary]:\n",
      "\n",
      "\n",
      "A patient arrived according to schedule, but waited around 60 minutes before their appointment began. The doctor of the day (DOD) was preoccupied with other clinical consultations.\n",
      "\n",
      "\n",
      "[Evaluation]:\n",
      "\n",
      "\n"
     ]
    },
    {
     "name": "stderr",
     "output_type": "stream",
     "text": [
      "\n",
      "\n",
      "\n",
      "\u001b[A\u001b[A\u001b[A"
     ]
    },
    {
     "name": "stdout",
     "output_type": "stream",
     "text": [
      "\n",
      "[Success] Evaluation for model 'mixtral' successfully generated for key: event:64947\n",
      "\n",
      "[Narrative]:\n",
      "Consents for a proton breast simulation were incorrect. Did not list Radiation therapy as the procedure and only listed the body site. Had to acquire new consents at HSROC, which slowed down our schedule.\n",
      "\n",
      "\n",
      "[Summary]:\n",
      "\n",
      "\n",
      "A consent form for a proton breast simulation contained errors. The procedure of radiation therapy was not included in the listed procedures and only the body site was mentioned. As a result, new consents had to be obtained from the Health Sciences Research Office, leading to a delay in the schedule.\n",
      "\n",
      "\n",
      "[Evaluation]:\n",
      "\n",
      "\n",
      "Evaluation: Identical\n",
      "\n",
      "Explanation: The generated summary accurately reflects the meaning of the narrative. Both the narrative and the summary state that there was an error on a consent form for a proton breast simulation, specifically that the procedure of radiation therapy was not included. Additionally, both indicate that new consents had to be obtained from the Health Sciences Research Office due to this error, which caused a delay in the schedule. Therefore, the meaning of the narrative and the summary are identical.\n",
      "\n"
     ]
    },
    {
     "name": "stderr",
     "output_type": "stream",
     "text": [
      "\n",
      "\n",
      "\n",
      "\u001b[A\u001b[A\u001b[A"
     ]
    },
    {
     "name": "stdout",
     "output_type": "stream",
     "text": [
      "\n",
      "[Success] Evaluation for model 'mixtral' successfully generated for key: event:47102\n",
      "\n",
      "[Narrative]:\n",
      "Couch angle for all images (kv & mv) were at 167 on plan 1.1 R1 R Brs_.  Contacted the planning dosimetrist to correct couch angle to 180.  Then the plan had to be reviewed by physicist for a treatment approval.  Patient's new start time was delayed  by about 1.5 hours.\n",
      "\n",
      "\n",
      "[Summary]:\n",
      "\n",
      "\n",
      "The couch angle for all images in plans 1.1 R1 and R Brs. was set at 167 degrees. The planning dosimetrist was contacted to adjust the couch angle to 180 degrees. Following this change, the plan required review by a physicist for approval. The patient's start time for treatment was delayed approximately 1.5 hours as a result.\n",
      "\n",
      "\n",
      "[Evaluation]:\n",
      "\n",
      "\n",
      "Evaluation: Identical\n",
      "\n",
      "Explanation: The generated summary accurately reflects the information provided in the narrative. It correctly states that the couch angle for plans 1.1 R1 and R Brs. was initially set at 167 degrees, and that it was adjusted to 180 degrees by the planning dosimetrist. The summary also mentions that the plan required review by a physicist for approval and that the patient's start time for treatment was delayed as a result. Overall, the meaning of the narrative and the generated summary are identical.\n",
      "\n"
     ]
    },
    {
     "name": "stderr",
     "output_type": "stream",
     "text": [
      "\n",
      "\n",
      "\n",
      "\u001b[A\u001b[A\u001b[A"
     ]
    },
    {
     "name": "stdout",
     "output_type": "stream",
     "text": [
      "\n",
      "[Success] Evaluation for model 'mixtral' successfully generated for key: event:36696\n",
      "\n",
      "[Narrative]:\n",
      "During the treatment plan chart check, the prescription volume name (\"CTV\") was found to be inconsistent with the structure name used in the plan (\"CTV^SI\"). This resulted in the electronic prescription in Aria not matching the plan prescription in Eclipse. The physicist contacted the dosimetrist. The dosimetrist then contacted the physician, who advised that the structure should be renamed \"CTV\" to match the electronic Rx.\n",
      "\n",
      "\n",
      "[Summary]:\n",
      "\n",
      "\n",
      "The dosimetrist and physicist identified a discrepancy between the name of a structure used in a radiation therapy treatment plan in Eclipse and the name used for the same structure in Aria during an electronic prescription check. The physician was contacted, who recommended renaming the structure in the plan to match the name used in the electronic prescription.\n",
      "\n",
      "\n",
      "[Evaluation]:\n",
      "\n",
      "\n",
      "Evaluation: Similar\n",
      "\n",
      "Explanation: The summary accurately captures the main points of the narrative, including the identification of a discrepancy between the names of a structure used in a treatment plan and an electronic prescription, the involvement of the dosimetrist and physicist, and the recommendation of the physician to rename the structure in the plan. However, the summary does not explicitly state that the prescription volume name and structure name were inconsistent, which is a key detail in the narrative. Therefore, while the summary is generally similar to the narrative, it is not identical.\n",
      "\n"
     ]
    },
    {
     "name": "stderr",
     "output_type": "stream",
     "text": [
      "\n",
      "\n",
      "\n",
      "\u001b[A\u001b[A\u001b[A"
     ]
    },
    {
     "name": "stdout",
     "output_type": "stream",
     "text": [
      "\n",
      "[Success] Evaluation for model 'mixtral' successfully generated for key: event:46814\n",
      "\n",
      "[Narrative]:\n",
      "CT simulation was ordered with IV contrast, the patient has a contrast dye allergy listed in EMR.  Physician was contacted to amend the simulation order.  He stated that the patient would still need contrast and he would notify nurses to get the patient an allergy regimen prescription.  The patient also needs a consent prior to simulation.\n",
      "\n",
      "\n",
      "[Summary]:\n",
      "\n",
      "\n",
      "A physician ordered a CT simulation with intravenous contrast for a patient. However, the patient's electronic medical record (EMR) indicated that they had a contrast dye allergy. The ordering physician was contacted and informed of this allergy. He responded by stating that the patient would still require contrast and instructed nurses to prescribe an allergy regimen for the patient prior to the simulation. Additionally, the patient needed to provide consent before the procedure could be performed.\n",
      "\n",
      "\n",
      "[Evaluation]:\n",
      "\n",
      "\"Identical\n",
      "\n",
      "The generated summary accurately reflects the narrative provided. It clearly states that the physician ordered a CT simulation with contrast despite the patient's allergy, and that the physician instructed nurses to prescribe an allergy regimen for the patient prior to the procedure. The summary also correctly mentions that the patient needed to provide consent before the procedure could be performed.\"\n",
      "\n"
     ]
    },
    {
     "name": "stderr",
     "output_type": "stream",
     "text": [
      "\n",
      "\n",
      "\n",
      "\u001b[A\u001b[A\u001b[A"
     ]
    },
    {
     "name": "stdout",
     "output_type": "stream",
     "text": [
      "\n",
      "[Success] Evaluation for model 'mixtral' successfully generated for key: event:38257\n",
      "\n",
      "[Narrative]:\n",
      "Patient was planned for a photon boost after 28 Proton treatments.  Proton immobilization was sent over for setup.  The therapists set patient up with the current proton immobilization.  After imaging was not aligning, we discovered the patient was re-simulated with another setup and immobilization devices.  The re-simulation set up sheet was in the back of the chart behind the Proton setup and delivery sheets.  We set up patient with the correct immobilization and reimaged to get patient aligned correctly for the photon boost treatment.\n",
      "\n",
      "\n",
      "[Summary]:\n",
      "\n",
      "\n",
      "A patient was scheduled for a photon boost following 28 proton treatments. The necessary equipment for the patient's immobilization during this new phase of treatment was sent over for setup. Therapists prepared the patient using the current proton immobilization devices. However, upon taking images, it was discovered that the patient's alignment was not correct. Further investigation revealed that the patient had been resimulated with different setup and immobilization devices. The sheet detailing this resimulation was located in the back of the chart, hidden behind the proton setup and delivery sheets. Corrective action was taken by setting up the patient with the appropriate immobilization devices and re-aligning them through imaging for the photon boost treatment.\n",
      "\n",
      "\n",
      "[Evaluation]:\n",
      "\n",
      "\"Similar\n",
      "\n",
      "The summary accurately captures the main points of the narrative, including the patient's scheduled photon boost after proton treatments, the use of incorrect immobilization devices, the discovery of a resimulation with different setup and immobilization devices, and the corrective action taken to realign the patient. However, the summary uses slightly different phrasing in some places, which is why it is being marked as 'Similar' rather than 'Identical'. For example, the narrative states that \"the therapists set patient up with the current proton immobilization\" while the summary says \"therapists prepared the patient using the current proton immobilization devices\". Additionally, the narrative states that \"we discovered the patient was re-simulated with another setup and immobilization devices\" while the summary says \"the patient had been resimulated with different setup and immobilization devices\". These differences in phrasing do not significantly alter the meaning of the text, but they are worth noting. Overall, the summary accurately conveys the main points of the narrative and can be considered 'Similar'.\"\n",
      "\n"
     ]
    },
    {
     "name": "stderr",
     "output_type": "stream",
     "text": [
      "\n",
      "\n",
      "\n",
      "\u001b[A\u001b[A\u001b[A"
     ]
    },
    {
     "name": "stdout",
     "output_type": "stream",
     "text": [
      "\n",
      "[Success] Evaluation for model 'mixtral' successfully generated for key: event:71753\n",
      "\n",
      "[Narrative]:\n",
      "Patient is a photon to proton transfer. When checking the consents therapist noticed that \"left breast/ chest wall\" was selected. Patient is being treated for bilateral breast.\n",
      "\n",
      "\n",
      "[Summary]:\n",
      "\n",
      "\n",
      "The patient undergoing photon to proton transfer treatment has been identified as having \"left breast/ chest wall\" marked in their consents. The patient, however, is receiving treatment for bilateral breasts.\n",
      "\n",
      "\n",
      "[Evaluation]:\n",
      "\n",
      "\n"
     ]
    },
    {
     "name": "stderr",
     "output_type": "stream",
     "text": [
      "\n",
      "\n",
      "\n",
      "\u001b[A\u001b[A\u001b[A"
     ]
    },
    {
     "name": "stdout",
     "output_type": "stream",
     "text": [
      "\n",
      "[Success] Evaluation for model 'mixtral' successfully generated for key: event:66323\n",
      "\n",
      "[Narrative]:\n",
      "Patient completed 25 treatments to left breast on 12/9/22.  Patient's RT prescription did not mention a boost for 8 more fractions would be planned.  Immobilization was discarded and patient added to Closeout Care Path.  A Schedule New Start task was dropped on 12/20/22.  Talked with the physician and patient will need to be re-simulated to plan boost.\n",
      "\n",
      "\n",
      "[Summary]:\n",
      "\n",
      "\n",
      "The patient finished 25 sessions of radiation therapy (RT) for their left breast on December 9, 2022. The RT prescription did not indicate that an additional eight fractions for a boost would be scheduled. The immobilization was removed, and the patient was moved to Closeout Care Path. A new task was created on December 20, 2022, for scheduling a new start. The physician and patient discussed the need to re-simulate for planning the boost.\n",
      "\n",
      "\n",
      "[Evaluation]:\n",
      "\n",
      "Evaluation: Identical\n",
      "Explanation: The summary accurately reflects the information provided in the narrative. It correctly states that the patient completed 25 RT sessions for their left breast, that there was no mention of a boost in the prescription, and that immobilization was removed and the patient was added to Closeout Care Path. The summary also correctly notes that a new task was created for scheduling a new start and that the physician and patient discussed the need to re-simulate for planning the boost.\n",
      "\n"
     ]
    },
    {
     "name": "stderr",
     "output_type": "stream",
     "text": [
      "\n",
      "\n",
      "\n",
      "\u001b[A\u001b[A\u001b[A"
     ]
    },
    {
     "name": "stdout",
     "output_type": "stream",
     "text": [
      "\n",
      "[Success] Evaluation for model 'mixtral' successfully generated for key: event:65494\n",
      "\n",
      "[Narrative]:\n",
      "Dosimetry did not include in their email to the srs/sbrt scheduling team that the patient had a pacemaker or insulin pump. Therefore, the scheduling assistant did not put that information on the appt for the therapist to see. The patient was scheduled to start at 2:30pm and no one had checked the chart until that morning so the powerchart message wasn't sent until that morning. Therapist contacted nurses to see if from their experience that was enough time. Nurse called and ensured interrogation was set up.\n",
      "\n",
      "\n",
      "[Summary]:\n",
      "\n",
      "\n",
      "The scheduling team at Dosimetry failed to mention in an email that a patient had a pacemaker or insulin pump. As a result, this information was not included on the appointment schedule for the therapist to see. The patient was scheduled to begin treatment at 2:30pm, but no one checked the chart until that morning. Once the chart was reviewed, the therapist contacted nurses to inquire if starting treatment that late would be sufficient time. A nurse responded by arranging for an interrogation setup.\n",
      "\n",
      "\n",
      "[Evaluation]:\n",
      "\n",
      "\n",
      "Evaluation: Identical\n",
      "\n",
      "Explanation: The generated summary accurately captures the main points of the narrative and conveys them in a clear and concise manner. Both the narrative and the summary state that Dosimetry did not include information about the patient's pacemaker or insulin pump in their email to the scheduling team, which resulted in the information not being included on the appointment schedule for the therapist to see. They also both mention that the patient was scheduled to start treatment at 2:30pm and that the chart was not reviewed until that morning. Finally, they both note that the therapist contacted nurses to ask if starting treatment that late would be sufficient time, and that a nurse arranged for an interrogation setup in response. Therefore, I assess the summary as identical to the narrative.\n",
      "\n"
     ]
    },
    {
     "name": "stderr",
     "output_type": "stream",
     "text": [
      "\n",
      "\n",
      "\n",
      "\u001b[A\u001b[A\u001b[A"
     ]
    },
    {
     "name": "stdout",
     "output_type": "stream",
     "text": [
      "\n",
      "[Success] Evaluation for model 'mixtral' successfully generated for key: event:43840\n",
      "\n",
      "[Narrative]:\n",
      "The patient was being treated for Stage II high grade serous endometrial adenocarcinoma with intracavitary brachytherapy using a standard segmented cylinder with 3 segments and 3.0 cm diameter. For this second fraction (out of three prescribed fractions), the cylinder was inserted prior to treatment appropriately and the placement was confirmed by the attending and resident physicians. The treatment was performed following regular procedures. After the treatment delivery (approximately 8 minutes) the team prepared to remove the vaginal cylinder and it was noted that the device that holds the cylinder in place was loose. On further review, the cylinder had come out of the vagina with a distance of 6 cm noted from the labia to the end of the 4th segment, which represents an approximate 5 cm shift. The cylinder position relative to the patient was not visible from the treatment cameras, and therefore it is unknown when the cylinder moved during treatment. Physics reconstructed the worst case scenario dosimetrically and the physician was consulted regarding the results. The potential misadministration report was written and submitted to the radiation safety officer at approximately 3 pm on June 11th, 2021 and we are awaiting further instructions, including whether or not this is a misadministration or not.\n",
      "The attending radiation oncologist discussed the situation with the patient when it was noted that the cylinder was displaced during treatment. \n",
      "\n",
      "In their conversation, the physician told the patient that modifications for the remaining fractions may be necessary based on the dosimetry and other clinical considerations for the treatment.\n",
      "\n",
      "\n",
      "[Summary]:\n",
      "\n",
      "\n",
      "The patient underwent intracavitary brachytherapy for Stage II high grade serous endometrial adenocarcinoma using a standard segmented cylinder with 3 segments and 3.0 cm diameter. During the second fraction, the cylinder was inserted correctly and placement was confirmed by attending and resident physicians. However, after the treatment delivery (approximately 8 minutes), it was discovered that the device holding the cylinder in place was loose and the cylinder had come out of the vagina with a 6 cm displacement from the labia to the end of the 4th segment, representing a shift of approximately 5 cm. The cylinder's position relative to the patient was not visible from the treatment cameras, so it is unknown when the cylinder moved during treatment. Dosimetric analysis revealed potential misadministration and the physician consulted with the radiation oncologist regarding next steps. The attending physician discussed the situation with the patient and mentioned that modifications for the remaining fractions may be necessary based on dosimetry and clinical considerations.\n",
      "\n",
      "\n",
      "[Evaluation]:\n",
      "\n",
      "Evaluation: Identical\n",
      "Explanation: The summary accurately captures the main points of the narrative, including the type of cancer being treated, the method of treatment, the issue with the cylinder during the second fraction, the potential misadministration, and the discussion with the patient about possible modifications for future fractions. Both the narrative and the summary use similar language and structure to convey the information, making them identical in meaning.\n",
      "\n"
     ]
    },
    {
     "name": "stderr",
     "output_type": "stream",
     "text": [
      "\n",
      "\n",
      "\n",
      "\u001b[A\u001b[A\u001b[A"
     ]
    },
    {
     "name": "stdout",
     "output_type": "stream",
     "text": [
      "\n",
      "[Success] Evaluation for model 'mixtral' successfully generated for key: event:71937\n",
      "\n",
      "[Narrative]:\n",
      "Plan not treatment approved the morning the patient was scheduled to start. Called physics for them to approve plan.\n",
      "\n",
      "\n",
      "[Summary]:\n",
      "\n",
      "\n",
      "A plan for the patient's treatment was not approved before the scheduled start time. An action was taken to contact the department of physics for their approval of the plan.\n",
      "\n",
      "\n",
      "[Evaluation]:\n",
      "\n",
      "\n"
     ]
    },
    {
     "name": "stderr",
     "output_type": "stream",
     "text": [
      "\n",
      "\n",
      "\n",
      "\u001b[A\u001b[A\u001b[A"
     ]
    },
    {
     "name": "stdout",
     "output_type": "stream",
     "text": [
      "\n",
      "[Success] Evaluation for model 'mixtral' successfully generated for key: event:58730\n",
      "\n",
      "[Narrative]:\n",
      "Patient's prescription was changed by physician and was not communicated to the staff. When her plan was trying to be opened for treatment we had to contact physics to reapprove, which delayed treatment twenty minutes\n",
      "\n",
      "\n",
      "[Summary]:\n",
      "\n",
      "\n",
      "A patient's medication prescription was altered by a doctor without notifying the medical staff. During an attempt to initiate treatment, it was discovered that the prescription needed approval from the physician due to the change. This resulted in a delay of approximately twenty minutes.\n",
      "\n",
      "\n",
      "[Evaluation]:\n",
      "\n",
      "\n"
     ]
    },
    {
     "name": "stderr",
     "output_type": "stream",
     "text": [
      "\n",
      "\n",
      "\n",
      "\u001b[A\u001b[A\u001b[A"
     ]
    },
    {
     "name": "stdout",
     "output_type": "stream",
     "text": [
      "\n",
      "[Success] Evaluation for model 'mixtral' successfully generated for key: event:45230\n",
      "\n",
      "[Narrative]:\n",
      "Missing boost documents patient on table. Documents not in iPlan.\n",
      "\n",
      "\n",
      "[Summary]:\n",
      "\n",
      "\n",
      "A set of boost documents pertaining to a patient are absent from the iPlan system. The documents are instead located on a physical table.\n",
      "\n",
      "\n",
      "[Evaluation]:\n",
      "\n",
      "\n",
      "Evaluation: Identical\n",
      "\n",
      "Explanation: The narrative and the generated summary convey the same meaning. Both state that boost documents for a patient are missing from the iPlan system and have been found on a physical table.\n",
      "\n"
     ]
    },
    {
     "name": "stderr",
     "output_type": "stream",
     "text": [
      "\n",
      "\n",
      "\n",
      "\u001b[A\u001b[A\u001b[A"
     ]
    },
    {
     "name": "stdout",
     "output_type": "stream",
     "text": [
      "\n",
      "[Success] Evaluation for model 'mixtral' successfully generated for key: event:45681\n",
      "\n",
      "[Narrative]:\n",
      "QA CT process was not initiated nor was a whiteboard status updated to simulation complete for a patient that needed a resim with new immobilization devices.\n",
      "\n",
      "\n",
      "[Summary]:\n",
      "\n",
      "\n",
      "An individual responsible for quality assurance and control in a medical setting failed to initiate the QA CT process or update the whiteboard status for a specific patient's simulation, which required a resim using new immobilization devices.\n",
      "\n",
      "\n",
      "[Evaluation]:\n",
      "\n",
      "\n",
      "Evaluation: Identical\n",
      "\n",
      "Explanation: The summary accurately reflects the narrative by stating that an individual in a medical setting failed to initiate the QA CT process or update the whiteboard status for a specific patient's simulation, which required a resim using new immobilization devices. This matches the narrative exactly, as it also mentions the failure to initiate the QA CT process and update the whiteboard status for a patient who needed a resim with new immobilization devices.\n",
      "\n"
     ]
    },
    {
     "name": "stderr",
     "output_type": "stream",
     "text": [
      "\n",
      "\n",
      "\n",
      "\u001b[A\u001b[A\u001b[A"
     ]
    },
    {
     "name": "stdout",
     "output_type": "stream",
     "text": [
      "\n",
      "[Success] Evaluation for model 'mixtral' successfully generated for key: event:51726\n",
      "\n",
      "[Narrative]:\n",
      "Patient's plan not available on therapy task within 24 hour time frame. Patient scheduled to start at 1:00 pm on 1/31/22 and plan was not ready until around 12:00 pm on 1/31/22.\n",
      "\n",
      "\n",
      "[Summary]:\n",
      "\n",
      "\n",
      "The patient's therapy plan was not prepared within the specified 24-hour time frame before their scheduled start time. The plan was not available until around noon on the day of the appointment, which was at 1:00 pm.\n",
      "\n",
      "\n",
      "[Evaluation]:\n",
      "\n",
      "\n"
     ]
    },
    {
     "name": "stderr",
     "output_type": "stream",
     "text": [
      "\n",
      "\n",
      "\n",
      "\u001b[A\u001b[A\u001b[A"
     ]
    },
    {
     "name": "stdout",
     "output_type": "stream",
     "text": [
      "\n",
      "[Success] Evaluation for model 'mixtral' successfully generated for key: event:74100\n",
      "\n",
      "[Narrative]:\n",
      "I was treating patient with a lateral shift that was out of tolerance that I overrode. When treating the 4th field of her plan there was a couch rotation. When I overrode the lateral shift I selected all rather than only selecting the lateral shift that was out of tolerance and then treated that field so the patient was treated at a 0 degree rotation rather than 90 degrees. The next field also had a couch rotation. The other treating therapist stopped me from selecting all when I was overriding on this field and the appropriate couch rotation was made before treating this field.\n",
      "\n",
      "\n",
      "[Summary]:\n",
      "\n",
      "\n",
      "A therapist was adjusting a patient's position during treatment when they inadvertently overrode a lateral shift that was not within the desired tolerance. During the fourth field of the patient's plan, there was a couch rotation. The therapist mistakenly selected \"all\" instead of only the out-of-tolerance lateral shift and treated the entire field at a 0 degree rotation rather than the intended 90 degrees. This error occurred again during the next field, but another therapist intervened and corrected the couch rotation before treatment.\n",
      "\n",
      "\n",
      "[Evaluation]:\n",
      "\n",
      "\n",
      "Evaluation: Similar\n",
      "\n",
      "Explanation: The generated summary accurately captures the main points of the narrative, including the therapist's mistake in overriding the lateral shift and treating the patient at a 0 degree rotation instead of the intended 90 degrees, as well as the intervention of another therapist during the next field. However, the summary does not explicitly mention that the first mistake was due to selecting \"all\" rather than just the out-of-tolerance lateral shift. Nonetheless, the overall meaning and message of the narrative are conveyed in the summary, making it a similar match.\n",
      "\n"
     ]
    },
    {
     "name": "stderr",
     "output_type": "stream",
     "text": [
      "\n",
      "\n",
      "\n",
      "\u001b[A\u001b[A\u001b[A"
     ]
    },
    {
     "name": "stdout",
     "output_type": "stream",
     "text": [
      "\n",
      "[Success] Evaluation for model 'mixtral' successfully generated for key: event:76473\n",
      "\n",
      "[Narrative]:\n",
      "Physician marked contours as \"ready for planning\" and did not do careful review of contours. The following issues were noticed and sent back to the physician for edits: \"There is a \"spare\" CTV_Low contour at z=10.4 that is not connected with anything else, on z= 5.8 the structure doesn't avoid the mandible when on the slices before and after it, it does. ON the CTV_High on slice z= -4.6 there is a \"spare\" ditzel just anterior to the airway that is unconnected to the rest of the volume. Please adjust and send back to dosimetry\". This delays planning and patient start.\n",
      "\n",
      "\n",
      "[Summary]:\n",
      "\n",
      "\n",
      "A physician failed to thoroughly examine contours marked as 'ready for planning'. Several discrepancies were identified: an extra CTV_Low contour at z=10.4 not connected to any other structure, a mandible avoidance issue on slice z=5.8, and an unconnected Ditzel within the CTV_High on slice z=-4.6. These issues necessitated corrections and resending to dosimetry, resulting in a delay for planning and the patient's start.\n",
      "\n",
      "\n",
      "[Evaluation]:\n",
      "\n",
      "\n",
      "Evaluation: Identical\n",
      "\n",
      "Explanation: The summary accurately captures the main points of the narrative, including the physician's failure to thoroughly review contours, the specific discrepancies identified, and the resulting delays in planning and patient start. The language used is clear and concise, and the details provided are consistent with those in the original narrative. Therefore, I would rate this summary as 'Identical' to the narrative.\n",
      "\n"
     ]
    },
    {
     "name": "stderr",
     "output_type": "stream",
     "text": [
      "\n",
      "\n",
      "\n",
      "\u001b[A\u001b[A\u001b[A"
     ]
    },
    {
     "name": "stdout",
     "output_type": "stream",
     "text": [
      "\n",
      "[Success] Evaluation for model 'mixtral' successfully generated for key: event:61874\n",
      "\n",
      "[Narrative]:\n",
      "Patient has 2 isos. The spine iso was prescribed 6x. It was planned 15x. Planned was approved by MD and made it through the physics check before the therapist caught it during the chart check. Dos and physics notified and the MD updated the rx to 15x.\n",
      "\n",
      "\n",
      "[Summary]:\n",
      "\n",
      "\n",
      "A patient's prescription for an isotope in their spine received six administrations but was planned for fifteen. The plan was approved by a medical doctor and passed through the necessary physics check before being identified as an error during a chart review by a therapist. The dosimetry and physics teams were notified, and the prescription was updated to reflect the intended fifteen administrations.\n",
      "\n",
      "\n",
      "[Evaluation]:\n",
      "\n",
      "\n",
      "Evaluation: Identical\n",
      "\n",
      "Explanation: The generated summary accurately reflects the narrative provided. It clearly states that the patient's prescription for an isotope in their spine received six administrations but was planned for fifteen, and that the error was identified during a chart review by a therapist after it had already been approved by a medical doctor and passed through the necessary physics check. The summary also correctly mentions that the dosimetry and physics teams were notified and the prescription was updated to reflect the intended fifteen administrations.\n",
      "\n"
     ]
    },
    {
     "name": "stderr",
     "output_type": "stream",
     "text": [
      "\n",
      "\n",
      "\n",
      "\u001b[A\u001b[A\u001b[A"
     ]
    },
    {
     "name": "stdout",
     "output_type": "stream",
     "text": [
      "\n",
      "[Success] Evaluation for model 'mixtral' successfully generated for key: event:43249\n",
      "\n",
      "[Narrative]:\n",
      "During new start check, dose on beam printout read 210cGy, but prescribed dose was 250cGy. POD and DOD agreed to continue with 1st treatment. Beam printout was corrected after treatment with correct reference point.\n",
      "\n",
      "\n",
      "[Summary]:\n",
      "\n",
      "\n",
      "A discrepancy of 40cGy was identified between the actual dose delivered during a new treatment session and the prescribed dose prior to the start of the session. The individuals responsible for overseeing the treatment (POD and DOD) decided to proceed with the initial treatment despite this difference. Following the completion of the treatment, the beam printout was corrected with the appropriate reference point.\n",
      "\n",
      "\n",
      "[Evaluation]:\n",
      "\n",
      "\"Similar\n",
      "\n",
      "The summary accurately captures the main points of the narrative, including the discrepancy between the prescribed and delivered doses, the decision to continue with the initial treatment, and the correction of the beam printout after the treatment. However, the summary does not explicitly state that the dose discrepancy was 40cGy, which is mentioned in the narrative. Nonetheless, this level of detail is not necessary for the summary to convey the overall meaning of the narrative.\"\n",
      "\n"
     ]
    },
    {
     "name": "stderr",
     "output_type": "stream",
     "text": [
      "\n",
      "\n",
      "\n",
      "\u001b[A\u001b[A\u001b[A"
     ]
    },
    {
     "name": "stdout",
     "output_type": "stream",
     "text": [
      "\n",
      "[Success] Evaluation for model 'mixtral' successfully generated for key: event:45895\n",
      "\n",
      "[Narrative]:\n",
      "The elevation of the breastboard was not listed on the sim record. Simulations at HSROC\n",
      "\n",
      "\n",
      "[Summary]:\n",
      "s facility were conducted with a breastboard that had been modified to include an additional 10 degrees of elevation.'\n",
      "\n",
      "A breastboard used in simulations at a certain facility was altered, featuring an extra 10 degrees of elevation that was not documented on the simulation record.\n",
      "\n",
      "\n",
      "[Evaluation]:\n",
      "\n",
      "\n",
      "Evaluation: Similar\n",
      "\n",
      "Explanation: The summary accurately conveys the main idea from the narrative, which is that a breastboard used in simulations at a certain facility had been modified but this modification was not recorded. However, the specific detail about the 10 degrees of elevation is not mentioned in the narrative, making it slightly different from the information provided in the summary. Nonetheless, the overall meaning and main point are similar.\n",
      "\n"
     ]
    },
    {
     "name": "stderr",
     "output_type": "stream",
     "text": [
      "\n",
      "\n",
      "\n",
      "\u001b[A\u001b[A\u001b[A"
     ]
    },
    {
     "name": "stdout",
     "output_type": "stream",
     "text": [
      "\n",
      "[Success] Evaluation for model 'mixtral' successfully generated for key: event:63614\n",
      "\n",
      "[Narrative]:\n",
      "On checking a new start for the EDGE I discovered the patient had a pacemaker but the information was not listed on the new start appointment.  After investigating I discovered the patient's cards were obtained at sim and copies were made and an email was sent.  Simulation sent a physics task. Simulation also selected pacemaker/defibrillator in the Powernote; however, they did not list the information in whiteboard.  Dosimetry did not list the information in the scheduling email when the plan was ready, so a message was never sent in Powerchart to the CIED Radonc pool or Radonc nurse triage.  I then sent a message to the correct pools in Powerchart and listed the info in the new start appointment.\n",
      "\n",
      "\n",
      "[Summary]:\n",
      "\n",
      "\n",
      "A new patient appointment for EDGE was reviewed, revealing the presence of a pacemaker that had not been noted on the initial information. Further investigation uncovered that the patient's cards had been obtained at simulation and copies made, with an email sent regarding a physics task. The simulation team marked the pacemaker/defibrillator in Powernote but failed to include it in the whiteboard. Dosimetry did not add the information to the scheduling email when the plan was prepared, resulting in no message being sent to the CIED Radonc pool or nurse triage. A message was subsequently sent to the appropriate pools in Powerchart and the pacemaker detail was added to the new start appointment.\n",
      "\n",
      "\n",
      "[Evaluation]:\n",
      "\n",
      "\n",
      "Evaluation: Similar\n",
      "\n",
      "Explanation: The generated summary accurately captures the main points of the narrative, including the discovery of a pacemaker not listed on the new start appointment, the creation of copies and an email regarding a physics task, the marking of the pacemaker/defibrillator in Powernote but failure to include it in the whiteboard, and the lack of communication to the CIED Radonc pool or nurse triage. However, the summary omits the fact that the narrative mentions that the information was not listed on the new start appointment twice, which slightly changes the emphasis of the narrative. Nonetheless, the overall meaning and sequence of events are preserved in the summary, making it similar to the original narrative.\n",
      "\n"
     ]
    },
    {
     "name": "stderr",
     "output_type": "stream",
     "text": [
      "\n",
      "\n",
      "\n",
      "\u001b[A\u001b[A\u001b[A"
     ]
    },
    {
     "name": "stdout",
     "output_type": "stream",
     "text": [
      "\n",
      "[Success] Evaluation for model 'mixtral' successfully generated for key: event:67493\n",
      "\n",
      "[Narrative]:\n",
      "Consent was not obtained prior to simulation appointment. Therapist had patient to sign consent prior to simulation and accidentally had the wrong patient selected on the iPad. The consenting provider put the wrong consent \"In-Error\" on Powerchart and a new consent was obtained under the correct patient's name.\n",
      "\n",
      "\n",
      "[Summary]:\n",
      "\n",
      "\n",
      "A therapist mistakenly used the incorrect patient's consent during a simulation appointment. Prior to the appointment, both patients were required to sign consents, but the therapist accidentally selected the wrong patient's consent on an iPad. The consent form with errors was labeled \"In-Error\" in Powerchart, and a new consent was obtained under the correct patient's name.\n",
      "\n",
      "\n",
      "[Evaluation]:\n",
      "\n",
      "\n",
      "Evaluation: Similar\n",
      "\n",
      "Explanation: The summary accurately captures the main points of the narrative, including the mistake made by the therapist, the use of an incorrect consent form, and the subsequent correction with a new consent form. However, the summary does not explicitly state that the therapist had the patient sign the consent prior to the simulation appointment, which is mentioned in the narrative. Nonetheless, this detail does not significantly alter the overall meaning of the narrative, so the summary can still be considered similar to the original text.\n",
      "\n"
     ]
    },
    {
     "name": "stderr",
     "output_type": "stream",
     "text": [
      "\n",
      "\n",
      "\n",
      "\u001b[A\u001b[A\u001b[A"
     ]
    },
    {
     "name": "stdout",
     "output_type": "stream",
     "text": [
      "\n",
      "[Success] Evaluation for model 'mixtral' successfully generated for key: event:46514\n",
      "\n",
      "[Narrative]:\n",
      "During filming on patient's first day it was noticed the medial field's superior border was very jagged when drawn on the patient's skin. The suprclav border was straight. This was a 2 iso plan. Physics was notified and determined therapists could deliver treatment.  After treatment, it was discovered there was some drop off in this area by physics and dosimetry.  MD was going to be notified and plan revision discussed. Patient's plan to be revised and start on day 2.\n",
      "\n",
      "\n",
      "[Summary]:\n",
      "\n",
      "\n",
      "During the initial filming of a patient's treatment plan, an irregularity was observed in the medial field's superior border when it was drawn on the patient's skin. The supraclavicular border, however, was straight. This was a 2 iso plan. Physics was consulted and determined that therapy could be administered. Following treatment, there was a detected drop off in this area by physics and dosimetry. The medical doctor was to be notified, and a revision of the patient's plan was to be discussed. The patient's plan was to be revised and treatment was scheduled to begin on day 2.\n",
      "\n",
      "\n",
      "[Evaluation]:\n",
      "\n",
      "\n",
      "Evaluation: Identical\n",
      "\n",
      "Explanation: The generated summary accurately captures the main points of the narrative, including the observation of an irregularity in the medial field's superior border, the consultation with physics, the detection of a drop off after treatment, and the plan to notify the medical doctor and revise the patient's plan. The language used is slightly different, but the meaning conveyed is identical.\n",
      "\n"
     ]
    },
    {
     "name": "stderr",
     "output_type": "stream",
     "text": [
      "\n",
      "\n",
      "\n",
      "\u001b[A\u001b[A\u001b[A"
     ]
    },
    {
     "name": "stdout",
     "output_type": "stream",
     "text": [
      "\n",
      "[Success] Evaluation for model 'mixtral' successfully generated for key: event:67227\n",
      "\n",
      "[Narrative]:\n",
      "Patient started treatment on 12/29/22 with Prescription as 8Gy/1 fraction.  Patient's chart went through closeout and immobilization was discarded.  Treating therapists were not aware that physician planned to treat patient with 60Gy/30 fractions at a later date.  The RT prescription for the 60Gy treatments was entered on 1/4/23.  Patient will start new plan on 1/17/23.\n",
      "\n",
      "\n",
      "[Summary]:\n",
      "\n",
      "\n",
      "A patient initiated treatment on December 29, 2022, with a prescription of 8 Gy per fraction, single fraction. The patient's chart underwent closeout and the immobilization was discarded. Unbeknownst to the treating therapists, the physician intended to treat the patient with 60 Gy per fraction, totaling 30 fractions at a later date. The RT prescription for the 60 Gy treatments was input on January 4, 2023. The new treatment plan is scheduled to begin on January 17, 2023.\n",
      "\n",
      "\n",
      "[Evaluation]:\n",
      "\n",
      "\n",
      "Evaluation: Identical\n",
      "\n",
      "Explanation: The generated summary accurately reflects the information presented in the narrative. Both the narrative and the summary indicate that a patient began treatment on December 29, 2022 with a prescription of 8 Gy per fraction, single fraction. They also both mention that the patient's chart underwent closeout and the immobilization was discarded. Additionally, both state that the treating therapists were not aware of the physician's plan to treat the patient with 60 Gy per fraction, totaling 30 fractions at a later date. The RT prescription for the 60 Gy treatments was entered on January 4, 2023 and the new treatment plan is scheduled to begin on January 17, 2023. Both the narrative and the summary use similar language and provide the same details in the same order, making them identical.\n",
      "\n"
     ]
    },
    {
     "name": "stderr",
     "output_type": "stream",
     "text": [
      "\n",
      "\n",
      "\n",
      "\u001b[A\u001b[A\u001b[A"
     ]
    },
    {
     "name": "stdout",
     "output_type": "stream",
     "text": [
      "\n",
      "[Success] Evaluation for model 'mixtral' successfully generated for key: event:45836\n",
      "\n",
      "[Narrative]:\n",
      "The patient was re-simulated due to cradle shrinkage. The original gating file was not archived and/or a new reference file was not created. This resulted in the patient having two active gating files. The wrong file with the incorrect parameters could have been selected on accident. The treating therapists found an updated verification breath hold sheet in the chart- this is how the correct file was selected.\n",
      "\n",
      "\n",
      "[Summary]:\n",
      "\n",
      "\n",
      "A patient undergoing simulation had to be re-simulated due to shrinkage of the cradle. No new gating file was created or the old one was not archived properly, resulting in two active files. The therapists identified the correct file by finding an updated breath hold sheet in the chart.\n",
      "\n",
      "\n",
      "[Evaluation]:\n",
      "\n",
      "Evaluation: Similar\n",
      "\n",
      "Explanation: The summary accurately captures the main points of the narrative, including the need for re-simulation due to cradle shrinkage, the presence of two active gating files, and the identification of the correct file through an updated breath hold sheet in the chart. However, the summary does not explicitly mention that the original gating file was not archived or a new reference file was not created, which is stated in the narrative. Therefore, while the overall meaning is similar, there are some minor differences in the details provided.\n",
      "\n"
     ]
    },
    {
     "name": "stderr",
     "output_type": "stream",
     "text": [
      "\n",
      "\n",
      "\n",
      "\u001b[A\u001b[A\u001b[A"
     ]
    },
    {
     "name": "stdout",
     "output_type": "stream",
     "text": [
      "\n",
      "[Success] Evaluation for model 'mixtral' successfully generated for key: event:70814\n",
      "\n",
      "[Narrative]:\n",
      "Therapist not on that treatment machine printed the chart on Thursday. Therapist noticed on the will call ticket that the patient was had a cardiac stent and also noticed that there was bolus that needed to go under the mask. Therapy Assistant scheduled patient on Friday morning and did not notice that the patient had a cardiac stent/loop recorder as it was not in the patient encounter. Therapist on machine checked chart Mon morning when the patient was set to start at 6:30 and did not notice the cardiac stent physics report when checking the chart. A different therapist walked around and asked the more experienced therapist who had printed the chart what their idea was about placing bolus under the mask. After answering, it was asked if she knew that the pacemaker had an implanted device. The therapist who had checked the chart did not notice. They had to make the patient wait until the device could be interrogated. After waiting for 1.5 hours for the interrogators to arrive, they found out that it did not really need to be interrogated. The patient ended up leaving and not getting a treatment.\n",
      "\n",
      "\n",
      "[Summary]:\n",
      "\n",
      "\n",
      "The therapist in charge of printing charts did so on Thursday. They noticed that the patient had undergone a cardiac stent procedure and required a bolus treatment. The therapy assistant scheduled the patient for Friday morning, but failed to note the cardiac stent or loop recorder during the encounter. On Monday morning, when the patient was due to begin treatment at 6:30 AM, the therapist operating the machine checked the chart and missed the cardiac stent information in the physics report. Another therapist inquired about placing a bolus under the mask and mentioned the pacemaker with an implanted device. The first therapist was unaware of this detail. They had to delay the treatment while waiting for interrogators to arrive, but ultimately discovered that it was unnecessary. The patient ended up leaving without receiving treatment.\n",
      "\n",
      "\n",
      "[Evaluation]:\n",
      "\n",
      "\n",
      "Evaluation: Similar\n",
      "\n",
      "Explanation: The generated summary accurately captures the main points of the narrative, including the failure to notice the cardiac stent and loop recorder, the delay in treatment due to waiting for interrogators, and the ultimate discovery that the interrogation was unnecessary. However, the summary incorrectly states that the therapist operating the machine missed the cardiac stent information in the physics report on Monday morning, when it was actually the therapy assistant who failed to note it during the encounter on Friday. Additionally, the summary does not explicitly mention that the patient left without receiving treatment, but this is implied by the statement that the interrogation was unnecessary. Overall, while there are some minor discrepancies between the narrative and the summary, the meaning of the two texts is similar.\n",
      "\n"
     ]
    },
    {
     "name": "stderr",
     "output_type": "stream",
     "text": [
      "\n",
      "\n",
      "\n",
      "\u001b[A\u001b[A\u001b[A"
     ]
    },
    {
     "name": "stdout",
     "output_type": "stream",
     "text": [
      "\n",
      "[Success] Evaluation for model 'mixtral' successfully generated for key: event:43864\n",
      "\n",
      "[Narrative]:\n",
      "A PSQA task was put on the task pad at 4:50 PM on a Friday, after the PSQA team was complete with their work. They did not notice the additional PSQA and this task had to be performed on Monday directly before treatment. The portal dosimetry yielded a gamma value lower than 95% , so a subsequent ion chamber measurement was performed. Coupled with some problems with the MV imager (it got stuck when coming out), this caused a great delay to the machine schedule.\n",
      "\n",
      "\n",
      "[Summary]:\n",
      "\n",
      "\n",
      "A PSQA task was added to the task pad after the PSQA team had finished their work on a Friday. This unnoticed PSQA task needed to be completed before treatment on Monday. The portal dosimetry measurement resulted in a gamma value below 95%, necessitating an ion chamber measurement. Additionally, there were issues with the MV imager, which caused it to get stuck when being withdrawn, resulting in further delays for the machine schedule.\n",
      "\n",
      "\n",
      "[Evaluation]:\n",
      "\n",
      "\n",
      "Evaluation: Identical\n",
      "\n",
      "Explanation: The generated summary accurately captures the main points of the narrative. It correctly identifies that a PSQA task was added after the team had finished their work and needed to be completed before treatment on Monday. The summary also correctly states that the portal dosimetry measurement resulted in a gamma value below 95%, requiring an ion chamber measurement, and that there were issues with the MV imager which caused delays to the machine schedule. Overall, the meaning of the narrative and the generated summary are identical.\n",
      "\n"
     ]
    },
    {
     "name": "stderr",
     "output_type": "stream",
     "text": [
      "\n",
      "\n",
      "\n",
      "\u001b[A\u001b[A\u001b[A"
     ]
    },
    {
     "name": "stdout",
     "output_type": "stream",
     "text": [
      "\n",
      "[Success] Evaluation for model 'mixtral' successfully generated for key: event:46513\n",
      "\n",
      "[Narrative]:\n",
      "During new start appointment, patient's anterior supraclav field was treated without breath hold for 11MUs. Gating system was tracking breathing, but the key was not turned on. Beam turned off and breath hold gating was resumed for the remainder of treatment.\n",
      "\n",
      "\n",
      "[Summary]:\n",
      "\n",
      "\n",
      "The patient underwent a new start appointment during which 11 megavolts (MUs) were administered to treat the anterior supraclavicular field without using a breath hold. Despite having a gating system in place to track breathing, the key was not activated. Consequently, the beam was turned off and breath hold gating was resumed for the remainder of the treatment.\n",
      "\n",
      "\n",
      "[Evaluation]:\n",
      "\n",
      "\"Similar\n",
      "\n",
      "The generated summary accurately captures the main points of the narrative, including the use of 11 MUs to treat the anterior supraclavicular field without a breath hold, the presence of a gating system that was not activated, and the resumption of breath hold gating for the remainder of the treatment. However, the summary could be more precise in stating that the gating system was tracking breathing but the key was not turned on, rather than simply stating that the key was not activated.\"\n",
      "\n"
     ]
    },
    {
     "name": "stderr",
     "output_type": "stream",
     "text": [
      "\n",
      "\n",
      "\n",
      "\u001b[A\u001b[A\u001b[A"
     ]
    },
    {
     "name": "stdout",
     "output_type": "stream",
     "text": [
      "\n",
      "[Success] Evaluation for model 'mixtral' successfully generated for key: event:70684\n",
      "\n",
      "[Narrative]:\n",
      "Proton patient was listed under Hazelrig as the location (instead of proton) it was imported and sent to the physician from the photon side. dosi happen to notice it when they was doing a random search in whiteboard. The patient had been turned over two days previously for planning,\n",
      "\n",
      "\n",
      "[Summary]:\n",
      "\n",
      "\n",
      "A patient who was supposed to be listed under 'proton' in a medical system was instead recorded as 'Hazelrig'. This error occurred during the importation and transfer of the patient's information from the 'photon' side to the physician's whiteboard. The mistake went unnoticed until a random search by a physician revealed it, and the patient had already been turned over for planning two days prior.\n",
      "\n",
      "\n",
      "[Evaluation]:\n",
      "\n",
      "Evaluation: Identical\n",
      "Explanation: The summary accurately reflects the narrative by stating that a patient was mistakenly listed under 'Hazelrig' instead of 'proton', that this error occurred during importation and transfer from the 'photon' side, and that the mistake went unnoticed until it was discovered during a random search. Additionally, the summary correctly mentions that the patient had already been turned over for planning two days prior to the discovery of the error. Therefore, the meaning of the narrative and the generated summary are identical.\n",
      "\n"
     ]
    },
    {
     "name": "stderr",
     "output_type": "stream",
     "text": [
      "\n",
      "\n",
      "\n",
      "\u001b[A\u001b[A\u001b[A"
     ]
    },
    {
     "name": "stdout",
     "output_type": "stream",
     "text": [
      "\n",
      "[Success] Evaluation for model 'mixtral' successfully generated for key: event:47955\n",
      "\n",
      "[Narrative]:\n",
      "Therapists noticed patient was scheduled for new start today. However, no plan information was available in ARIA. Therapist contacted dosimetry to inquire if patient needed to be contacted or if plan would be ready. Therapists were ask to cancel patient and he would be placed on will call. No communication had been given about the delayed new start appointment.\n",
      "\n",
      "\n",
      "[Summary]:\n",
      "\n",
      "\n",
      "Therapists observed that a patient was scheduled for a new start day but could not access the necessary plan information in ARIA. They contacted dosimetry to inquire about the status of the plan and were instructed to cancel the appointment and have the patient wait on will call. No communication had been provided regarding the reason for the delayed appointment.\n",
      "\n",
      "\n",
      "[Evaluation]:\n",
      "\n",
      "\n",
      "Evaluation: Similar\n",
      "\n",
      "Explanation: The summary accurately captures the main points of the narrative, including the fact that therapists noticed a delay in the patient's new start day and were instructed to cancel the appointment. However, the summary does not explicitly state that the therapists contacted dosimetry or that no communication had been given about the delayed appointment, which are mentioned in the narrative. Therefore, while the overall meaning of the two texts is similar, there are some differences in specific details.\n",
      "\n"
     ]
    },
    {
     "name": "stderr",
     "output_type": "stream",
     "text": [
      "\n",
      "\n",
      "\n",
      "\u001b[A\u001b[A\u001b[A"
     ]
    },
    {
     "name": "stdout",
     "output_type": "stream",
     "text": [
      "\n",
      "[Success] Evaluation for model 'mixtral' successfully generated for key: event:55090\n",
      "\n",
      "[Narrative]:\n",
      "The patient was originally listed as a proton patient in whiteboard and brought in by proton dosi. After it was sent to MD for contours, the \"location\" tab was changed in whiteboard to another location but the dosimetrist in whiteboard was not updated. This was accidentally found and, after checking with the physician, was reset to the correct location. There was no delay in care as the patient was still waiting for contours to be delineated.\n",
      "\n",
      "\n",
      "[Summary]:\n",
      "\n",
      "\n",
      "The patient, who was initially labeled as a proton patient in the whiteboard and transported by the proton dosimetrist, had the \"location\" tab altered in the whiteboard by someone else. The change went unnoticed by the dosimetrist in the whiteboard. This error was discovered, and after confirming with the physician, the location was corrected back to the original one. There was no impact on the patient's care as they were still waiting for their contours to be delineated.\n",
      "\n",
      "\n",
      "[Evaluation]:\n",
      "\n",
      "\n",
      "Evaluation: Similar\n",
      "\n",
      "Explanation: The generated summary accurately captures the main points of the narrative, including the initial labeling of the patient as a proton patient, the change in location tab, the failure to update the dosimetrist, and the discovery and correction of the error. However, the summary goes beyond the narrative by stating that the change went unnoticed by the dosimetrist \"in the whiteboard,\" which is not explicitly stated in the narrative. Nonetheless, this addition does not significantly alter the meaning of the narrative and the overall evaluation is 'Similar'.\n",
      "\n"
     ]
    },
    {
     "name": "stderr",
     "output_type": "stream",
     "text": [
      "\n",
      "\n",
      "\n",
      "\u001b[A\u001b[A\u001b[A"
     ]
    },
    {
     "name": "stdout",
     "output_type": "stream",
     "text": [
      "\n",
      "[Success] Evaluation for model 'mixtral' successfully generated for key: event:67071\n",
      "\n",
      "[Narrative]:\n",
      "When checking the chart the printed RX that was sent to the physics folder did not state the frequency of the bolus. Under the bolus section it said 0.5cm QOD. After fx 19 which was the 10th fx with bolus the therapist wanted the MD to see the patients skin before proceeding with bolus because of the redness of her skin. MD stated that it should have been discontinued after two weeks. The electronic prescription was pulled up and it did specify the frequency of the bolus. It did not translate to the printed RX and it was missed in the chart check.\n",
      "\n",
      "\n",
      "[Summary]:\n",
      "\n",
      "\n",
      "The physician's written prescription for a patient contained an error: the frequency of the bolus was missing from the printed version in the chart. After administering 19 treatments with boluses, the therapist noticed the patient's skin had become red and wanted the MD to examine it before continuing. The electronic prescription indicated the correct frequency, but this information did not carry over to the printed copy, resulting in an oversight during the chart check.\n",
      "\n",
      "\n",
      "[Evaluation]:\n",
      "\n",
      "\n",
      "Evaluation: Similar\n",
      "\n",
      "Explanation: The generated summary accurately captures the main points of the narrative, including the error in the written prescription, the redness of the patient's skin, and the missed frequency information on the printed copy. However, the summary uses the term \"administering\" to describe the application of the bolus treatments, while the narrative uses the term \"fx,\" which is short for \"fixes\" or \"treatments.\" This discrepancy in terminology results in a similar, but not identical, match between the two texts.\n",
      "\n"
     ]
    },
    {
     "name": "stderr",
     "output_type": "stream",
     "text": [
      "\n",
      "\n",
      "\n",
      "\u001b[A\u001b[A\u001b[A"
     ]
    },
    {
     "name": "stdout",
     "output_type": "stream",
     "text": [
      "\n",
      "[Success] Evaluation for model 'mixtral' successfully generated for key: event:63055\n",
      "\n",
      "[Narrative]:\n",
      "prescription listed SIB targets that were not complete. Whiteboard listed another target to plan to instead of either that were in the script. If the CTVs in the script had been used for planning, there would have been  2.5 cm of axial slices with no dose between SIB CTV high and CTV low.\n",
      "\n",
      "\n",
      "[Summary]:\n",
      "\n",
      "\n",
      "A prescription contained incomplete SIB targets. An alternative target was listed on the whiteboard instead of those mentioned in the script. If the scripted CTVs had been utilized for planning, there would have been a gap of 2.5 cm axially between the high and low doses of the SIB CTVs.\n",
      "\n",
      "\n",
      "[Evaluation]:\n",
      "\n",
      "\n",
      "Evaluation: Identical\n",
      "\n",
      "Explanation: The generated summary accurately captures the meaning of the narrative. Both the narrative and the summary mention that the prescription contained incomplete SIB targets, that an alternative target was listed on the whiteboard, and that there would have been a gap between the high and low doses of the SIB CTVs if the scripted CTVs had been utilized for planning. The use of slightly different wording does not affect the overall meaning or accuracy of the summary.\n",
      "\n"
     ]
    },
    {
     "name": "stderr",
     "output_type": "stream",
     "text": [
      "\n",
      "\n",
      "\n",
      "\u001b[A\u001b[A\u001b[A"
     ]
    },
    {
     "name": "stdout",
     "output_type": "stream",
     "text": [
      "\n",
      "[Success] Evaluation for model 'mixtral' successfully generated for key: event:38556\n",
      "\n",
      "[Narrative]:\n",
      "We did not receive chart paperwork until after pt had arrived.\n",
      "\n",
      "\n",
      "[Summary]:\n",
      "\n",
      "\n",
      "A patient (pt) arrived before the necessary chart paperwork was received.\n",
      "\n",
      "\n",
      "[Evaluation]:\n",
      "\n",
      "\n",
      "Evaluation: Similar\n",
      "\n",
      "Explanation: The generated summary accurately conveys the main idea of the narrative, which is that the patient arrived before the chart paperwork was received. However, it uses slightly different wording and adds the word \"a\" before \"patient,\" making it not identical to the original narrative. Nonetheless, the meaning is still very similar.\n",
      "\n"
     ]
    },
    {
     "name": "stderr",
     "output_type": "stream",
     "text": [
      "\n",
      "\n",
      "\n",
      "\u001b[A\u001b[A\u001b[A"
     ]
    },
    {
     "name": "stdout",
     "output_type": "stream",
     "text": [
      "\n",
      "[Success] Evaluation for model 'mixtral' successfully generated for key: event:49794\n",
      "\n",
      "[Narrative]:\n",
      "An order was placed for this patient for a Radiosurgery Brain simulation with IV contrast. The order notates scan parameters as 2cm above head to C2. The patient was scanned according to these parameters. However, the tumor extends to C4. This was not notated on the order and the patient had to be rescheduled to come back for another scan.\n",
      "\n",
      "\n",
      "[Summary]:\n",
      "\n",
      "\n",
      "An order was given for a Radiosurgery Brain simulation with IV contrast for a patient. The instructions specified that the scan should begin 2cm above the head and continue up to C2. The patient underwent the scan according to these directions. However, it was discovered during the procedure that the tumor extended to C4, which had not been noted on the order. As a result, the patient needed to be rescheduled for another scan.\n",
      "\n",
      "\n",
      "[Evaluation]:\n",
      "\n",
      "\n",
      "Evaluation: Similar\n",
      "\n",
      "Explanation: The generated summary accurately captures the main points of the narrative, including the type of scan ordered, the specified scan parameters, and the fact that the tumor extended beyond the specified parameters, requiring the patient to be rescheduled for another scan. However, the summary uses slightly different wording in some places, such as \"instructions\" instead of \"order notates,\" and \"during the procedure\" instead of \"was scanned.\" These differences do not significantly alter the meaning of the summary, but they are enough to warrant a grade of \"Similar\" rather than \"Identical.\"\n",
      "\n"
     ]
    },
    {
     "name": "stderr",
     "output_type": "stream",
     "text": [
      "\n",
      "\n",
      "\n",
      "\u001b[A\u001b[A\u001b[A"
     ]
    },
    {
     "name": "stdout",
     "output_type": "stream",
     "text": [
      "\n",
      "[Success] Evaluation for model 'mixtral' successfully generated for key: event:40212\n",
      "\n",
      "[Narrative]:\n",
      "Trigeminal neuralgia patient (SRS 8500 cGy) discussed in peer review but no QA task created on board to notify resident to test the machine. Resident discovered the case by chance attending the physicians' peer review (Thursday 'new patient conference').\n",
      "\n",
      "\n",
      "[Summary]:\n",
      " The event describes a situation where a patient with trigeminal neuralgia underwent a treatment using an SRS 8500 cGy machine, which was later discussed in a peer review meeting. However, no quality assurance (QA) task was created on the board to remind or notify the resident to test the machine before using it on another patient. The resident discovered the oversight by chance while attending the physicians' peer review meeting on Thursday during a 'new patient conference.'\n",
      "\n",
      "\n",
      "[Evaluation]:\n",
      "\n",
      "\n",
      "Evaluation: Identical\n",
      "\n",
      "Explanation: The summary accurately captures the main points of the narrative, including the type of patient and treatment, the lack of a QA task being created, and the resident's discovery of the oversight during a peer review meeting. The summary provides a clear and concise description of the event, making it identical to the original narrative in meaning and content.\n",
      "\n"
     ]
    },
    {
     "name": "stderr",
     "output_type": "stream",
     "text": [
      "\n",
      "\n",
      "\n",
      "\u001b[A\u001b[A\u001b[A"
     ]
    },
    {
     "name": "stdout",
     "output_type": "stream",
     "text": [
      "\n",
      "[Success] Evaluation for model 'mixtral' successfully generated for key: event:58598\n",
      "\n",
      "[Narrative]:\n",
      "Patient did not get OSLD measurement on Day 1.The patient has 5cm range shifters(RS) and most cases get OSLDs when the 5cm RS is used. Dosimetrist failed to drop OSLD task for physics, nor did they alert the therapists that an OSLD would be needed. Physician was notified at the completion of fraction five (when this was noticed) and MD said there was no concern, but we could go ahead and measure it at fraction 6 since this is the process we usually follow with 5cm RS usage.\n",
      "\n",
      "\n",
      "[Summary]:\n",
      "\n",
      "\n",
      "A patient missed receiving an OSLD measurement on Day 1 due to oversight by both the dosimetrist and physicist. The patient had a 5cm range shifter, which typically warrants an OSLD measurement. However, neither the dosimetrist nor the physicist dropped the task for physics or alerted the therapists about the necessity of an OSLD. The issue was discovered during fraction five, and the physician was not concerned but suggested measuring it at fraction six according to standard procedure with 5cm RS usage.\n",
      "\n",
      "\n",
      "[Evaluation]:\n",
      "\n",
      "\n",
      "Evaluation: Identical\n",
      "\n",
      "Explanation: The summary accurately captures the main points of the narrative. Both the narrative and the summary mention that the patient missed an OSLD measurement on Day 1 due to oversight by the dosimetrist and physicist, that the patient had a 5cm range shifter which typically requires an OSLD measurement, that neither the dosimetrist nor the physicist dropped the task for physics or alerted the therapists about the necessity of an OSLD, that the issue was discovered during fraction five, and that the physician suggested measuring it at fraction six according to standard procedure with 5cm RS usage. The summary is concise but still manages to convey all the important details from the narrative, making it identical in meaning.\n",
      "\n"
     ]
    },
    {
     "name": "stderr",
     "output_type": "stream",
     "text": [
      "\n",
      "\n",
      "\n",
      "\u001b[A\u001b[A\u001b[A"
     ]
    },
    {
     "name": "stdout",
     "output_type": "stream",
     "text": [
      "\n",
      "[Success] Evaluation for model 'mixtral' successfully generated for key: event:44244\n",
      "\n",
      "[Narrative]:\n",
      "During pre-treatment therapists checks the RT prescription states \"Once Daily, Non-Consecutive Days\", however, the physician asked for the patient to be treated with \"Once Daily, Consecutive Days\".\n",
      "\n",
      "\n",
      "[Summary]:\n",
      "\n",
      "\n",
      "A therapist checking a radiation therapy (RT) prescription prior to treatment noticed that it specified \"Once Daily, Non-Consecutive Days.\" The physician subsequently requested that the patient receive RT treatment on \"Once Daily, Consecutive Days\" instead.\n",
      "\n",
      "\n",
      "[Evaluation]:\n",
      "\n",
      "\n"
     ]
    },
    {
     "name": "stderr",
     "output_type": "stream",
     "text": [
      "\n",
      "\n",
      "\n",
      "\u001b[A\u001b[A\u001b[A"
     ]
    },
    {
     "name": "stdout",
     "output_type": "stream",
     "text": [
      "\n",
      "[Success] Evaluation for model 'mixtral' successfully generated for key: event:54758\n",
      "\n",
      "[Narrative]:\n",
      "Physician missed gross tumor volume in contouring for a lung case that was mistaken for atelectasis on an inpatient plan, realized after plan was approved, prior to plan start. Recontoured, replanned. Contributing factors; inpatient status and urgent plan.\n",
      "\n",
      "\n",
      "[Summary]:\n",
      "\n",
      "\n",
      "A physician failed to accurately delineate the gross tumor volume during contouring for a lung case due to the mistaken identification of a tumor as atelectasis on an inpatient treatment plan. This error was discovered before the start of the plan, leading to a recontouring and replanning of the treatment. The factors contributing to this mistake were the patient's inpatient status and the urgency of the plan.\n",
      "\n",
      "\n",
      "[Evaluation]:\n",
      "\n",
      "\n",
      "Evaluation: Identical\n",
      "\n",
      "Explanation: The summary accurately reflects the narrative by stating that the physician failed to delineate the gross tumor volume due to a mistaken identification of atelectasis, leading to recontouring and replanning. The contributing factors of inpatient status and urgency are also mentioned in the summary, making it identical to the narrative.\n",
      "\n"
     ]
    },
    {
     "name": "stderr",
     "output_type": "stream",
     "text": [
      "\n",
      "\n",
      "\n",
      "\u001b[A\u001b[A\u001b[A"
     ]
    },
    {
     "name": "stdout",
     "output_type": "stream",
     "text": [
      "\n",
      "[Success] Evaluation for model 'mixtral' successfully generated for key: event:46819\n",
      "\n",
      "[Narrative]:\n",
      "CT simulation order stated Breast/Supraclavicular Left, isocenter placement on L breast chest wall/lung interface, arms overhead, head turned to right shoulder.  She has bilateral breast cancer.  All of the order states for Left side breast setup.  Simulation therapist had to ask physician if we were to simulate as bilateral, since order only stated for left breast setup.\n",
      "\n",
      "\n",
      "[Summary]:\n",
      "\n",
      "\n",
      "The simulation order specifies a CT scan for the left breast and supraclavicular region, with the isocenter placed on the chest wall of the left breast near the lung interface. The patient's arms are to be positioned overhead and her head turned to the right shoulder. The patient has been diagnosed with bilateral breast cancer, but the simulation order only mentions the left side for setup. The therapist had to clarify with the physician if the simulation should be done as a bilateral procedure.\n",
      "\n",
      "\n",
      "[Evaluation]:\n",
      "\n",
      "\"Similar\n",
      "\n",
      "The generated summary accurately captures the main details of the narrative, including the placement of the isocenter, patient positioning, and the need for clarification regarding the simulation setup. However, it does not explicitly state that the order only mentions the left breast for setup, which is a key detail in the narrative. Nonetheless, the summary effectively conveys the overall meaning of the narrative.\"\n",
      "\n"
     ]
    },
    {
     "name": "stderr",
     "output_type": "stream",
     "text": [
      "\n",
      "\n",
      "\n",
      "\u001b[A\u001b[A\u001b[A"
     ]
    },
    {
     "name": "stdout",
     "output_type": "stream",
     "text": [
      "\n",
      "[Success] Evaluation for model 'mixtral' successfully generated for key: event:43055\n",
      "\n",
      "[Narrative]:\n",
      "HDR Syed patient's plan did not match the patient in the HDR room.  The HDR physicist and physics resident did not verify patient before starting the connection hook up.  The RTT and covering physician stated that a time out needs to be done before we start the connection hook up.  The correct plan was then loaded up on the HDR unit and correct patient verified before any hook up was done.\n",
      "\n",
      "\n",
      "[Summary]:\n",
      "\n",
      "\n",
      "A discrepancy was identified between the planned HDR treatment and the actual patient in the room. The involved healthcare professionals, including an HDR physicist and a physics resident, failed to confirm the patient's identity prior to initiating the connection setup. Subsequently, it was determined that a timeout was necessary before proceeding with the hookup. The appropriate plan was subsequently loaded onto the HDR unit, and the correct patient was verified before any further setup was carried out.\n",
      "\n",
      "\n",
      "[Evaluation]:\n",
      "\n",
      "\"Similar\n",
      "\n",
      "The summary accurately captures the main points of the narrative, including the presence of a discrepancy between the planned treatment and the actual patient, the failure to verify the patient's identity prior to initiating the connection setup, and the need for a timeout before proceeding with the hookup. The summary also correctly notes that the appropriate plan was loaded onto the HDR unit and the correct patient was verified before any further setup was carried out. However, the summary does not explicitly state that the RTT and covering physician were involved in identifying the discrepancy and requiring the timeout, whereas the narrative does. Nonetheless, the overall meaning of the two texts is similar.\"\n",
      "\n"
     ]
    },
    {
     "name": "stderr",
     "output_type": "stream",
     "text": [
      "\n",
      "\n",
      "\n",
      "\u001b[A\u001b[A\u001b[A"
     ]
    },
    {
     "name": "stdout",
     "output_type": "stream",
     "text": [
      "\n",
      "[Success] Evaluation for model 'mixtral' successfully generated for key: event:43789\n",
      "\n",
      "[Narrative]:\n",
      "Trigem SRS was treatment approved, however, the virtual cone QA had not been completed. This was discovered at time of treatment and the patient was rescheduled.\n",
      "\n",
      "\n",
      "[Summary]:\n",
      "\n",
      "\n",
      "The approval for Trigem SRS treatment did not include the completion of the virtual cone Quality Assurance (QA) process. This oversight was identified during the scheduled treatment session, resulting in the patient being rescheduled.\n",
      "\n",
      "\n",
      "[Evaluation]:\n",
      "\n",
      "\n"
     ]
    },
    {
     "name": "stderr",
     "output_type": "stream",
     "text": [
      "\n",
      "\n",
      "\n",
      "\u001b[A\u001b[A\u001b[A"
     ]
    },
    {
     "name": "stdout",
     "output_type": "stream",
     "text": [
      "\n",
      "[Success] Evaluation for model 'mixtral' successfully generated for key: event:46823\n",
      "\n",
      "[Narrative]:\n",
      "CT simulation order stated 4D scan (phases 0-90).  The physician actually wanted a Breath Hold CT simulation.\n",
      "\n",
      "\n",
      "[Summary]:\n",
      "\n",
      "\n",
      "The CT simulation was ordered with a protocol for a four-dimensional scan, which includes phases from 0 to 90. However, the requesting physician intended for a breath hold CT simulation instead.\n",
      "\n",
      "\n",
      "[Evaluation]:\n",
      "\n",
      "\n",
      "Evaluation: Identical\n",
      "\n",
      "Explanation: The narrative and summary are identical in meaning. Both state that the CT simulation was ordered with a 4D scan protocol (phases 0-90), but the requesting physician intended for a breath hold CT simulation instead.\n",
      "\n"
     ]
    },
    {
     "name": "stderr",
     "output_type": "stream",
     "text": [
      "\n",
      "\n",
      "\n",
      "\u001b[A\u001b[A\u001b[A"
     ]
    },
    {
     "name": "stdout",
     "output_type": "stream",
     "text": [
      "\n",
      "[Success] Evaluation for model 'mixtral' successfully generated for key: event:65982\n",
      "\n",
      "[Narrative]:\n",
      "IMRT QA not performed by morning of new start appointment at 12:00pm. Patient postponed till later in the day so QA could be performed.\n",
      "\n",
      "\n",
      "[Summary]:\n",
      "\n",
      "\n",
      "The IMRT QA (Quality Assurance) procedure for a patient was not completed before their scheduled new start appointment, which began at 12:00pm. The patient's treatment was therefore postponed until later in the day to allow time for the necessary QA to be carried out.\n",
      "\n",
      "\n",
      "[Evaluation]:\n",
      "\n",
      "\n",
      "Evaluation: Identical\n",
      "\n",
      "Explanation: The summary accurately reflects the meaning of the narrative. Both convey that the IMRT QA procedure was not completed before a patient's scheduled new start appointment at 12:00pm, and as a result, the patient's treatment was postponed until later in the day to allow time for the necessary QA to be carried out. The summary uses slightly different wording but conveys the same information as the narrative.\n",
      "\n"
     ]
    },
    {
     "name": "stderr",
     "output_type": "stream",
     "text": [
      "\n",
      "\n",
      "\n",
      "\u001b[A\u001b[A\u001b[A"
     ]
    },
    {
     "name": "stdout",
     "output_type": "stream",
     "text": [
      "\n",
      "[Success] Evaluation for model 'mixtral' successfully generated for key: event:51455\n",
      "\n",
      "[Narrative]:\n",
      "Patient treatment was planned breath hold. Gating was being tracked, but the gating key and enable gating was not on. Treated one field with patient within parameter but key and enable gating not turned on.\n",
      "\n",
      "\n",
      "[Summary]:\n",
      "\n",
      "\n",
      "A medical procedure involving a patient was being carried out using a breath hold technique. The system responsible for tracking gating was operational, but the 'gating key' and 'enable gating' were not activated. Despite this, one treatment field was administered to the patient while the gating mechanism remained inactive.\n",
      "\n",
      "\n",
      "[Evaluation]:\n",
      "\n",
      "\"Similar\n",
      "\n",
      "The summary accurately captures the main points of the narrative, including the use of breath hold for patient treatment, the operational status of the gating system, and the fact that one treatment field was administered with the gating mechanism not activated. However, the summary does not explicitly mention that the 'gating key' and 'enable gating' were not turned on, which is a specific detail from the narrative. Nonetheless, this omission does not significantly alter the overall meaning of the summary.\"\n",
      "\n"
     ]
    },
    {
     "name": "stderr",
     "output_type": "stream",
     "text": [
      "\n",
      "\n",
      "\n",
      "\u001b[A\u001b[A\u001b[A"
     ]
    },
    {
     "name": "stdout",
     "output_type": "stream",
     "text": [
      "\n",
      "[Success] Evaluation for model 'mixtral' successfully generated for key: event:76875\n",
      "\n",
      "[Narrative]:\n",
      "Prostate patient was imaged to check bladder filling. Bladder was not full. Therapists planned to get pt down while bladder filled but changed their minds and let pt lay on table while we waited. Pt's chart was closed out of the 4d console. The next patient arrived for treatment and we checked pt in on the 4d console leaving the 2nd patient's name highlighted. When it was time to recheck the original patient, therapist clicked the treat button without changing which patient's name was highlighted. A CBCT was done on the 2nd patient's chart when we then realized that it was the wrong patient pulled up. The chart was then closed and the correct patient was pulled up and proceeded with treatment.\n",
      "\n",
      "\n",
      "[Summary]:\n",
      "\n",
      "\n",
      "A patient undergoing prostate imaging had a bladder that was not full as observed. Therapists initially planned to help him get down from the table while his bladder filled, but they changed their minds and let him remain on the table instead. The patient's chart was closed out of the system. Subsequently, another patient arrived for treatment and was checked in using the 4D console, leaving the name of the first patient still highlighted. When it was time to recheck the initial patient, the therapist accidentally initiated treatment on the second patient's chart instead. A CBCT scan was performed on the wrong patient's chart before the error was discovered. The incorrect chart was then closed and the correct patient's chart was accessed for treatment.\n",
      "\n",
      "\n",
      "[Evaluation]:\n",
      "\n",
      "\n",
      "Evaluation: Identical\n",
      "\n",
      "Explanation: The generated summary accurately captures the main points of the narrative, including the issue with the bladder filling, the therapists' change of plans, the closing of the original patient's chart, the arrival and check-in of a second patient, the accidental treatment initiation on the wrong patient's chart, and the discovery and correction of the error. The summary uses slightly different wording but conveys the same meaning as the narrative, making it identical in terms of overall content and message.\n",
      "\n"
     ]
    },
    {
     "name": "stderr",
     "output_type": "stream",
     "text": [
      "\n",
      "\n",
      "\n",
      "\u001b[A\u001b[A\u001b[A"
     ]
    },
    {
     "name": "stdout",
     "output_type": "stream",
     "text": [
      "\n",
      "[Success] Evaluation for model 'mixtral' successfully generated for key: event:49992\n",
      "\n",
      "[Narrative]:\n",
      "Proton patient transitioned to photon, plan calculated with Acuros PT 2.0. No DO in plan, recalculated with acuros XB no change to plan\n",
      "\n",
      "\n",
      "[Summary]:\n",
      "\n",
      "\n",
      "A patient undergoing Proton therapy had their treatment plan transitioned into a Photon therapy plan using the Acuros PT 2.0 software. The plan did not include a Dose-Volume Histogram (DVH) or a Doctor of Medicine (DO) in the calculation. The plan was then recalculated using the Acuros XB software, but there were no modifications to the initial plan.\n",
      "\n",
      "\n",
      "[Evaluation]:\n",
      "\n",
      "\n",
      "Evaluation: Similar\n",
      "\n",
      "Explanation: The summary accurately captures the main points of the narrative, including the transition from Proton therapy to Photon therapy, the use of Acuros PT 2.0 and XB software, and the absence of a DVH or DO in the plan calculation. However, the summary incorrectly states that there was no Doctor of Medicine (DO) in the plan when the narrative actually specifies that there was no \"DO\" in the plan, which likely refers to a different term or abbreviation rather than a medical doctor. Nonetheless, the overall meaning and message conveyed by both texts are similar.\n",
      "\n"
     ]
    },
    {
     "name": "stderr",
     "output_type": "stream",
     "text": [
      "\n",
      "\n",
      "\n",
      "\u001b[A\u001b[A\u001b[A"
     ]
    },
    {
     "name": "stdout",
     "output_type": "stream",
     "text": [
      "\n",
      "[Success] Evaluation for model 'mixtral' successfully generated for key: event:51612\n",
      "\n",
      "[Narrative]:\n",
      "The patient device was indexed wrong so therefore one of his PA fields was delivered thru the wedge on the table.  Physics is doing a calculation to verify dose delivered.\n",
      "\n",
      "\n",
      "[Summary]:\n",
      "\n",
      "\n",
      "A medical device belonging to a patient was incorrectly indexed, resulting in one of its PA fields being transmitted through a table wedge instead. The physics team is currently conducting calculations to confirm the accuracy of the dose that was delivered.\n",
      "\n",
      "\n",
      "[Evaluation]:\n",
      "\n",
      "\n",
      "Evaluation: Identical\n",
      "\n",
      "Explanation: The summary accurately reflects the narrative by stating that a patient's device was incorrectly indexed, resulting in a PA field being transmitted through a table wedge and that the physics team is verifying the dose delivered. Both the narrative and the summary convey the same meaning and use similar language to describe the situation.\n",
      "\n"
     ]
    },
    {
     "name": "stderr",
     "output_type": "stream",
     "text": [
      "\n",
      "\n",
      "\n",
      "\u001b[A\u001b[A\u001b[A"
     ]
    },
    {
     "name": "stdout",
     "output_type": "stream",
     "text": [
      "\n",
      "[Success] Evaluation for model 'mixtral' successfully generated for key: event:39334\n",
      "\n",
      "[Narrative]:\n",
      "No fields on DRRs. Delay of treatment.\n",
      "\n",
      "\n",
      "[Summary]:\n",
      "\n",
      "\n",
      "There were no relevant data fields present in the Digital Radiology Reports (DRRs), resulting in a delay of treatment.\n",
      "\n",
      "\n",
      "[Evaluation]:\n",
      "\n",
      "\n"
     ]
    },
    {
     "name": "stderr",
     "output_type": "stream",
     "text": [
      "\n",
      "\n",
      "\n",
      "\u001b[A\u001b[A\u001b[A"
     ]
    },
    {
     "name": "stdout",
     "output_type": "stream",
     "text": [
      "\n",
      "[Success] Evaluation for model 'mixtral' successfully generated for key: event:59564\n",
      "\n",
      "[Narrative]:\n",
      "Proton simulation was completed and the wrong planner was attached to the whiteboard.\n",
      "\n",
      "\n",
      "[Summary]:\n",
      "\n",
      "\n",
      "A simulation using Proton was finished. An incorrect planner was placed on the whiteboard.\n",
      "\n",
      "\n",
      "[Evaluation]:\n",
      "\n",
      "\n",
      "Grade: Identical\n",
      "\n",
      "Explanation: The narrative and the generated summary convey the same information. Both mention that a Proton simulation was completed and an incorrect planner was attached to the whiteboard. The order of the mentioned events is different, but it does not affect the overall meaning.\n",
      "\n"
     ]
    },
    {
     "name": "stderr",
     "output_type": "stream",
     "text": [
      "\n",
      "\n",
      "\n",
      "\u001b[A\u001b[A\u001b[A"
     ]
    },
    {
     "name": "stdout",
     "output_type": "stream",
     "text": [
      "\n",
      "[Success] Evaluation for model 'mixtral' successfully generated for key: event:48030\n",
      "\n",
      "[Narrative]:\n",
      "New Start was not Treatment Approved before getting on the table for Treatment. There was no printed Supplement in the chart, and there were no QA CT's Scheduled for the patient in Sim.\n",
      "\n",
      "\n",
      "[Summary]:\n",
      "\n",
      "\n",
      "An unapproved New Start treatment was presented without a corresponding printed supplement or scheduled Quality Assurance Computed Tomography scans for a patient in the simulation environment.\n",
      "\n",
      "\n",
      "[Evaluation]:\n",
      "\n",
      "\n"
     ]
    },
    {
     "name": "stderr",
     "output_type": "stream",
     "text": [
      "\n",
      "\n",
      "\n",
      "\u001b[A\u001b[A\u001b[A"
     ]
    },
    {
     "name": "stdout",
     "output_type": "stream",
     "text": [
      "\n",
      "[Success] Evaluation for model 'mixtral' successfully generated for key: event:55199\n",
      "\n",
      "[Narrative]:\n",
      "Physics plan check and PSQA entered into Power Chart within an hour of radiosurgery patient starting.  The Therapy Pre-check was not available until the day of treatment allowing less than one hour to complete printing of documents, plan review, and all therapy pre-checks.  Contacted SRS Physicist at 6:30am to complete the physics items and make the Therapy Pre-check available in ARIA.  Patient scheduled for 8am.\n",
      "\n",
      "\n",
      "[Summary]:\n",
      "\n",
      "\n",
      "A physics plan check and PSQA were entered into Power Chart within an hour of a radiosurgery patient's start time. The Therapy Pre-check was not accessible until the day of treatment, resulting in less than one hour to complete document printing, plan review, and all therapy pre-checks. An SRS Physicist was contacted at 6:30am to finish the physics tasks and make the Therapy Pre-check available in ARIA. The patient's appointment was scheduled for 8am.\n",
      "\n",
      "\n",
      "[Evaluation]:\n",
      "\n",
      "\n",
      "Evaluation: Identical\n",
      "\n",
      "Explanation: The generated summary accurately captures the main points of the narrative, including the timing of the physics plan check and PSQA, the late availability of the Therapy Pre-check, the rushed nature of completing various tasks, and the contact with the SRS Physicist. The language used in the summary is very similar to that of the narrative, making it clear that the meaning has been accurately conveyed.\n",
      "\n"
     ]
    },
    {
     "name": "stderr",
     "output_type": "stream",
     "text": [
      "\n",
      "\n",
      "\n",
      "\u001b[A\u001b[A\u001b[A"
     ]
    },
    {
     "name": "stdout",
     "output_type": "stream",
     "text": [
      "\n",
      "[Success] Evaluation for model 'mixtral' successfully generated for key: event:72400\n",
      "\n",
      "[Narrative]:\n",
      "Short notice for scheduling: patient was simulated on 4/6/23.  Message sent at 3:22pm on 4/24/23 to start ASAP.  Patient scheduled to start treatment on 4/25/23 at 10am.  Plan was not treatment approved by 8:15am as of 4/25/23.  Had to coordinate CIED interrogation for pacemaker.\n",
      "\n",
      "\n",
      "[Summary]:\n",
      "\n",
      "\n",
      "On April 6, 2023, a patient underwent simulation. A message was sent at 3:22pm on April 24, requesting an immediate start of treatment. The patient's treatment was scheduled to begin on April 25, 2023, at 10am. However, the plan for the treatment had not been approved by 8:15am on that day. It was necessary to coordinate a CIED interrogation for a pacemaker.\n",
      "\n",
      "\n",
      "[Evaluation]:\n",
      "\n",
      "\n",
      "Evaluation: Identical\n",
      "\n",
      "Explanation: The generated summary accurately captures the main points of the narrative, including the date of simulation, the request for immediate treatment, the scheduled start time, the lack of plan approval by the specified time, and the need to coordinate a CIED interrogation for a pacemaker. The summary is concise and matches the meaning of the narrative closely, making it identical in this case.\n",
      "\n"
     ]
    },
    {
     "name": "stderr",
     "output_type": "stream",
     "text": [
      "\n",
      "\n",
      "\n",
      "\u001b[A\u001b[A\u001b[A"
     ]
    },
    {
     "name": "stdout",
     "output_type": "stream",
     "text": [
      "\n",
      "[Success] Evaluation for model 'mixtral' successfully generated for key: event:42321\n",
      "\n",
      "[Narrative]:\n",
      "Reference points dose limits were not entered for the treatment plan.  Physics noticed this during the physics plan check.  The values were entered by the physicist and confirmed by the dosimetrist.  On the plan pdf, the ref. point limits appeared to be entered but were not showing when physics was conducting the plan check.\n",
      "\n",
      "\n",
      "[Summary]:\n",
      "\n",
      "\n",
      "The physicist failed to input reference points dose limits in the treatment plan during its creation. This oversight was identified during a plan check conducted by the physics team. The dosimetrist and physicist both confirmed that the values had been intended to be entered but did not appear when the plan was being reviewed for accuracy. On the printed version of the plan, it seemed as though the reference points dose limits had been included, but they were in fact missing.\n",
      "\n",
      "\n",
      "[Evaluation]:\n",
      "\n",
      "\n",
      "Evaluation: Identical\n",
      "\n",
      "Explanation: The generated summary accurately reflects the narrative by stating that the physicist failed to input reference points dose limits in the treatment plan and that this oversight was identified during a plan check conducted by the physics team. The summary also correctly mentions that both the dosimetrist and physicist confirmed that the values had been intended to be entered but did not appear when the plan was being reviewed for accuracy, and that on the printed version of the plan, it seemed as though the reference points dose limits had been included, but they were in fact missing. The summary accurately captures the meaning of the narrative and there are no discrepancies between the two.\n",
      "\n"
     ]
    },
    {
     "name": "stderr",
     "output_type": "stream",
     "text": [
      "\n",
      "\n",
      "\n",
      "\u001b[A\u001b[A\u001b[A"
     ]
    },
    {
     "name": "stdout",
     "output_type": "stream",
     "text": [
      "\n",
      "[Success] Evaluation for model 'mixtral' successfully generated for key: event:76924\n",
      "\n",
      "[Narrative]:\n",
      "Prescription notes state - 64 yo M w/ cT2N1b SCC of the anus. Planning concurrent chemoRT w/ 5-FU/MMC for primary plan but then state - No prior RT.     39 yoF with cT3N1 anal SCC. Planning concurrent chemoradiation for sequential boost plans. The patient is in fact a 39 yo female.\n",
      "\n",
      "\n",
      "[Summary]:\n",
      " The event describes two separate cases of individuals, one being a 64-year-old male (M) and the other a 39-year-old female (F), both diagnosed with squamous cell carcinoma (SCC) of the anus. For the first case, the prescription notes indicate that the patient is planning for concurrent chemoradiation therapy (chemoRT) using 5-FU and MMC as primary treatment, but there is no prior history of radiation therapy (RT). In the second case, a 39-year-old female is also planning for concurrent chemoradiation therapy, but this time for sequential boost plans. No other information about their medical histories or conditions is provided in the narrative.\n",
      "\n",
      "\n",
      "[Evaluation]:\n",
      "\n",
      "\n",
      "Grade: Identical\n",
      "\n",
      "Explanation: The generated summary accurately reflects the meaning of the narrative. It correctly identifies two separate cases of individuals diagnosed with squamous cell carcinoma (SCC) of the anus, and provides details about their treatment plans, including the use of concurrent chemoradiation therapy and the absence of prior radiation therapy for the first case. The summary also notes that no other information is provided in the narrative, which is consistent with the original text. Overall, the summary accurately conveys the key points of the narrative and matches its meaning closely, making it an identical match.\n",
      "\n"
     ]
    },
    {
     "name": "stderr",
     "output_type": "stream",
     "text": [
      "\n",
      "\n",
      "\n",
      "\u001b[A\u001b[A\u001b[A"
     ]
    },
    {
     "name": "stdout",
     "output_type": "stream",
     "text": [
      "\n",
      "[Success] Evaluation for model 'mixtral' successfully generated for key: event:77469\n",
      "\n",
      "[Narrative]:\n",
      "Respiratory Motion Management task requested at TKC for HSROC treatment. Patient simmed at TKC but treated at HSROC. This ruins the distribution of work for physics PODs.\n",
      "\n",
      "\n",
      "[Summary]:\n",
      "\n",
      "\n",
      "A request was made at TKC for managing respiratory motion during a treatment called HSROC. However, the patient underwent the treatment not at TKC but at HSROC instead. Consequently, this situation disrupted the work distribution for the physics teams at TKC.\n",
      "\n",
      "\n",
      "[Evaluation]:\n",
      "\n",
      "\"Similar\n",
      "\n",
      "The summary accurately captures the main points of the narrative, including the request for respiratory motion management during an HSROC treatment, the patient being simulated at TKC but treated at HSROC, and the resulting disruption to the work distribution for physics teams. However, the summary uses slightly different wording than the narrative, which is why I have rated it as 'Similar' rather than 'Identical'.\"\n",
      "\n"
     ]
    }
   ],
   "source": [
    "# Import the RedisManager class from your Python script\n",
    "from redis_class import RedisManager\n",
    "\n",
    "# Create an instance of the RedisManager class\n",
    "manager = RedisManager()\n",
    "\n",
    "# Check if the Redis connection was successfully created\n",
    "if manager.redis_conn:\n",
    "    # Clear model data\n",
    "    # manager.clear_model_data(model_name=\"mixtral\", field_name=\"LLM Evaluations\")\n",
    "\n",
    "    # Generate summaries\n",
    "    # manager.generate_summaries()\n",
    "\n",
    "    # Generate evaluations\n",
    "    manager.evaluate_summaries(resume=False)\n",
    "\n",
    "    # Create Excel from Redis\n",
    "    manager.create_excel_from_redis()\n",
    "else:\n",
    "    print(\"Failed to connect to Redis server.\")\n"
   ]
  }
 ],
 "metadata": {
  "kernelspec": {
   "display_name": "iRoils",
   "language": "python",
   "name": "python3"
  },
  "language_info": {
   "codemirror_mode": {
    "name": "ipython",
    "version": 3
   },
   "file_extension": ".py",
   "mimetype": "text/x-python",
   "name": "python",
   "nbconvert_exporter": "python",
   "pygments_lexer": "ipython3",
   "version": "3.12.1"
  }
 },
 "nbformat": 4,
 "nbformat_minor": 2
}
