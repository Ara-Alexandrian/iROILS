{
 "cells": [
  {
   "cell_type": "code",
   "execution_count": 1,
   "metadata": {},
   "outputs": [
    {
     "data": {
      "application/vnd.jupyter.widget-view+json": {
       "model_id": "f057152acb4d4721a3374066d2e38a93",
       "version_major": 2,
       "version_minor": 0
      },
      "text/plain": [
       "Generating Summaries:   0%|                                                                                   …"
      ]
     },
     "metadata": {},
     "output_type": "display_data"
    },
    {
     "data": {
      "application/vnd.jupyter.widget-view+json": {
       "model_id": "8bb51015802e4e409e1a186f829a8269",
       "version_major": 2,
       "version_minor": 0
      },
      "text/plain": [
       "Generating Evaluations:   0%|                                                                                 …"
      ]
     },
     "metadata": {},
     "output_type": "display_data"
    }
   ],
   "source": [
    "# Import the RedisManager class from your Python script\n",
    "from redis_class import RedisManager\n",
    "\n",
    "\n",
    "\n",
    "\n",
    "\n",
    "\n",
    "\n",
    "# Create an instance of the RedisManager class\n",
    "manager = RedisManager()\n",
    "manager.run_all_summaries_and_evaluations()\n",
    "\n",
    "\n"
   ]
  },
  {
   "cell_type": "code",
   "execution_count": null,
   "metadata": {},
   "outputs": [],
   "source": [
    "# Check if the Redis connection was successfully created\n",
    "if manager.redis_conn:\n",
    "    # Clear model data\n",
    "    # Uncomment the next line to clear specific model data\n",
    "    # manager.clear_model_data(model_name=\"mistral\", field_name=\"LLM Summary\")\n",
    "\n",
    "\n",
    "    # Generate summaries\n",
    "    # manager.generate_summaries(resume=False)\n",
    "    # generate_all_summaries\n",
    "\n",
    "    # Generate evaluations\n",
    "    # manager.evaluate_summaries(resume=False)\n",
    "\n",
    "    # Create Excel from Redis\n",
    "    manager.create_excel_from_redis()\n",
    "else:\n",
    "    print(\"Failed to connect to Redis server.\")"
   ]
  },
  {
   "cell_type": "code",
   "execution_count": null,
   "metadata": {},
   "outputs": [],
   "source": [
    "# Import the RedisManager class from your Python script\n",
    "from redis_class import RedisManager\n",
    "\n",
    "\n",
    "# Create an instance of the RedisManager class\n",
    "manager = RedisManager()\n",
    "if manager.redis_conn:\n",
    "    # Specify the event id for the entry you want to re-evaluate\n",
    "    # event_id = ['59361', '38057', '38615', '75163', '72160', '45230', '43864', '61667', '61508', '53903', '44064', '64181', '69297', '37776', '74411', '38058', '46293', '56907', '38598', '60346', '39399', '39808']\n",
    "        \n",
    "    # event_id = ['39686', '78433', '41294', '39983', '38963', '43251', '60669', '39312', '49258']\n",
    "    # Regenerate the summary and evaluation for this event\n",
    "    \n",
    "\n",
    "    event_id = ['44066', '78404' ]\n",
    "\n",
    "    for ID in event_id:\n",
    "        manager.regenerate_summary_and_evaluation(ID, summary_model_name='mistral', eval_model_name='mixtral')\n",
    "\n",
    "    # Create Excel from Redis\n",
    "    manager.create_excel_from_redis()"
   ]
  }
 ],
 "metadata": {
  "kernelspec": {
   "display_name": "iRoils",
   "language": "python",
   "name": "python3"
  },
  "language_info": {
   "codemirror_mode": {
    "name": "ipython",
    "version": 3
   },
   "file_extension": ".py",
   "mimetype": "text/x-python",
   "name": "python",
   "nbconvert_exporter": "python",
   "pygments_lexer": "ipython3",
   "version": "3.9.18"
  }
 },
 "nbformat": 4,
 "nbformat_minor": 2
}
