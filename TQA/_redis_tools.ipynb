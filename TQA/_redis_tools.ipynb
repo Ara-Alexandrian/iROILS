{
 "cells": [
  {
   "cell_type": "code",
   "execution_count": null,
   "metadata": {},
   "outputs": [],
   "source": [
    "import pandas as pd\n",
    "import redis"
   ]
  },
  {
   "cell_type": "code",
   "execution_count": null,
   "metadata": {},
   "outputs": [],
   "source": [
    "# Load the data from Excel file\n",
    "excel_file_path = r'extracted.xlsx'  # Change this to your actual file path\n",
    "df = pd.read_excel(excel_file_path)\n",
    "\n",
    "# Assuming the Redis server is on localhost and the default port, with no password\n",
    "# Change these to your actual Redis server details\n",
    "\n",
    "redis_host = \"192.168.1.4\"\n",
    "redis_port = 6379\n",
    "redis_password = \"\""
   ]
  },
  {
   "cell_type": "code",
   "execution_count": null,
   "metadata": {},
   "outputs": [],
   "source": [
    "import pandas as pd\n",
    "import redis\n",
    "\n",
    "def connect_to_redis(redis_host, redis_port, redis_password):\n",
    "    try:\n",
    "        # Connect to Redis server\n",
    "        r = redis.StrictRedis(host=redis_host, port=redis_port, password=redis_password, decode_responses=True)\n",
    "        return r\n",
    "    except redis.exceptions.ConnectionError as e:\n",
    "        print(f\"Failed to connect to Redis server: {e}\")\n",
    "        return None\n",
    "\n",
    "def fetch_near_miss_events(r):\n",
    "    try:\n",
    "        # Use the SCAN command to fetch keys\n",
    "        near_miss_events = []\n",
    "        cursor = '0'\n",
    "        while True:\n",
    "            cursor, keys = r.scan(cursor=cursor, match='event:*', count=100)\n",
    "            for key in keys:\n",
    "                event_data = r.hgetall(key)\n",
    "                if event_data.get('104.Classification') == 'Near-miss' and len(near_miss_events) < 10:\n",
    "                    near_miss_events.append(event_data)\n",
    "                    if len(near_miss_events) == 10:\n",
    "                        break\n",
    "            if cursor == '0' or len(near_miss_events) == 10:\n",
    "                break  # Break when scan has returned to the start or we've found 10 events\n",
    "        return near_miss_events\n",
    "    except Exception as e:\n",
    "        print(e)\n",
    "\n",
    "def events_to_dataframe(near_miss_events):\n",
    "    # Convert the list of dictionaries to a pandas DataFrame\n",
    "    events_df = pd.DataFrame(near_miss_events)\n",
    "    return events_df\n",
    "\n",
    "# Fetch near miss events from Redis and store it in a DataFrame\n",
    "r = connect_to_redis(redis_host, redis_port, redis_password)\n",
    "if r is not None:\n",
    "    near_miss_events = fetch_near_miss_events(r)\n",
    "    events_df = events_to_dataframe(near_miss_events)\n",
    "\n",
    "    # Print the resulting DataFrame\n",
    "    print(events_df)\n"
   ]
  }
 ],
 "metadata": {
  "kernelspec": {
   "display_name": "iRoils",
   "language": "python",
   "name": "python3"
  },
  "language_info": {
   "codemirror_mode": {
    "name": "ipython",
    "version": 3
   },
   "file_extension": ".py",
   "mimetype": "text/x-python",
   "name": "python",
   "nbconvert_exporter": "python",
   "pygments_lexer": "ipython3",
   "version": "3.12.1"
  }
 },
 "nbformat": 4,
 "nbformat_minor": 2
}
