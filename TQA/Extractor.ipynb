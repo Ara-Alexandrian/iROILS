{
 "cells": [
  {
   "cell_type": "code",
   "execution_count": 12,
   "metadata": {},
   "outputs": [],
   "source": [
    "\"\"\" \n",
    "\n",
    "Extractor.ipynb\n",
    "\n",
    "This Jupyter notebook contains a Python class called HeaderSelector. The HeaderSelector class is used to read an Excel spreadsheet, display the headers in a user-friendly, natural language format, \n",
    "and allow the user to select multiple headers from a list. The selected headers are then used to create a new DataFrame, which is saved to a new Excel file. \n",
    "\n",
    "The class also includes methods to apply custom CSS styles to the widgets and the container of the widgets, providing an overall dark aesthetic.\n",
    "\n",
    "The notebook uses ipywidgets for creating interactive widgets, pandas for handling data, and the openpyxl library for reading and writing Excel files.\n",
    "\n",
    "This script follows the Pylint format and adheres to standard Python conventions for readability and maintainability.\n",
    "\n",
    "Author: [Ara Alexandrian] Date: [1/24/2024] \n",
    "\n",
    "\"\"\"\n",
    "\n",
    "# Importing necessary libraries\n",
    "import configparser\n",
    "import pandas as pd\n",
    "import ipywidgets as widgets\n",
    "from ipywidgets import Layout\n",
    "from IPython.display import display"
   ]
  },
  {
   "cell_type": "code",
   "execution_count": 15,
   "metadata": {},
   "outputs": [],
   "source": [
    "class HeaderSelector:\n",
    "    def __init__(self, spreadsheet_path):\n",
    "        # Load the spreadsheet into a DataFrame\n",
    "        self.df = pd.read_excel(spreadsheet_path)\n",
    "\n",
    "        # Strip any leading/trailing white spaces from column names\n",
    "        self.df.columns = self.df.columns.str.strip()\n",
    "\n",
    "        # Convert the column headers to natural language and keep a mapping of the original headers to the updated headers\n",
    "        self.original_headers = self.df.columns.tolist()\n",
    "        self.headers_mapping = {self.convert_to_natural_language(header): header for header in self.original_headers}\n",
    "\n",
    "        # Remove the \"Local_ID\" from the list of headers\n",
    "        self.headers = [header for header in self.headers_mapping.keys() if header != \"Local_ID\"]\n",
    "\n",
    "        # Initialize an empty list to store selected headers\n",
    "        self.selected_headers = []\n",
    "\n",
    "        # Create a SelectMultiple widget with the headers as options\n",
    "        self.listbox = widgets.SelectMultiple(options=self.headers, layout=Layout(height='300px', width='500px'))\n",
    "\n",
    "        # Create a Save button\n",
    "        self.save_button = widgets.Button(description='Save', button_style='success')\n",
    "\n",
    "        # Bind the on_save_clicked method to the button's on_click event\n",
    "        self.save_button.on_click(self.on_save_clicked)\n",
    "\n",
    "        # Create a container for the listbox and the save button\n",
    "        self.container = widgets.VBox([self.listbox, self.save_button])\n",
    "\n",
    "    def on_save_clicked(self, button):\n",
    "        # Get the selected headers\n",
    "        self.selected_headers = list(self.listbox.value)\n",
    "\n",
    "        # Convert the selected headers back to their original format\n",
    "        original_selected_headers = [self.headers_mapping[header] for header in self.selected_headers]\n",
    "\n",
    "        # Check if all selected headers are in the DataFrame\n",
    "        if set(original_selected_headers).issubset(self.original_headers):\n",
    "            # Create a new DataFrame with only the selected headers\n",
    "            new_df = self.df[original_selected_headers]\n",
    "\n",
    "            # Rename the columns in the new DataFrame to the updated format\n",
    "            new_df.columns = self.selected_headers\n",
    "\n",
    "            # Save the new DataFrame to an Excel file\n",
    "            new_df.to_excel('extracted.xlsx', index=False)\n",
    "\n",
    "            print(\"Success! The selected headers have been saved to extracted.xlsx\")\n",
    "        else:\n",
    "            print(\"Error: Some selected headers are not in the DataFrame\")\n",
    "\n",
    "    def convert_to_natural_language(self, header):\n",
    "        # Convert the header to natural language\n",
    "        converted_header = header.split('.')[-1]\n",
    "        return converted_header\n"
   ]
  },
  {
   "cell_type": "code",
   "execution_count": 17,
   "metadata": {},
   "outputs": [
    {
     "name": "stdout",
     "output_type": "stream",
     "text": [
      "DataFrame headers: ['Event Number', 'Date_Time_Submitted', 'Classification', 'Location_Sub', 'Narrative', 'Tx_Technique', 'Tag/Topic', 'Reporter_Name', 'Discoverer_Role', 'Narrative_Supplemental', 'Event_Title']\n"
     ]
    },
    {
     "data": {
      "application/vnd.jupyter.widget-view+json": {
       "model_id": "3b8aaea340d1417a99a2f4938bd1f6b2",
       "version_major": 2,
       "version_minor": 0
      },
      "text/plain": [
       "VBox(children=(SelectMultiple(layout=Layout(height='300px', width='500px'), options=('Event Number', 'Date_Tim…"
      ]
     },
     "metadata": {},
     "output_type": "display_data"
    },
    {
     "name": "stdout",
     "output_type": "stream",
     "text": [
      "Success! The selected headers have been saved to extracted.xlsx\n"
     ]
    }
   ],
   "source": [
    "# Read the config.ini file\n",
    "config = configparser.ConfigParser()\n",
    "config.read('config.ini')\n",
    "\n",
    "header_selector = HeaderSelector(config['SPREADSHEET']['FILE_PATH'])\n",
    "print(\"DataFrame headers:\", header_selector.headers)\n",
    "display(header_selector.container)"
   ]
  }
 ],
 "metadata": {
  "kernelspec": {
   "display_name": "iRoils",
   "language": "python",
   "name": "python3"
  },
  "language_info": {
   "codemirror_mode": {
    "name": "ipython",
    "version": 3
   },
   "file_extension": ".py",
   "mimetype": "text/x-python",
   "name": "python",
   "nbconvert_exporter": "python",
   "pygments_lexer": "ipython3",
   "version": "3.12.1"
  }
 },
 "nbformat": 4,
 "nbformat_minor": 2
}
